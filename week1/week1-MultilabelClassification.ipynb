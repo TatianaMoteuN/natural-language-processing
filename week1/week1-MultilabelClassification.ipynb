{
 "cells": [
  {
   "cell_type": "markdown",
   "metadata": {},
   "source": [
    "# Predict tags on StackOverflow with linear models"
   ]
  },
  {
   "cell_type": "markdown",
   "metadata": {},
   "source": [
    "In this assignment you will learn how to predict tags for posts from [StackOverflow](https://stackoverflow.com). To solve this task you will use multilabel classification approach.\n",
    "\n",
    "### Libraries\n",
    "\n",
    "In this task you will need the following libraries:\n",
    "- [Numpy](http://www.numpy.org) — a package for scientific computing.\n",
    "- [Pandas](https://pandas.pydata.org) — a library providing high-performance, easy-to-use data structures and data analysis tools for the Python\n",
    "- [scikit-learn](http://scikit-learn.org/stable/index.html) — a tool for data mining and data analysis.\n",
    "- [NLTK](http://www.nltk.org) — a platform to work with natural language."
   ]
  },
  {
   "cell_type": "markdown",
   "metadata": {},
   "source": [
    "### Data\n",
    "\n",
    "The following cell will download all data required for this assignment into the folder `week1/data`."
   ]
  },
  {
   "cell_type": "code",
   "execution_count": 1,
   "metadata": {},
   "outputs": [
    {
     "name": "stdout",
     "output_type": "stream",
     "text": [
      "File data/train.tsv is already downloaded.\n",
      "File data/validation.tsv is already downloaded.\n",
      "File data/test.tsv is already downloaded.\n",
      "File data/text_prepare_tests.tsv is already downloaded.\n"
     ]
    }
   ],
   "source": [
    "import sys\n",
    "sys.path.append(\"..\")\n",
    "from common.download_utils import download_week1_resources\n",
    "\n",
    "download_week1_resources()"
   ]
  },
  {
   "cell_type": "markdown",
   "metadata": {},
   "source": [
    "### Grading\n",
    "We will create a grader instance below and use it to collect your answers. Note that these outputs will be stored locally inside grader and will be uploaded to platform only after running submitting function in the last part of this assignment. If you want to make partial submission, you can run that cell any time you want."
   ]
  },
  {
   "cell_type": "code",
   "execution_count": 2,
   "metadata": {},
   "outputs": [],
   "source": [
    "from grader import Grader"
   ]
  },
  {
   "cell_type": "code",
   "execution_count": 3,
   "metadata": {},
   "outputs": [],
   "source": [
    "grader = Grader()"
   ]
  },
  {
   "cell_type": "markdown",
   "metadata": {},
   "source": [
    "### Text preprocessing"
   ]
  },
  {
   "cell_type": "markdown",
   "metadata": {},
   "source": [
    "For this and most of the following assignments you will need to use a list of stop words. It can be downloaded from *nltk*:"
   ]
  },
  {
   "cell_type": "code",
   "execution_count": 4,
   "metadata": {},
   "outputs": [
    {
     "name": "stderr",
     "output_type": "stream",
     "text": [
      "[nltk_data] Downloading package stopwords to /home/aims/nltk_data...\n",
      "[nltk_data]   Package stopwords is already up-to-date!\n"
     ]
    }
   ],
   "source": [
    "import nltk\n",
    "nltk.download('stopwords')\n",
    "from nltk.corpus import stopwords\n",
    "from nltk.tokenize import word_tokenize"
   ]
  },
  {
   "cell_type": "markdown",
   "metadata": {},
   "source": [
    "In this task you will deal with a dataset of post titles from StackOverflow. You are provided a split to 3 sets: *train*, *validation* and *test*. All corpora (except for *test*) contain titles of the posts and corresponding tags (100 tags are available). The *test* set is provided for Coursera's grading and doesn't contain answers. Upload the corpora using *pandas* and look at the data:"
   ]
  },
  {
   "cell_type": "code",
   "execution_count": 5,
   "metadata": {},
   "outputs": [],
   "source": [
    "from ast import literal_eval\n",
    "import pandas as pd\n",
    "import numpy as np\n",
    "import collections \n",
    "from collections import Counter\n",
    "from itertools import chain"
   ]
  },
  {
   "cell_type": "code",
   "execution_count": 6,
   "metadata": {},
   "outputs": [],
   "source": [
    "def read_data(filename):\n",
    "    data = pd.read_csv(filename, sep='\\t')\n",
    "    data['tags'] = data['tags'].apply(literal_eval)\n",
    "    return data"
   ]
  },
  {
   "cell_type": "code",
   "execution_count": 7,
   "metadata": {},
   "outputs": [],
   "source": [
    "train = read_data('data/train.tsv')\n",
    "validation = read_data('data/validation.tsv')\n",
    "test = pd.read_csv('data/test.tsv', sep='\\t')"
   ]
  },
  {
   "cell_type": "code",
   "execution_count": 8,
   "metadata": {},
   "outputs": [
    {
     "data": {
      "text/html": [
       "<div>\n",
       "<style scoped>\n",
       "    .dataframe tbody tr th:only-of-type {\n",
       "        vertical-align: middle;\n",
       "    }\n",
       "\n",
       "    .dataframe tbody tr th {\n",
       "        vertical-align: top;\n",
       "    }\n",
       "\n",
       "    .dataframe thead th {\n",
       "        text-align: right;\n",
       "    }\n",
       "</style>\n",
       "<table border=\"1\" class=\"dataframe\">\n",
       "  <thead>\n",
       "    <tr style=\"text-align: right;\">\n",
       "      <th></th>\n",
       "      <th>title</th>\n",
       "      <th>tags</th>\n",
       "    </tr>\n",
       "  </thead>\n",
       "  <tbody>\n",
       "    <tr>\n",
       "      <th>0</th>\n",
       "      <td>Why odbc_exec always fail?</td>\n",
       "      <td>[php, sql]</td>\n",
       "    </tr>\n",
       "    <tr>\n",
       "      <th>1</th>\n",
       "      <td>Access a base classes variable from within a c...</td>\n",
       "      <td>[javascript]</td>\n",
       "    </tr>\n",
       "    <tr>\n",
       "      <th>2</th>\n",
       "      <td>Content-Type \"application/json\" not required i...</td>\n",
       "      <td>[ruby-on-rails, ruby]</td>\n",
       "    </tr>\n",
       "    <tr>\n",
       "      <th>3</th>\n",
       "      <td>Sessions in Sinatra: Used to Pass Variable</td>\n",
       "      <td>[ruby, session]</td>\n",
       "    </tr>\n",
       "    <tr>\n",
       "      <th>4</th>\n",
       "      <td>Getting error - type \"json\" does not exist - i...</td>\n",
       "      <td>[ruby-on-rails, ruby, json]</td>\n",
       "    </tr>\n",
       "  </tbody>\n",
       "</table>\n",
       "</div>"
      ],
      "text/plain": [
       "                                               title  \\\n",
       "0                         Why odbc_exec always fail?   \n",
       "1  Access a base classes variable from within a c...   \n",
       "2  Content-Type \"application/json\" not required i...   \n",
       "3         Sessions in Sinatra: Used to Pass Variable   \n",
       "4  Getting error - type \"json\" does not exist - i...   \n",
       "\n",
       "                          tags  \n",
       "0                   [php, sql]  \n",
       "1                 [javascript]  \n",
       "2        [ruby-on-rails, ruby]  \n",
       "3              [ruby, session]  \n",
       "4  [ruby-on-rails, ruby, json]  "
      ]
     },
     "execution_count": 8,
     "metadata": {},
     "output_type": "execute_result"
    }
   ],
   "source": [
    "validation.head()"
   ]
  },
  {
   "cell_type": "markdown",
   "metadata": {},
   "source": [
    "As you can see, *title* column contains titles of the posts and *tags* column contains the tags. It could be noticed that a number of tags for a post is not fixed and could be as many as necessary."
   ]
  },
  {
   "cell_type": "markdown",
   "metadata": {},
   "source": [
    "For a more comfortable usage, initialize *X_train*, *X_val*, *X_test*, *y_train*, *y_val*."
   ]
  },
  {
   "cell_type": "code",
   "execution_count": 9,
   "metadata": {},
   "outputs": [],
   "source": [
    "X_train, y_train = train['title'].values, train['tags'].values\n",
    "X_val, y_val = validation['title'].values, validation['tags'].values\n",
    "X_test = test['title'].values"
   ]
  },
  {
   "cell_type": "code",
   "execution_count": 10,
   "metadata": {},
   "outputs": [
    {
     "data": {
      "text/plain": [
       "array([list(['r']), list(['php', 'mysql']), list(['c#']), ...,\n",
       "       list(['python', 'datetime', 'pandas']),\n",
       "       list(['javascript', 'jquery']), list(['java', 'list', 'generics'])],\n",
       "      dtype=object)"
      ]
     },
     "execution_count": 10,
     "metadata": {},
     "output_type": "execute_result"
    }
   ],
   "source": [
    "y_train = train['tags'].values\n",
    "y_train"
   ]
  },
  {
   "cell_type": "markdown",
   "metadata": {},
   "source": [
    "One of the most known difficulties when working with natural data is that it's unstructured. For example, if you use it \"as is\" and extract tokens just by splitting the titles by whitespaces, you will see that there are many \"weird\" tokens like *3.5?*, *\"Flip*, etc. To prevent the problems, it's usually useful to prepare the data somehow. In this task you'll write a function, which will be also used in the other assignments. \n",
    "\n",
    "**Task 1 (TextPrepare).** Implement the function *text_prepare* following the instructions. After that, run the function *test_text_prepare* to test it on tiny cases and submit it to Coursera."
   ]
  },
  {
   "cell_type": "code",
   "execution_count": 12,
   "metadata": {},
   "outputs": [],
   "source": [
    "import re"
   ]
  },
  {
   "cell_type": "code",
   "execution_count": 13,
   "metadata": {},
   "outputs": [],
   "source": [
    "REPLACE_BY_SPACE_RE = re.compile('[/(){}\\[\\]\\|@,;]')\n",
    "BAD_SYMBOLS_RE = re.compile('[^0-9a-z #+_]')\n",
    "STOPWORDS = set(stopwords.words('english'))\n",
    "\n",
    "def text_prepare(text):\n",
    "    \"\"\"\n",
    "        text: a string\n",
    "        \n",
    "        return: modified initial string\n",
    "    \"\"\"\n",
    "    text = text.lower() # lowercase text\n",
    "    text = REPLACE_BY_SPACE_RE.sub(\" \",text)# replace REPLACE_BY_SPACE_RE symbols by space in text\n",
    "    text = BAD_SYMBOLS_RE.sub(\"\",text)# delete symbols which are in BAD_SYMBOLS_RE from text\n",
    "    token_word=word_tokenize(text)\n",
    "    text= [w for w in token_word if not w in STOPWORDS]# delete stopwords from text\n",
    "    lenght_of_string=len(text)\n",
    "    text_new=\"\"\n",
    "    for w in text:\n",
    "        if w!=text[lenght_of_string-1]:\n",
    "             text_new=text_new+w+\" \" # when w is not the last word so separate by whitespace\n",
    "        else:\n",
    "            text_new=text_new+w\n",
    "            \n",
    "    text = text_new\n",
    "    return text\n",
    "   # return  re.sub(r\" {2,}\", \" \", text.strip())"
   ]
  },
  {
   "cell_type": "code",
   "execution_count": 14,
   "metadata": {},
   "outputs": [],
   "source": [
    "def test_text_prepare():\n",
    "    examples = [\"SQL Server - any equivalent of Excel's CHOOSE function?\",\n",
    "                \"How to free c++ memory vector<int> * arr?\"]\n",
    "    answers = [\"sql server equivalent excels choose function\", \n",
    "               \"free c++ memory vectorint arr\"]\n",
    "    for ex, ans in zip(examples, answers):\n",
    "        if text_prepare(ex) != ans:\n",
    "            return \"Wrong answer for the case: '%s'\" % ex\n",
    "    return 'Basic tests are passed.'"
   ]
  },
  {
   "cell_type": "code",
   "execution_count": 15,
   "metadata": {},
   "outputs": [
    {
     "name": "stdout",
     "output_type": "stream",
     "text": [
      "Basic tests are passed.\n"
     ]
    }
   ],
   "source": [
    "print(test_text_prepare())"
   ]
  },
  {
   "cell_type": "markdown",
   "metadata": {},
   "source": [
    "Run your implementation for questions from file *text_prepare_tests.tsv* to earn the points."
   ]
  },
  {
   "cell_type": "code",
   "execution_count": 16,
   "metadata": {},
   "outputs": [
    {
     "name": "stdout",
     "output_type": "stream",
     "text": [
      "Current answer for task TextPrepare is:\n",
      " sqlite php readonly\n",
      "creating multiple textboxes dynamically\n",
      "self one prefer javascript\n",
      "save php date...\n"
     ]
    }
   ],
   "source": [
    "prepared_questions = []\n",
    "for line in open('data/text_prepare_tests.tsv', encoding='utf-8'):\n",
    "    line = text_prepare(line.strip())\n",
    "    prepared_questions.append(line)\n",
    "text_prepare_results = '\\n'.join(prepared_questions)\n",
    "\n",
    "grader.submit_tag('TextPrepare', text_prepare_results)"
   ]
  },
  {
   "cell_type": "markdown",
   "metadata": {},
   "source": [
    "Now we can preprocess the titles using function *text_prepare* and  making sure that the headers don't have bad symbols:"
   ]
  },
  {
   "cell_type": "code",
   "execution_count": 17,
   "metadata": {},
   "outputs": [],
   "source": [
    "X_train = [text_prepare(x) for x in X_train]\n",
    "X_test = [text_prepare(x) for x in X_test]\n",
    "X_val = [text_prepare(x) for x in X_val]\n",
    "#y_train = [text_prepare(x) for x in y_train]\n",
    "# y_test = [text_prepare(x,',') for x in y_test]"
   ]
  },
  {
   "cell_type": "code",
   "execution_count": 18,
   "metadata": {},
   "outputs": [
    {
     "data": {
      "text/plain": [
       "['draw stacked dotplot r',\n",
       " 'mysql select records datetime field less specified value',\n",
       " 'terminate windows phone 81 app']"
      ]
     },
     "execution_count": 18,
     "metadata": {},
     "output_type": "execute_result"
    }
   ],
   "source": [
    "X_train[:3]"
   ]
  },
  {
   "cell_type": "markdown",
   "metadata": {},
   "source": [
    "For each tag and for each word calculate how many times they occur in the train corpus. \n",
    "\n",
    "**Task 2 (WordsTagsCount).** Find 3 most popular tags and 3 most popular words in the train data and submit the results to earn the points."
   ]
  },
  {
   "cell_type": "code",
   "execution_count": 19,
   "metadata": {},
   "outputs": [
    {
     "name": "stdout",
     "output_type": "stream",
     "text": [
      "Counter({'using': 856, 'c': 825, 'java': 571, 'php': 568, 'file': 492, 'get': 431, 'python': 425, 'javascript': 419, 'error': 402, 'array': 375, 'string': 367, 'value': 325, 'jquery': 323, 'data': 316, 'function': 291, 'class': 274, 'object': 263, 'use': 256, 'text': 208, 'multiple': 206, 'list': 205, 'method': 194, 'image': 190, 'rails': 184, 'create': 182, 'set': 181, 'page': 167, 'html': 166, 'mysql': 165, 'convert': 165, 'android': 163, 'working': 161, 'json': 160, 'way': 158, 'code': 158, 'values': 152, 'form': 151, 'database': 148, 'change': 148, 'type': 147, 'django': 147, 'one': 146, 'button': 146, 'application': 144, 'add': 142, 'windows': 140, 'find': 140, 'server': 140, 'variable': 139, 'without': 138, 'aspnet': 137, 'make': 134, 'two': 134, 'element': 132, 'check': 132, 'ajax': 131, 'ruby': 129, 'query': 129, 'call': 127, 'table': 127, 'getting': 126, 'xml': 126, 'app': 122, 'another': 122, 'custom': 118, 'files': 115, 'view': 114, 'user': 113, 'api': 111, 'inside': 109, 'input': 109, 'access': 109, 'event': 108, 'web': 107, 'spring': 104, 'load': 103, 'return': 101, 'work': 101, 'select': 100, 'objects': 98, 'remove': 98, 'url': 97, 'name': 96, 'framework': 95, 'sql': 95, 'wpf': 94, 'update': 94, 'google': 93, 'exception': 92, 'swift': 92, 'read': 92, 'display': 91, 'time': 90, 'row': 90, 'number': 89, 'mvc': 89, 'date': 89, 'loop': 88, 'r': 87, 'new': 87, 'run': 86, 'null': 86, 'creating': 84, 'key': 83, 'script': 82, 'linq': 81, 'different': 81, 'insert': 79, 'line': 78, 'open': 78, 'column': 77, 'post': 76, 'format': 76, 'cant': 76, 'field': 75, '2': 75, 'vbnet': 75, 'thread': 74, 'size': 74, 'net': 74, 'click': 74, 'doesnt': 74, 'path': 72, 'service': 72, 'project': 71, 'content': 71, 'property': 71, 'specific': 70, 'control': 70, '3': 69, 'vs': 69, 'model': 69, 'ios': 69, 'save': 69, 'undefined': 69, 'based': 68, 'angularjs': 68, 'first': 67, 'elements': 67, 'dynamically': 66, 'show': 65, 'window': 65, 'write': 65, 'div': 64, 'controller': 64, 'js': 64, 'selected': 64, 'entity': 63, 'test': 62, 'library': 62, 'found': 62, 'variables': 61, 'possible': 61, 'eclipse': 60, 'laravel': 60, 'parameters': 60, 'send': 60, 'parameter': 60, 'memory': 59, 'pass': 59, 'static': 59, 'map': 58, 'running': 58, 'connection': 58, 'default': 58, 'studio': 58, 'id': 58, 'program': 57, 'session': 57, 'delete': 57, 'codeigniter': 56, 'attribute': 56, 'best': 56, 'request': 56, 'rows': 56, 'reading': 56, 'difference': 56, 'css': 56, 'template': 55, 'dynamic': 55, 'numbers': 55, 'browser': 55, 'login': 55, 'output': 54, 'int': 54, 'could': 54, 'visual': 54, '4': 53, 'integer': 53, 'command': 53, 'item': 53, 'link': 53, 'current': 52, 'character': 52, 'regex': 52, 'excel': 51, 'iphone': 51, 'dropdown': 51, 'unable': 51, 'adding': 51, 'textbox': 51, 'returning': 51, 'empty': 51, 'within': 51, '1': 50, 'order': 50, 'nested': 49, 'issue': 49, 'passing': 49, 'single': 49, 'facebook': 48, 'instance': 48, 'via': 47, 'chrome': 47, 'http': 47, 'sending': 46, 'problem': 46, 'csv': 46, 'loading': 46, 'calling': 46, 'header': 45, 'replace': 45, 'returns': 45, 'reference': 45, 'validation': 45, 'images': 45, 'background': 45, 'characters': 45, 'strings': 44, 'hibernate': 44, 'failed': 44, 'submit': 43, 'client': 43, 'setting': 43, 'expression': 43, 'website': 43, 'start': 43, 'parse': 43, 'email': 43, 'pdf': 43, 'like': 43, 'console': 42, 'simple': 42, 'angular': 42, 'need': 42, 'programmatically': 42, 'search': 42, 'statement': 42, 'tag': 42, 'color': 42, 'index': 41, 'store': 41, 'methods': 41, 'install': 41, 'directory': 41, 'accessing': 41, 'print': 41, 'message': 41, 'bootstrap': 40, 'x': 40, 'wordpress': 39, 'properties': 39, 'double': 39, 'parsing': 39, 'arrays': 39, 'generate': 38, 'trying': 38, 'rest': 38, 'pandas': 38, 'sort': 38, 'syntax': 38, 'connect': 38, 'changing': 38, 'word': 38, 'child': 37, 'contains': 37, 'fields': 37, 'parent': 37, 'system': 37, 'canvas': 37, 'position': 37, 'vector': 37, 'datagridview': 37, 'extension': 37, 'arraylist': 37, 'download': 37, 'selenium': 37, 'redirect': 36, 'local': 36, 'cell': 36, 'datatable': 36, 'filter': 36, 'generic': 36, 'implement': 36, 'linux': 36, 'detect': 36, 'jsp': 36, 'functions': 36, 'hide': 35, 'char': 35, 'split': 35, 'columns': 35, 'version': 35, 'interface': 35, 'constructor': 35, 'forms': 35, 'module': 35, 'upload': 35, 'scroll': 35, 'action': 35, 'result': 35, 'classes': 34, 'datetime': 33, 'plugin': 33, 'dictionary': 33, 'screen': 33, 'folder': 33, 'invalid': 33, '0': 33, 'count': 33, 'errors': 33, 'box': 33, 'equivalent': 33, 'nodejs': 33, '7': 33, 'execute': 32, 'binary': 32, 'automatically': 32, 'updating': 32, 'menu': 32, 'random': 32, 'xcode': 32, 'maven': 32, 'gridview': 31, 'build': 31, 'source': 31, 'byte': 31, 'results': 31, 'label': 30, 'onclick': 30, 'created': 30, 'instead': 30, 'help': 30, 'checking': 30, 'regular': 30, 'must': 30, 'every': 30, 'process': 29, 'argument': 29, 'binding': 29, 'pointer': 29, 'include': 29, 'used': 29, 'checkbox': 29, 'socket': 29, 'certain': 29, 'whats': 29, 'last': 29, 'back': 29, 'tab': 29, 'cast': 29, 'selection': 29, 'servlet': 29, 'disable': 29, 'tomcat': 28, '8': 28, 'refresh': 28, 'group': 28, 'keep': 28, 'given': 28, 'dom': 28, 'match': 28, 'layout': 28, 'edit': 28, 'collection': 28, 'iframe': 28, 'structure': 28, 'location': 28, 'width': 28, 'many': 28, 'writing': 28, 'executing': 28, 'foreach': 28, 'external': 28, 'stop': 28, 'buttons': 28, 'converting': 28, 'items': 28, 'db': 28, 'package': 28, 'called': 27, 'import': 27, 'tables': 27, 'missing': 27, 'pattern': 27, 'unique': 27, 'bind': 27, 'drop': 27, 'maps': 27, 'password': 27, 'sdk': 27, 'handling': 27, '2d': 27, 'wcf': 27, 'defined': 27, 'wrong': 27, 'exists': 27, 'resource': 26, 'handle': 26, 'next': 26, 'global': 26, 'length': 26, 'configuration': 26, 'saving': 26, 'curl': 26, 'objectivec': 26, 'admin': 26, 'allow': 26, 'determine': 26, 'authentication': 26, 'enum': 26, 'jar': 26, 'copy': 26, 'stored': 26, 'arguments': 26, 'context': 26, 'ui': 25, 'apache': 25, 'dialog': 25, 'wont': 25, 'video': 25, '5': 25, 'address': 25, 'ie': 25, 'jpa': 25, 'mobile': 25, 'plot': 25, 'space': 25, 'boolean': 25, 'operator': 25, 'catch': 25, 'frame': 25, 'decimal': 25, 'keys': 25, 'conversion': 25, 'validate': 25, 'stream': 25, 'typeerror': 25, 'existing': 25, 'example': 25, 'response': 24, 'bar': 24, 'lists': 24, 'put': 24, 'graph': 24, 'join': 24, 'mac': 24, 'record': 24, 'even': 24, 'textarea': 24, 'height': 24, 'clicked': 24, 'component': 24, 'correctly': 24, 'installing': 24, 'runtime': 24, 'security': 24, 'encoding': 24, 'range': 24, 'duplicate': 24, 'showing': 24, 'popup': 24, 'types': 24, 'unit': 24, 'performance': 24, 'chart': 24, 'node': 24, 'warning': 24, 'large': 24, 'modal': 23, 'printing': 23, 'opencv': 23, 'fails': 23, 'os': 23, 'dataframe': 23, 'efficient': 23, 'member': 23, 'task': 23, 'dll': 23, 'cakephp': 23, 'fix': 23, 'qt': 23, 'animation': 23, 'html5': 23, 'pages': 23, 'exist': 23, 'displaying': 23, 'document': 23, 'active': 23, 'rspec': 22, 'close': 22, 'oracle': 22, 'resize': 22, 'utf8': 22, 'svg': 22, 'unexpected': 22, 'prevent': 22, 'lines': 22, 'merge': 22, 'controls': 22, 'works': 22, 'site': 22, 'attributes': 22, 'finding': 22, 'retrieve': 22, 'slow': 22, 'removing': 22, 'tree': 21, 'avoid': 21, 'top': 21, 'namespace': 21, 'style': 21, 'timeout': 21, 'gem': 21, 'hash': 21, 'firefox': 21, 'programming': 21, 'threads': 21, 'grid': 21, 'float': 21, 'testing': 21, 'radio': 21, 'bean': 21, 'always': 21, 'false': 21, 'mode': 21, 'netbeans': 21, 'unicode': 21, 'draw': 20, 'append': 20, 'names': 20, 'point': 20, 'matplotlib': 20, 'sorting': 20, 'callback': 20, 'implementation': 20, 'exceptions': 20, 'port': 20, 'main': 20, 'second': 20, 'gives': 20, 'changed': 20, 'storing': 20, 'initialize': 20, 'end': 20, 'making': 20, 'scope': 20, '2010': 20, 'swing': 20, 'relative': 20, 'dependency': 20, 'numpy': 20, '404': 20, 'per': 20, 'option': 20, 'usage': 19, 'jdbc': 19, 'algorithm': 19, 'correct': 19, 'zend': 19, 'target': 19, 'matrix': 19, 'auto': 19, 'case': 19, 'struct': 19, 'assign': 19, 'render': 19, 'compiler': 19, 'remote': 19, 'twitter': 19, 'token': 19, 'domain': 19, 'xpath': 19, 'contents': 19, 'true': 19, 'mean': 19, 'lambda': 19, 'uncaught': 19, 'alternative': 19, 'sum': 19, 'webservice': 19, 'base': 19, 'safe': 19, 'loaded': 19, 'razor': 18, 'objective': 18, 'unknown': 18, 'comma': 18, 'issues': 18, 'calculate': 18, 'n': 18, 'log': 18, 'services': 18, 'echo': 18, 'expected': 18, 'react': 18, 'device': 18, 'compare': 18, 'uiview': 18, 'times': 18, 'libraries': 18, 'design': 18, 'outside': 18, 'tags': 18, 'selecting': 17, 'long': 17, 'tkinter': 17, 'network': 17, 'extjs': 17, 'information': 17, 'state': 17, 'constant': 17, 'txt': 17, 'play': 17, 'trigger': 17, 'options': 17, 'ip': 17, 'requests': 17, 'jframe': 17, 'basic': 17, 'added': 17, 'handler': 17, 'sqlite': 17, '10': 17, 'combobox': 17, 'good': 17, 'events': 17, 'special': 17, 'mapping': 17, 'async': 17, 'uitableview': 17, 'cookie': 17, 'previous': 17, 'listbox': 17, 'engine': 17, 'listview': 17, 'fill': 17, 'phone': 16, 'keyboard': 16, 'ubuntu': 16, 'models': 16, 'development': 16, 'compile': 16, 'mouse': 16, 'recursive': 16, 'specify': 16, 'integration': 16, 'area': 16, 'winforms': 16, 'extract': 16, 'properly': 16, 'gui': 16, 'support': 16, 'magento': 16, 'generated': 16, 'virtual': 16, 'links': 16, '20': 16, 'comparing': 16, 'ms': 16, 'extracting': 16, '6': 16, 'full': 16, 'force': 16, 'etc': 16, 'restful': 16, 'mail': 15, 'shell': 15, 'required': 15, 'configure': 15, 'changes': 15, 'flask': 15, 'datagrid': 15, 'boot': 15, 'sqlalchemy': 15, 'jaxb': 15, 'serialize': 15, 'native': 15, 'core': 15, 'const': 15, 'iis': 15, 'assembly': 15, 'logging': 15, 'letter': 15, 'fatal': 15, 'datepicker': 15, 'scrolling': 15, 'part': 15, 'webdriver': 15, 'mysqli': 15, 'try': 15, 'heroku': 15, 'navigation': 15, 'across': 15, 'foreign': 15, 'already': 15, 'permission': 15, 'game': 15, 'soap': 15, 'move': 15, 'numeric': 15, 'alert': 15, 'uploading': 14, 'clear': 14, 'inheritance': 14, 'sockets': 14, 'month': 14, 'export': 14, 'proxy': 14, 'switch': 14, 'views': 14, 'notification': 14, 'panel': 14, 'standard': 14, 'symfony': 14, 'left': 14, 'step': 14, 'right': 14, 'font': 14, 'javafx': 14, 'maximum': 14, 'hex': 14, 'linked': 14, 'procedure': 14, 'pdo': 14, 'jsf': 14, 'something': 14, 'mongodb': 14, 'cache': 14, 'bundle': 14, 'drawing': 14, 'symbol': 14, 'wait': 14, 'push': 14, 'know': 14, 'execution': 14, 'throws': 14, 'problems': 14, 'multidimensional': 14, 'dropdownlist': 14, 'records': 13, 'specified': 13, 'ssl': 13, 'better': 13, 'nodes': 13, 'ignore': 13, 'directive': 13, 'machine': 13, 'focus': 13, 'denied': 13, 'jqgrid': 13, 'serialization': 13, 'extend': 13, 'entities': 13, 'visible': 13, 'calendar': 13, 'relationship': 13, 'overriding': 13, 'container': 13, 'checkboxes': 13, 'tell': 13, 'private': 13, 'declare': 13, 'dates': 13, 'whole': 13, 'apply': 13, 'username': 13, 'want': 13, 'abstract': 13, 'reload': 13, 'opening': 13, 'nhibernate': 13, 'available': 13, 'setup': 13, 'block': 13, 'named': 13, 'generating': 13, 'condition': 13, 'fast': 13, 'language': 13, 'implementing': 13, 'xamarin': 13, 'poi': 12, 'progress': 12, 'repository': 12, 'bad': 12, 'editor': 12, 'reset': 12, 'separate': 12, 'href': 12, 'nsstring': 12, 'deploy': 12, 'users': 12, 'nil': 12, 'tuple': 12, 'tabs': 12, 'status': 12, 'timer': 12, 'ggplot2': 12, 'body': 12, 'returned': 12, 'yii': 12, 'initialization': 12, 'driver': 12, 'enable': 12, 'dont': 12, 'gmail': 12, 'scripts': 12, 'batch': 12, 'calls': 12, 'bound': 12, 'clicking': 12, 'jackson': 12, 'particular': 12, 'injection': 12, 'opengl': 12, 'queries': 12, 'tests': 12, 'hashmap': 12, 'entry': 12, 'would': 12, 'declaration': 12, 'urls': 12, 'primary': 12, 'mvvm': 12, 'behind': 12, 'isnt': 12, 'resolve': 12, 'escape': 12, 'processes': 12, 'inserting': 12, 'ipad': 11, 'fetch': 11, 'encryption': 11, 'year': 11, 'casting': 11, 'autocomplete': 11, 'old': 11, 'exe': 11, 'report': 11, 'symfony2': 11, 'gradle': 11, 'generics': 11, 'serial': 11, 'declared': 11, 'apps': 11, 'leak': 11, 'gwt': 11, 'cpu': 11, 'complex': 11, 'rendering': 11, 'widget': 11, 'compiling': 11, 'shared': 11, 'see': 11, 'filtering': 11, 'concatenate': 11, 'side': 11, 'definition': 11, 'webbrowser': 11, 'big': 11, 'debugging': 11, 'zip': 11, 'ie9': 11, 'bug': 11, 'starting': 11, 'override': 11, 'src': 11, 'self': 11, 'modify': 11, 'internet': 11, 'inline': 11, 'real': 11, 'reflection': 11, 'phonegap': 11, 'containing': 11, 'spaces': 11, 'members': 11, 'settings': 11, 'directly': 11, 'config': 11, 'conditional': 11, 'completely': 11, 'max': 11, 'doctrine': 11, 'treeview': 11, 'cocoa': 11, 'contain': 11, 'integers': 11, 'question': 11, 'limit': 11, 'debug': 11, 'sent': 11, 'present': 10, 'checked': 10, 'executable': 10, 'browsers': 10, 'intellij': 10, 'ie8': 10, 'separated': 10, 'player': 10, 'media': 10, 'osx': 10, 'phpmailer': 10, 'matching': 10, 'pygame': 10, 'define': 10, 'eval': 10, 'slider': 10, 'overloading': 10, 'statements': 10, 'proper': 10, 'day': 10, 'routing': 10, 'typescript': 10, 'nginx': 10, 'dict': 10, 'messages': 10, '500': 10, 'computer': 10, '3d': 10, 'incorrect': 10, 'audio': 10, 'factory': 10, 'sequence': 10, 'free': 10, 'caching': 10, 'still': 10, 'seconds': 10, 'give': 10, 'smtp': 10, 'absolute': 10, 'pointers': 10, 'partial': 10, 'root': 10, 'devise': 10, 'touch': 10, 'hover': 10, 'plotting': 10, 'ggplot': 10, 'invoke': 10, 'ionic': 10, 'stack': 10, 'templates': 10, 'digits': 10, 'tasks': 10, 'w': 10, 'resources': 10, 'failing': 10, 'increase': 10, 'tableview': 10, 'lock': 10, 'increment': 10, 'whether': 10, 'beautifulsoup': 10, 'crystal': 10, 'require': 10, 'crash': 10, 'anonymous': 10, 'cmake': 10, 'dataset': 10, 'jersey': 10, 'blob': 10, 'nsmutablearray': 10, 'parser': 10, 'img': 10, 'iterator': 10, 'youtube': 10, 'animate': 10, 'keyword': 10, 'details': 10, 'metadata': 10, 'connections': 10, 'tcp': 10, 'firing': 10, 'twice': 10, 'selector': 10, 'children': 9, 'operation': 9, 'copying': 9, 'operations': 9, 'distinct': 9, 'clause': 9, 'gets': 9, 'builder': 9, 'entries': 9, 'junit': 9, 'rvm': 9, 'mongoose': 9, 'comparison': 9, 'frames': 9, 'compilation': 9, 'restrict': 9, 'webpage': 9, 'host': 9, 'quotes': 9, 'expressions': 9, 'populate': 9, 'exec': 9, 'plain': 9, 'zero': 9, 'ant': 9, 'decode': 9, 'vb': 9, 'public': 9, 'faster': 9, 'fixed': 9, 'zoom': 9, '2012': 9, 'transaction': 9, 'pagination': 9, 'causes': 9, 'hidden': 9, 'jsonnet': 9, 'uiimage': 9, 'vertical': 9, 'go': 9, 'complete': 9, 'safari': 9, 'xaml': 9, 'hyperlink': 9, 'webview': 9, 'giving': 9, 'speed': 9, 'iterating': 9, 'localhost': 9, 'level': 9, 'production': 9, 'mockito': 9, 'unrecognized': 9, 'installed': 9, 'references': 9, 'feature': 9, 'multithreading': 9, 'downloading': 9, 'rather': 9, 'queue': 9, 'desktop': 9, 'really': 9, 'rotate': 9, 'related': 9, 'headers': 9, 'throwing': 9, 'equal': 9, 's3': 9, 'simplest': 9, 'effect': 9, 'hiding': 9, 'graphics': 9, 'illegal': 9, 'understanding': 9, 'boost': 9, 'colors': 9, 'environment': 9, 'fastest': 9, 'https': 9, 'requires': 9, 'instances': 9, 'capybara': 9, 'flash': 9, 'deleting': 9, 'pair': 9, 'delegates': 9, 'success': 9, 'v3': 9, 'prototype': 8, 'enter': 8, 'singleton': 8, 'inner': 8, 'com': 8, 'listener': 8, 'needed': 8, 'searching': 8, 'odd': 8, 'alternatives': 8, 'similar': 8, 'joomla': 8, 'sms': 8, 'takes': 8, 'well': 8, 'includes': 8, 'mask': 8, 'params': 8, 'highlighting': 8, 'uiimageview': 8, 'generator': 8, 'creation': 8, 'horizontal': 8, 'arduino': 8, 'stl': 8, 'optional': 8, 'backbonejs': 8, 'weird': 8, 'parallel': 8, 'httpwebrequest': 8, 'logged': 8, 'protocol': 8, 'icon': 8, 'refreshing': 8, 'constraint': 8, 'groups': 8, 'javalangnoclassdeffounderror': 8, 'derived': 8, 'non': 8, 'take': 8, 'blocks': 8, 'thrown': 8, 'violation': 8, 'bit': 8, 'live': 8, 'common': 8, 'title': 8, 'textboxes': 8, 'posting': 8, 'programatically': 8, 'oauth': 8, 'trouble': 8, 'encrypt': 8, 'jars': 8, 'nunit': 8, 'anchor': 8, 'linking': 8, 'route': 8, 'break': 8, 'highcharts': 8, 'locale': 8, 'lazy': 8, 'unsigned': 8, 'waiting': 8, 'bottom': 8, 'idea': 8, '11': 8, 'mvc3': 8, 'share': 8, 'practice': 8, 'solution': 8, 'strange': 8, 'controllers': 8, 'appending': 8, 'valid': 8, 'turn': 8, 'struts2': 8, 'cross': 8, 'cloud': 8, 'amount': 8, 'appear': 8, 'timestamp': 8, 'repeater': 8, 'ienumerable': 8, 'datasource': 8, 'paths': 8, 'capture': 8, 'bytes': 8, 'minutes': 8, 'sorted': 8, 'cucumber': 8, 'following': 8, 'management': 8, 'including': 8, 'exit': 8, 'section': 8, '2008': 8, 'posts': 8, 'breaks': 8, 'points': 8, 'loops': 8, 'cells': 8, 'causing': 8, 'constructors': 8, 'amazon': 8, 'expects': 8, 'processing': 8, 'subclass': 8, 'routes': 8, 'classpath': 8, 'listt': 8, 'normal': 8, 'phpmyadmin': 8, 'twig': 8, 'calculating': 8, 'gcc': 8, 'woocommerce': 8, 'knockoutjs': 8, 'pairs': 8, 'less': 7, 'terminate': 7, 'able': 7, 'modelform': 7, 'gson': 7, 'yii2': 7, 'backbone': 7, 'adapter': 7, '31': 7, 'fit': 7, 'constraints': 7, 'innerhtml': 7, 'blank': 7, 'projects': 7, 'brackets': 7, 'compatible': 7, 'iterators': 7, 'libgdx': 7, 'calculation': 7, 'void': 7, 'grouping': 7, '100': 7, 'shows': 7, 'manager': 7, 'catching': 7, 'textfield': 7, 'cause': 7, 'receiving': 7, 'connecting': 7, 'uninitialized': 7, 'got': 7, 'please': 7, 'high': 7, 'buffer': 7, '_post': 7, 'inputs': 7, 'merging': 7, 'postgresql': 7, 'deserialize': 7, 'drag': 7, 'randomly': 7, 'info': 7, 'heap': 7, 'updated': 7, 'postback': 7, 'iterate': 7, 'uibutton': 7, 'sub': 7, 'scheduled': 7, 'inserted': 7, 'activity': 7, '40': 7, 'track': 7, 'bool': 7, 'jpeg': 7, 'skip': 7, 'direct': 7, 'detection': 7, 'doc': 7, 'mock': 7, 'charts': 7, 'im': 7, 'datatables': 7, 'phpunit': 7, 'identity': 7, 'fragment': 7, 'infinite': 7, 'crashes': 7, 'reduce': 7, 'filename': 7, 'feed': 7, 'actually': 7, 'war': 7, 'according': 7, 'middle': 7, 'pipe': 7, 'declaring': 7, 'drive': 7, 'navigate': 7, 'region': 7, 'submitting': 7, 'primefaces': 7, 'signal': 7, 'swt': 7, 'websphere': 7, 'everything': 7, 'building': 7, 'footer': 7, 'uiscrollview': 7, 'asp': 7, 'uri': 7, 'dimensional': 7, 'place': 7, 'onchange': 7, 'head': 7, 'passed': 7, 'polygon': 7, 'bash': 7, 'base64': 7, 'tooltip': 7, 'cookies': 7, 'annotation': 7, 'schema': 7, 'tools': 7, 'behavior': 7, 'week': 7, 'overflow': 7, 'unresolved': 7, 'b': 7, 'reverse': 7, 'scala': 7, 'assignment': 7, 'padding': 7, 'descending': 7, 'applications': 7, 'exclude': 7, 'enums': 7, 'mp3': 7, 'anything': 7, 'communication': 7, 'lost': 7, 'equals': 7, 'detecting': 7, 'importerror': 7, 'sqlite3': 7, 'closing': 7, 'jenkins': 7, 'instantiate': 7, 'literal': 7, 'compiled': 7, 'splitting': 7, 'newline': 7, 'circle': 7, 'accept': 7, 'divs': 7, 'ef': 7, 'formatting': 7, 'tutorial': 7, 'ordered': 7, 'sets': 6, 'retrieving': 6, 'percentage': 6, 'axis': 6, 'requested': 6, 'retrofit': 6, 'mvc4': 6, 'collections': 6, 'valueerror': 6, 'encrypted': 6, 'applet': 6, 'd3': 6, 'needs': 6, 'conditionally': 6, 'prompt': 6, 'tinymce': 6, 'due': 6, 'li': 6, 'drupal': 6, 'perform': 6, 'delegate': 6, 'codebehind': 6, 'dispatcher': 6, 'words': 6, 'backend': 6, 'fired': 6, 'combine': 6, 'examples': 6, 'looking': 6, 'grab': 6, 'pip': 6, 'much': 6, 'manually': 6, 'job': 6, 'finished': 6, 'kendo': 6, 'symbols': 6, 'detected': 6, 'disabling': 6, 'ckeditor': 6, 'disadvantages': 6, 'sessions': 6, 'resizing': 6, 'rename': 6, 'uilabel': 6, 'streaming': 6, 'automatic': 6, 'referencing': 6, 'threejs': 6, 'localstorage': 6, 'wicket': 6, 'multi': 6, 'moving': 6, 'png': 6, 'arrow': 6, 'subtract': 6, 'overlay': 6, 'editable': 6, 'latest': 6, 'httpclient': 6, 'webapi': 6, 'deserialization': 6, 'online': 6, 'settimeout': 6, 'firebug': 6, 'debugger': 6, 'provider': 6, 'graphs': 6, 'account': 6, '30': 6, 'span': 6, 'started': 6, 'happens': 6, 'd3js': 6, 'uitextview': 6, '13': 6, 'cluster': 6, 'nonobject': 6, 'assertion': 6, 'recognize': 6, 'places': 6, 'learn': 6, 'pure': 6, 'databinding': 6, 'clean': 6, 'scraping': 6, 'frameworks': 6, 'immutable': 6, 'uicollectionview': 6, 'malloc': 6, 'makes': 6, 'dump': 6, 'ngrepeat': 6, 'identifier': 6, 'jvm': 6, 'confusion': 6, 'extended': 6, 'jtable': 6, 'border': 6, 'photo': 6, 'registry': 6, 'cancel': 6, 'silverlight': 6, 'annotations': 6, 'promise': 6, 'transparent': 6, 'activerecord': 6, 'shift': 6, 'matches': 6, 'reports': 6, 'ascii': 6, 'str': 6, 'credentials': 6, 'scanner': 6, 'implemented': 6, 'completed': 6, 'recursion': 6, 'xmlhttprequest': 6, 'role': 6, 'actions': 6, 'original': 6, 'downloaded': 6, 'jni': 6, 'product': 6, 'occurred': 6, 'offset': 6, 'shiny': 6, 'unix': 6, 'simulate': 6, 'scrapy': 6, 'camera': 6, '12': 6, 'nokogiri': 6, 'generation': 6, 'howto': 6, 'flow': 6, 'richtextbox': 6, 'appearing': 6, 'pycharm': 6, 'asynchronous': 6, 'emails': 6, 'extra': 6, 'uiviewcontroller': 6, 'register': 6, 'secure': 6, 'itextsharp': 6, 'master': 6, 'has_many': 6, 'disabled': 6, 'codes': 6, 'toggle': 6, 'ignored': 6, 'validator': 6, 'obtain': 6, 'paypal': 6, 'throw': 6, 'received': 6, 'queryset': 6, 'thumbnail': 6, 'initial': 6, 'underscore': 6, 'multiprocessing': 6, 'liststring': 6, 'around': 6, 'products': 6, 'initialized': 6, 'prefix': 6, 'lots': 6, 'formatted': 6, 'components': 6, 'xsd': 6, 'webclient': 6, 'python3': 6, 'hosting': 6, 'certificate': 6, 'explain': 6, 'markers': 6, 'preserve': 6, 'approach': 6, 'either': 6, 'sample': 6, 'hashes': 6, 'express': 6, 'scrollbar': 6, '16': 6, 'oop': 6, 'conditions': 6, 'rgb': 6, 'collapse': 6, 'country': 5, 'configuring': 5, 'levels': 5, 'springboot': 5, 'ios7': 5, 'attributeerror': 5, 'accesscontrolalloworigin': 5, 'slide': 5, 'bin': 5, 'bitmap': 5, 'displayed': 5, 'simultaneously': 5, 'deserializing': 5, 'architecture': 5, 'latitude': 5, 'longitude': 5, 'quickly': 5, 'serializing': 5, 'timezone': 5, 'pyqt': 5, 'bundler': 5, 'highest': 5, 'installation': 5, 'incompatible': 5, 'scipy': 5, 'commands': 5, 'lua': 5, 'verify': 5, 'milliseconds': 5, 'versus': 5, 'rectangle': 5, 'yet': 5, 'replacement': 5, 'npm': 5, 'moq': 5, 'cli': 5, 'realtime': 5, 'runs': 5, 'substring': 5, 'decimals': 5, 'ffmpeg': 5, '14': 5, 'currently': 5, 'enumeration': 5, 'winform': 5, 'microsoft': 5, '2007': 5, 'uiwebview': 5, 'linker': 5, 'prepared': 5, 'enabling': 5, 'logout': 5, 'serializable': 5, 'aborted': 5, 'initializing': 5, 'sinatra': 5, 'jaxws': 5, 'win32': 5, 'yaxis': 5, 'fine': 5, '2013': 5, 'loads': 5, 'sign': 5, 'applied': 5, 'allocated': 5, 'ok': 5, 'azure': 5, 'adonet': 5, 'swf': 5, 'groupby': 5, 'small': 5, 'keeping': 5, 'nsdictionary': 5, 'joda': 5, 'ifelse': 5, 'storyboard': 5, 'disappear': 5, 'duplicates': 5, 'else': 5, 'orderby': 5, 'cygwin': 5, 'swapping': 5, 'yes': 5, 'pc': 5, 'relation': 5, 'triggered': 5, 'transactions': 5, 'cms': 5, 'smooth': 5, 'jstl': 5, 'jtextfield': 5, 'jdk': 5, 'setter': 5, 'dialogs': 5, 'explorer': 5, '64': 5, 'scale': 5, 'slicing': 5, 'ways': 5, 'sometimes': 5, 'threading': 5, 'alphanumeric': 5, 'nsdate': 5, 'min': 5, 'fade': 5, 'uses': 5, 'reactjs': 5, 'usercontrol': 5, 'nothing': 5, 'plots': 5, 'actual': 5, 'td': 5, 'together': 5, 'wamp': 5, 'series': 5, 'windowopen': 5, 'remotely': 5, 'repeating': 5, 'javamail': 5, 'reloading': 5, 'installer': 5, 'editing': 5, 'looping': 5, 'panels': 5, 'threw': 5, 'shortcut': 5, 'repeated': 5, 'preventing': 5, 'negative': 5, 'nullpointerexception': 5, 'figure': 5, 'shadow': 5, 'taking': 5, 'ide': 5, '2015': 5, 'sharepoint': 5, 'release': 5, 'builtin': 5, 'linqtosql': 5, 'apis': 5, 'front': 5, '53': 5, 'eg': 5, 'constants': 5, 'validating': 5, 'stopped': 5, 'viewmodel': 5, 'arbitrary': 5, 'encode': 5, 'mq': 5, 'general': 5, 'category': 5, 'multithreaded': 5, 'resharper': 5, 'receive': 5, 'total': 5, 'raw': 5, 'backgroundworker': 5, 'manage': 5, 'databases': 5, 'ldap': 5, 'fetching': 5, 'primitive': 5, 'uploaded': 5, 'counting': 5, 'assets': 5, 'marker': 5, 'party': 5, 'ambiguous': 5, 'exporting': 5, 'deploying': 5, 'included': 5, 'also': 5, 'log4j': 5, 'unhandled': 5, 'center': 5, 'uitableviewcell': 5, 'ram': 5, 'twodimensional': 5, 'xna': 5, 'shape': 5, 'tr': 5, 'cron': 5, 'ordering': 5, 'datetimepicker': 5, 'choice': 5, 'wildcards': 5, 'known': 5, 'multiply': 5, '_get': 5, 'embedded': 5, 'synchronous': 5, 'querying': 5, 'girl': 5, 'restore': 5, 'auth': 5, 'made': 5, 'clicks': 5, 'gps': 5, 'channel': 5, 'coordinates': 5, 'cases': 5, 'starts': 5, 'invoking': 5, 'phpexcel': 5, 'rand': 5, 'none': 5, 'boxes': 5, 'streams': 5, 'subview': 5, 'entityframework': 5, 'permissions': 5, 'enabled': 5, 'referenceerror': 5, 'price': 5, 'histogram': 5, 'linear': 5, 'validations': 5, 'p': 5, 'highlight': 5, 'dictionaries': 5, 'pick': 5, 'migration': 5, 'lodash': 5, 'paperclip': 5, 'orm': 5, 'refused': 5, 'rotation': 5, 'htaccess': 5, 'additional': 5, 'categories': 5, 'matlab': 5, 'macro': 5, 'redirecting': 5, 'internal': 5, 'practices': 5, 'nameerror': 5, 'virtualenv': 5, 'easy': 5, 'initializer': 5, 'interval': 5, 'middleware': 5, 'fly': 5, 'rewrite': 5, 'rules': 5, 'sound': 5, 'gulp': 5, 'querystring': 5, 'progressbar': 5, 'behaviour': 5, 'pressed': 5, 'crop': 5, 'postgres': 5, 'outputting': 5, 'jboss': 5, 'deployment': 5, 'crashing': 5, 'grails': 5, 'replacing': 5, 'g': 5, 'packages': 5, 'digit': 5, 'recaptcha': 5, 'unload': 5, 'someone': 5, 'perl': 5, 'accessible': 5, 'jpg': 5, 'servers': 5, 'pythons': 5, 'manytomany': 5, 'storage': 5, 'json_encode': 5, 'final': 5, 'awesome': 4, 'various': 4, 'obtaining': 4, 'mingw': 4, 'pivot': 4, 'press': 4, 'openerp': 4, 'scaling': 4, 'implicitly': 4, 'busy': 4, 'cpp': 4, 'mfc': 4, 'associated': 4, 'managed': 4, 'usr': 4, 'resolution': 4, '9': 4, 'terminal': 4, 'documentgetelementbyid': 4, 'iqueryable': 4, 'uml': 4, 'versions': 4, 'dependent': 4, 'jump': 4, 'destroy': 4, 'managepy': 4, 'understand': 4, 'saved': 4, 'rake': 4, 'mutex': 4, 'opened': 4, 'naming': 4, 'shapes': 4, 'clickable': 4, 'cart': 4, 'clock': 4, 'tuples': 4, 'launch': 4, 'jbutton': 4, 'several': 4, 'seems': 4, '60': 4, 'lookup': 4, 'huge': 4, 'eloquent': 4, 'hangs': 4, 'rotating': 4, 'md5': 4, 'construct': 4, 'stdout': 4, 'powershell': 4, 'resolved': 4, 'notify': 4, 'sublime': 4, 'recommended': 4, 'traffic': 4, 'switching': 4, 'regexp': 4, 'nsarray': 4, 'centering': 4, 'deadlock': 4, 'extern': 4, 'redirection': 4, 'ie7': 4, 'minimum': 4, 'javalangoutofmemoryerror': 4, 'bring': 4, 'equation': 4, 'pin': 4, 'vectors': 4, 'probability': 4, 'v': 4, 'registration': 4, 'mix': 4, 'requirejs': 4, 'immediately': 4, 'develop': 4, 'gif': 4, 'spark': 4, 'ids': 4, 'collision': 4, 'jpanel': 4, 'music': 4, 'attached': 4, 'textblock': 4, 'creator': 4, 'logic': 4, 'days': 4, 'till': 4, 'documents': 4, 'textview': 4, 'inject': 4, 'recursively': 4, 'segmentation': 4, 'fault': 4, 'easiest': 4, 'consumer': 4, 'warnings': 4, 'caused': 4, 'forward': 4, 'pop': 4, 'crawler': 4, 'affect': 4, 'upgrade': 4, 'triggering': 4, 'garbage': 4, 'zooming': 4, 'timeouts': 4, 'modified': 4, 'itemssource': 4, 'done': 4, 'servlets': 4, 'advantages': 4, 'math': 4, '35': 4, 'aws': 4, 'chars': 4, 'hql': 4, 'temporary': 4, 'sync': 4, 'importing': 4, 'spec': 4, 'json_decode': 4, 'supported': 4, 'dd': 4, 'learning': 4, 'hard': 4, 'profile': 4, 'social': 4, 'fail': 4, 'bubble': 4, 'slice': 4, 'greyed': 4, 'datastore': 4, 'upon': 4, 'tbody': 4, 'redirect_uri': 4, 'keypress': 4, 'depending': 4, 'managing': 4, 'gems': 4, 'jsoup': 4, 'emacs': 4, '15': 4, 'itext': 4, 'modifying': 4, 'developing': 4, 'uirouter': 4, 'aspx': 4, 'successful': 4, 'interop': 4, 'link_to': 4, 'helper': 4, 'refer': 4, 'openssl': 4, 'mongo': 4, 'udp': 4, 'ctrl': 4, 'posted': 4, 'couldnt': 4, 'expand': 4, 'synchronization': 4, 'lib': 4, 'hot': 4, 'look': 4, '24': 4, 'months': 4, 'affected': 4, 'loaderror': 4, 'focused': 4, 'exactly': 4, 'webkit': 4, 'openmp': 4, 'inherited': 4, 'truncated': 4, 'multithread': 4, 'triangle': 4, 'allowed': 4, 'purpose': 4, 'individual': 4, 'wrapper': 4, 'layer': 4, 'rsa': 4, 'collect': 4, 'closure': 4, 'entire': 4, 'parts': 4, 'notifications': 4, 'preparedstatement': 4, 'reason': 4, 'opens': 4, 'clipboard': 4, 'counter': 4, 'protect': 4, 'overload': 4, 'deployed': 4, 'tornado': 4, 'round': 4, '27': 4, 'elegant': 4, 'never': 4, 'encrypting': 4, 'theme': 4, 'home': 4, 'since': 4, 'assigning': 4, 'breaking': 4, 'startup': 4, 'least': 4, 'association': 4, 'invocation': 4, 'tool': 4, 'driven': 4, 'stretch': 4, 'preload': 4, 'imports': 4, 'glassfish': 4, 'edge': 4, 'explicitly': 4, 'sheet': 4, 'vaadin': 4, 'docker': 4, 'positive': 4, 'chain': 4, 'oledb': 4, 'polymorphic': 4, 'arc': 4, 'foundation': 4, 'uitextfield': 4, 'sure': 4, 'specifying': 4, 'backwards': 4, 'redux': 4, 'jsonarray': 4, 'jsonobject': 4, 'llvm': 4, 'automated': 4, 'updates': 4, 'outer': 4, 'websocket': 4, 'knockout': 4, 'aes': 4, 'bounds': 4, 'subprocess': 4, 'unity': 4, 'except': 4, 'scanf': 4, 'odbc': 4, 'flag': 4, 'imageview': 4, 'material': 4, 'zone': 4, 'lxml': 4, 'bindings': 4, 'comments': 4, 'dependencies': 4, 'forloop': 4, 'typefile': 4, 'converted': 4, 'gae': 4, 'mechanize': 4, 'accessed': 4, 'resetting': 4, 'beginning': 4, 'stuck': 4, 'floating': 4, 'rss': 4, 'appconfig': 4, 'vertically': 4, 'updatepanel': 4, 'fire': 4, 'inputstream': 4, 'concurrent': 4, 'leaflet': 4, 'minute': 4, 'average': 4, 'software': 4, 'directories': 4, 'choose': 4, 'epoch': 4, 'v2': 4, 'horizontally': 4, 'platform': 4, 'white': 4, 'asmx': 4, 'previously': 4, 'devices': 4, 'hexadecimal': 4, 'developer': 4, 'hook': 4, 'joining': 4, 'loader': 4, 'gateway': 4, 'increasing': 4, 'notation': 4, 'reporting': 4, 'agility': 4, 'pack': 4, 'failure': 4, 'third': 4, '41': 4, 'successfully': 4, '403': 4, 'await': 4, 'extending': 4, 'javautildate': 4, 'styling': 4, 'suppress': 4, 'advanced': 4, 'legend': 4, 'nan': 4, 'pie': 4, 'operators': 4, 'syntaxerror': 4, 'defining': 4, 'blocked': 4, 'playing': 4, 'celery': 4, 'cors': 4, 'origin': 4, 'indexes': 4, 'localization': 4, 'cin': 4, 'consuming': 4, 'xlsx': 4, 'representation': 4, 'picker': 4, 'jaxrs': 4, 'gdb': 4, 'angle': 4, 'composer': 4, 'struts': 4, 'ember': 4, 'iteration': 4, 'ftp': 4, 'aligned': 4, '81': 3, 'parameterized': 3, 'constructing': 3, 'tap': 3, 'jquerys': 3, 'longer': 3, 'nonetype': 3, 'worksheet': 3, 'floats': 3, 'zeros': 3, 'others': 3, 'boundary': 3, 'interactive': 3, 'videos': 3, 'blocking': 3, 'ngmodel': 3, 'preg_replace': 3, 'curly': 3, 'clientside': 3, 'carousel': 3, 'submission': 3, 'safely': 3, 'wxpython': 3, 'correlation': 3, 'ones': 3, 'optimizations': 3, 'rendered': 3, 'owin': 3, 'kind': 3, 'pausing': 3, 'gc': 3, 'vm': 3, 'commas': 3, 'thats': 3, 'sensitive': 3, 'wildcard': 3, 'asynchronously': 3, 'subdomain': 3, 'outofmemory': 3, 'watch': 3, 'nilnilclass': 3, 'actionlistener': 3, 'producing': 3, 'prime': 3, 'relationships': 3, 'phpfpm': 3, 'systemstring': 3, '2nd': 3, 'obj': 3, '25': 3, '32': 3, 'codec': 3, 'slower': 3, 'compression': 3, 'maximize': 3, 'combo': 3, 'paste': 3, 'identify': 3, 'rcp': 3, 'tostring': 3, '2003': 3, 'sizes': 3, 'handlers': 3, 'onload': 3, 'es6': 3, 'org': 3, 'speech': 3, 'persist': 3, 'ints': 3, 'leaks': 3, '3x': 3, 'quartz': 3, 'rate': 3, 'avplayer': 3, 'datasets': 3, 'xaxis': 3, '22': 3, 'gaps': 3, 'unchecked': 3, 'marks': 3, 'minus': 3, 'mysql2': 3, '187': 3, 'patterns': 3, 'readable': 3, 'javalangclasscastexception': 3, 'cmd': 3, 'picturebox': 3, 'limited': 3, 'javaioioexception': 3, 'sandbox': 3, 'gray': 3, 'knowing': 3, 'associative': 3, 'designer': 3, 'concat': 3, 'logger': 3, 'comment': 3, 'xls': 3, 'features': 3, 'modules': 3, 'automapper': 3, 'elasticsearch': 3, 'nsuserdefaults': 3, 'preview': 3, 'groovy': 3, 'universal': 3, 'jfreechart': 3, 'applicationproperties': 3, 'dealing': 3, 'underlying': 3, 'phpini': 3, 'injecting': 3, 'margin': 3, 'raphael': 3, 'wrap': 3, 'rdlc': 3, 'neither': 3, 'corrupted': 3, 'mysql_query': 3, 'mysql_fetch_array': 3, 'reader': 3, 'traversal': 3, 'iterative': 3, 'handled': 3, 'rails3': 3, 'activemq': 3, 'stops': 3, 'mamp': 3, 'past': 3, 'procedures': 3, 'grouped': 3, 'accordion': 3, 'activate': 3, 'backing': 3, 'attr': 3, 'occurrence': 3, 'independent': 3, 'dot': 3, 'u': 3, 'encoded': 3, 'stdmap': 3, 'integrating': 3, 'extensions': 3, '200': 3, 'ienumerablet': 3, 'consolelog': 3, 'photos': 3, 'carrierwave': 3, 'stay': 3, '64bit': 3, 'becomes': 3, 'masterpage': 3, 'alignment': 3, 'jre': 3, 'unless': 3, 'yyyymmdd': 3, 'tutorials': 3, 'emberjs': 3, 'black': 3, 'tabitem': 3, 'docx': 3, 'manipulate': 3, 'conflicting': 3, 'deleted': 3, 'detached': 3, 'phps': 3, 'dropbox': 3, 'servletcontext': 3, 'stdstring': 3, 'shown': 3, 'precision': 3, 'git': 3, 'dispose': 3, 'represent': 3, 'persisting': 3, 'onetoone': 3, '45': 3, 'killed': 3, 'downloads': 3, 'picture': 3, 'trim': 3, 'simplexml': 3, 'customer': 3, 'states': 3, 'ignores': 3, 'postfix': 3, 'macros': 3, 'capitalize': 3, 'efficiently': 3, 'escaping': 3, 'python26': 3, '1204': 3, 'guava': 3, 'indexed': 3, 'capturing': 3, 'supports': 3, 'emulator': 3, 'finally': 3, 'evaluate': 3, 'haml': 3, 'steps': 3, 'findall': 3, 'po': 3, 'serve': 3, 'implicit': 3, 'pause': 3, 'eager': 3, 'folders': 3, 'mouseenter': 3, 'creates': 3, 'utility': 3, 'gzip': 3, 'subscription': 3, 'beanstalk': 3, 'transform': 3, 'errno': 3, 'cropping': 3, 'listeners': 3, 'fragments': 3, 'ngclick': 3, 'hostname': 3, 'sencha': 3, 'unserialize': 3, 'webapp': 3, 'javalangclassnotfoundexception': 3, 'identical': 3, 'manifest': 3, 'opencart': 3, 'ensure': 3, 'wrapping': 3, 'adobe': 3, 'air': 3, 'filling': 3, 'str_replace': 3, 'texture': 3, 'preprocessor': 3, 'standalone': 3, 'liferay': 3, 'determined': 3, 'listing': 3, 'interpreted': 3, 'world': 3, 'repeat': 3, 'webpack': 3, 'subset': 3, 'stays': 3, 'jquerymobile': 3, 'specification': 3, '000': 3, 'deprecated': 3, 'distance': 3, 'continuous': 3, 'preference': 3, 'superclass': 3, 'mismatch': 3, 'redis': 3, 'getelementsbytagname': 3, 'embedding': 3, 'decrypting': 3, 'interfaces': 3, 'avoiding': 3, 'objectoriented': 3, 'appended': 3, 'raphaeljs': 3, 'backup': 3, 'formatter': 3, 'ssh': 3, 'copies': 3, 'swap': 3, 'stdset': 3, 'occurs': 3, 'registered': 3, 'documentation': 3, 'pydev': 3, 'optimize': 3, 'longest': 3, 'sharing': 3, 'bold': 3, 'mark': 3, 'indices': 3, 'beans': 3, 'matched': 3, 'twisted': 3, 'calculator': 3, 'hashtable': 3, 'remember': 3, 'explicit': 3, 'establish': 3, 'dimension': 3, 'file_get_contents': 3, 'cython': 3, 'messagebox': 3, 'functional': 3, 'logical': 3, 'na': 3, 'pixel': 3, 'fuzzy': 3, 'acceptable': 3, 'websockets': 3, 'helpers': 3, 'letters': 3, 'combinations': 3, 'formats': 3, 'uploads': 3, 'webmethod': 3, 'serving': 3, 'retrive': 3, 'animated': 3, 'apple': 3, 'h2': 3, 'nstimer': 3, 'translate': 3, 'depth': 3, 'ror': 3, 'lucene': 3, 'description': 3, 'spinner': 3, 'short': 3, 'dev': 3, 'populating': 3, 'tabcontrol': 3, 'destructor': 3, 'simulation': 3, 'card': 3, 'techniques': 3, 'embed': 3, 'firebase': 3, 'sqlstate': 3, 'composite': 3, 'seem': 3, 'slash': 3, 'dlls': 3, 'asynctask': 3, 'come': 3, 'globally': 3, 'align': 3, 'rmi': 3, 'jms': 3, 'valgrind': 3, 'raising': 3, 'mapper': 3, 'closed': 3, 'expecting': 3, 'locate': 3, 'provide': 3, 'taken': 3, 'icons': 3, 'pressing': 3, 'structures': 3, 'ascx': 3, 'indicator': 3, 'magic': 3, 'router': 3, 'msbuild': 3, 'vnext': 3, 'sass': 3, 'ready': 3, 'sliding': 3, 'putting': 3, 'mousemove': 3, 'manipulation': 3, 'compatibility': 3, 'javas': 3, 'caught': 3, 'callbacks': 3, 'joined': 3, 'sessionfactory': 3, 'hanging': 3, 'pm': 3, 'going': 3, 'ascending': 3, 'criteria': 3, 'expect': 3, 'kernel': 3, 'rerender': 3, 'exc_bad_access': 3, 'decoding': 3, 'urllib': 3, 'filenames': 3, 'margins': 3, 'imported': 3, 'cuda': 3, 'sequences': 3, 'decorators': 3, 'pyside': 3, 'lightweight': 3, 'countdown': 3, 'hashing': 3, 'ellipse': 3, 'anyone': 3, 'customizing': 3, 'recv': 3, 'piece': 3, 'hour': 3, 'decorator': 3, 'reversed': 3, 'onetomany': 3, 'excluding': 3, 'payment': 3, 'implements': 3, 'dbcontext': 3, 'persistent': 3, 'pull': 3, 'cached': 3, 'jlabel': 3, 'explanation': 3, 'menus': 3, 'hack': 3, 'ec2': 3, 'manual': 3, '_server': 3, 'scheme': 3, 'trycatch': 3, 'surface': 3, 'solve': 3, 'monitoring': 3, 'functionality': 3, 'considered': 3, 'foreignkey': 3, 'rollback': 3, 'locking': 3, 'pieces': 3, 'amounts': 3, 'guide': 3, 'frontend': 3, 'mongoid': 3, 'allowing': 3, 'gdi': 3, 'axes': 3, 'aggregate': 3, 'printf': 3, '26': 3, 'structs': 3, 'intellisense': 3, 'grunt': 3, '33': 3, 'objectreference': 3, 'csrf': 3, 'verification': 3, 'follow': 3, 'significant': 3, 'fancybox': 3, 'crossdomain': 3, 'unity3d': 3, 'beautiful': 3, 'visualstudio': 3, 'worker': 3, 'payload': 3, 'radius': 3, 'mono': 3, 'colour': 3, 'later': 3, 'docs': 3, 'customize': 3, 'flatten': 3, 'resttemplate': 3, 'pil': 3, 'apns': 3, 'markup': 3, 'setinterval': 3, 'isset': 3, 'java_home': 3, 'multicolumn': 3, 'jsonstringify': 3, 'nonstatic': 3, 'determining': 3, 'destroyed': 3, 'massive': 3, 'protected': 3, 'sitecore': 3, 'i18n': 3, 'cycle': 3, 'transfer': 3, 'downgrade': 3, 'neural': 3, 'caller': 3, 'distribution': 3, 'transition': 3, 'retina': 3, 'br': 3, 'confirm': 3, 'resultset': 3, 'goes': 3, '51': 3, 'safety': 3, 'namespaces': 3, 'cascading': 3, 'roles': 3, 'hours': 3, 'movie': 3, 'classnotfoundexception': 3, 'cxf': 3, 'written': 3, 'wsdl': 3, 'usb': 3, 'poco': 3, 'cordova': 3, 'javalangnullpointerexception': 3, 'corresponding': 3, 'svn': 3, 'enough': 3, 'intersection': 2, 'let': 2, 'mat': 2, 'programme': 2, 'neterr_connection_refused': 2, 'suggest': 2, 'modelsave': 2, 'affecting': 2, 'rectangles': 2, 'ymd': 2, 'unsupported': 2, 'i386': 2, 'combination': 2, 'ddl': 2, 'transpose': 2, 'attach': 2, 'tick': 2, 'spacing': 2, 'oledbconnection': 2, 'navbar': 2, 'kill': 2, 'recent': 2, 'indirect': 2, 'stdin': 2, 'splash': 2, 'accepts': 2, 'stringsplit': 2, 'blackberry': 2, 'quick': 2, 'onclicklistener': 2, '323': 2, 'receiver': 2, 'priority': 2, 'bypass': 2, 'redirecttoaction': 2, 'destruction': 2, 'triggers': 2, 'pointing': 2, 'casesensitive': 2, 'systems': 2, 'runserver': 2, 'parsecom': 2, 'guidelines': 2, 'testng': 2, 'seperate': 2, 'serversocket': 2, 'supposed': 2, 'reopen': 2, 'mainwindow': 2, 'resized': 2, 'moves': 2, 'conventions': 2, 'spreadsheet': 2, 'preg_match': 2, 'brightness': 2, 'clickonce': 2, 'shopping': 2, 'mocha': 2, 'accurately': 2, 'prevents': 2, 'strict': 2, 'inactive': 2, 'vim': 2, 'didnt': 2, 'nomethoderror': 2, 'windowsce': 2, 'three': 2, 'sprite': 2, 'taxonomy': 2, '2dimensional': 2, 'listening': 2, 'threaded': 2, 'internationalization': 2, 'suffix': 2, 'nsurl': 2, 'classvariable': 2, 'e': 2, 'timers': 2, 'raised': 2, 'major': 2, 'ie10': 2, 'histograms': 2, 'respond': 2, 'foo': 2, 'buffers': 2, 'webviewdidfinishload': 2, 'nice': 2, 'temp': 2, 'submissions': 2, 'growth': 2, 'ternary': 2, 'recognition': 2, 'vs2008': 2, 'exact': 2, 'tolist': 2, 'marshall': 2, 'angular2': 2, 'fires': 2, 'adjusting': 2, 'numericupdown': 2, 'older': 2, 'mesh': 2, 'losing': 2, '106': 2, 'operands': 2, 'apostrophe': 2, 'separately': 2, 'beyond': 2, 'owner': 2, 'accessor': 2, 'chat': 2, 'human': 2, 'disk': 2, 'cdbcriteria': 2, 'grant': 2, 'malformed': 2, 'ad': 2, 'pojos': 2, 'viewport': 2, 'addresses': 2, 'locationhash': 2, 'keeps': 2, 'fileusing': 2, 'vsto': 2, 'sqldatasource': 2, 'windowprint': 2, 'taskscheduler': 2, 'physical': 2, 'overrides': 2, 'dbnull': 2, 'invisible': 2, 'thousand': 2, 'pictures': 2, 'linkedlist': 2, 'serverside': 2, 'accurate': 2, 'plist': 2, 'styles': 2, 'gac': 2, 'alphabetic': 2, 'accent': 2, 'uint32': 2, 'alpha': 2, 'redeclaring': 2, 'ninject': 2, 'defer': 2, 'winsound': 2, 'circular': 2, 'usual': 2, '__getitem__': 2, 'pushing': 2, 'appengine': 2, 'scikit': 2, 'openid': 2, 'mouseover': 2, 'instruction': 2, 'painting': 2, 'optimizing': 2, 'uialertview': 2, 'subviews': 2, 'suggestions': 2, 'arithmetic': 2, 'happen': 2, 'distributed': 2, 'crontab': 2, 'performing': 2, 'prepended': 2, '28': 2, 'pythonmysqldb': 2, 'interfacing': 2, 'stdthread': 2, 'sleep': 2, 'culture': 2, 'fan': 2, 'env': 2, 'cc': 2, '0s': 2, 'diagonally': 2, 'produce': 2, 'occurrences': 2, 'mysqldb': 2, 'opencl': 2, 'emberdata': 2, 'interpreter': 2, 'responsive': 2, 'prepare': 2, 'documentcreateelement': 2, 'mocking': 2, 'four': 2, 'might': 2, 'broken': 2, 'wheel': 2, 'openlayers': 2, 'ends': 2, 'plugins': 2, 'news': 2, 'desired': 2, 'consume': 2, 'exceeding': 2, 'wall': 2, 'reservation': 2, 'unittest': 2, 'accuracy': 2, 'msi': 2, 'makefile': 2, 'ipython': 2, 'dollar': 2, 'javax': 2, 'gd': 2, 'protobuf': 2, 'toolkit': 2, 'training': 2, 'typing': 2, 'power': 2, 'mandatory': 2, 'signalr': 2, 'hub': 2, 'streamreader': 2, 'advantage': 2, 'nullptr': 2, 'codeblocks': 2, 'lowercase': 2, 'alt': 2, 'compress': 2, '302': 2, 'draggable': 2, 'bounce': 2, 'pool': 2, 'sqlexception': 2, 'df': 2, 'coffeescript': 2, 'schedule': 2, 'args': 2, 'htmlactionlink': 2, 'createfile': 2, 'chunked': 2, 'clarification': 2, 'freezes': 2, 'htmlagilitypack': 2, 'platforms': 2, 'unfortunately': 2, 'image_tag': 2, 'equality': 2, 'clients': 2, 'fork': 2, 'var1': 2, 'var2': 2, 'scenario': 2, 'wmi': 2, 'checkmark': 2, 'road': 2, 'communicate': 2, 'unicodedecodeerror': 2, 'ordinal': 2, 'encodeuricomponent': 2, 'age': 2, '701': 2, 'qa': 2, 'elastic': 2, 'sqlquery': 2, 'sketch': 2, 'browsing': 2, '192': 2, 'leopard': 2, 'suitable': 2, 'attempting': 2, 'memcache': 2, 'maildefinition': 2, 'httpresponse': 2, 'nskeyedarchiver': 2, 'wide': 2, 'pom': 2, 'paging': 2, 'segment': 2, 'autofac': 2, '10g': 2, 'directx': 2, 'fontfamily': 2, 'necessary': 2, 'benefits': 2, 'preflight': 2, 'translating': 2, 'years': 2, 'inconsistent': 2, 'clock_gettime': 2, 'decryption': 2, 'authenticated': 2, 'differences': 2, 'rearrange': 2, 'closures': 2, 'achieve': 2, 'postgis': 2, 'l': 2, 'segue': 2, 'mapbox': 2, 'res': 2, 'rid': 2, '3rd': 2, 'concatenation': 2, 'continuing': 2, 'writer': 2, 'multiselect': 2, 'truncating': 2, 'bootstrapselect': 2, 'incrementing': 2, 'stretching': 2, 'alphabetically': 2, 'coefficients': 2, 'anchors': 2, 'scrape': 2, 'websites': 2, 'useful': 2, 'explode': 2, 'uisearchbar': 2, 'laplacian': 2, 'gaussian': 2, 'floatingpoint': 2, 'simply': 2, 'uppercase': 2, 'restkit': 2, 'eating': 2, 'pixels': 2, 'itunes': 2, 'collapsible': 2, 'imap_open': 2, 'says': 2, 'geocode': 2, 'jumping': 2, 'quadratic': 2, 'es': 2, 'largest': 2, 'frequency': 2, 'coredata': 2, 'emit': 2, 'scatter': 2, 'pane': 2, 'centered': 2, 'classify': 2, 'invariant': 2, 'raises': 2, 'requestmapping': 2, 'secured': 2, 'directives': 2, 'ngbind': 2, 'leaving': 2, 'business': 2, 'unreachable': 2, 'notsupportedexception': 2, 'differs': 2, 'sections': 2, 'extremely': 2, 'panning': 2, 'exceptionhandler': 2, 'domains': 2, 'keyvalue': 2, 'swipe': 2, 'jasmine': 2, 'jython': 2, 'bitmapdata': 2, 'glow': 2, '600x600': 2, 'corners': 2, 'album': 2, 'ex': 2, 'subclasses': 2, 'designed': 2, 'del': 2, 'backspace': 2, 'despite': 2, 'crud': 2, 'menuitem': 2, '2000': 2, 'factorygirl': 2, 'star': 2, 'sysstdout': 2, 'nicely': 2, '422': 2, 'nsdata': 2, 'partialview': 2, 'keywords': 2, 'expressionfunct': 2, 'wise': 2, 'onsaveinstancestate': 2, 'cs': 2, 'javalanginteger': 2, 'though': 2, 'late': 2, 'normalizing': 2, 'rolled': 2, 'pthread': 2, 'vc': 2, 'jsonp': 2, 'marshalling': 2, 'sprintf': 2, 'simplexmlelement': 2, 'pyramid': 2, 'attaching': 2, 'pretty': 2, 'mkmapview': 2, 'noreversematch': 2, 'jsonreader': 2, 'autolayout': 2, 'integrate': 2, 'larger': 2, 'mb': 2, 'vbscript': 2, 'answer': 2, 'reactrouter': 2, 'clang': 2, 'ampersand': 2, 'clipping': 2, 'typo3': 2, 'caption': 2, 'discount': 2, 'opera': 2, '42': 2, 'dropped': 2, 'overwrite': 2, 'unmarshalling': 2, 'typed': 2, 'pow': 2, 'nsdateformatter': 2, 'mysqldata': 2, 'superview': 2, 'piped': 2, 'controlled': 2, 'tabbar': 2, 'hy093': 2, 'tokens': 2, 'identified': 2, 'el': 2, 'webrtc': 2, 'animations': 2, 'uipickerview': 2, 'rejection': 2, 'occurence': 2, 'instantiated': 2, 'arriving': 2, 'suspend': 2, 'archive': 2, 'gallery': 2, 'subclassing': 2, 'consecutive': 2, 'h': 2, 'mdselect': 2, 'sitemap': 2, 'compact': 2, 'proguard': 2, 'mem': 2, 'ngswitch': 2, 'super': 2, 'illegalstateexception': 2, 'cut': 2, 'labeling': 2, 'scientific': 2, 'php5fpm': 2, 'lowest': 2, 'landscape': 2, 'javanetconnectexception': 2, 'titles': 2, 'attempt': 2, 'direction': 2, 'jobs': 2, 'hello': 2, 'artifact': 2, 'unnamed': 2, 'slideshow': 2, 'hooks': 2, 'pyqt4': 2, 'modeless': 2, 'oci_error': 2, 'ul': 2, 'hashtag': 2, 'predicate': 2, 'undeclared': 2, 'concurrency': 2, 'quotable': 2, 'alone': 2, 'slave': 2, 'forever': 2, 'unmarshall': 2, 'phpstorm': 2, 'uitableviewcells': 2, 'synchronize': 2, 'infowindow': 2, 'nsurlconnection': 2, 'attack': 2, 'readprocessmemory': 2, 'gone': 2, 'jqueryui': 2, 'locked': 2, 'underline': 2, 'ini': 2, 'bouncing': 2, 'guess': 2, 'clone': 2, 'questions': 2, '08': 2, 'consider': 2, 'released': 2, 'recently': 2, 'produces': 2, 'prestashop': 2, 'max_execution_time': 2, 'smtpclient': 2, 'stringcontains': 2, 'cdn': 2, 'conditionals': 2, 'printer': 2, 'int32': 2, 'incomplete': 2, 'notepad': 2, 'messing': 2, 'stackoverflow': 2, 'mysql_real_escape_string': 2, 'seeking': 2, 'expire': 2, 'dead': 2, 'openfiledialog': 2, '50': 2, 'continuously': 2, 'exchange': 2, 'turning': 2, 'capistrano': 2, 'sequentially': 2, 'parallelforeach': 2, 'iframes': 2, 'receives': 2, 'density': 2, 'metro': 2, 'grades': 2, 'scalar': 2, 'placeholders': 2, 'measure': 2, '46': 2, 'concatenating': 2, 'datalist': 2, 'backward': 2, 'boundaries': 2, 'springdatajpa': 2, 'minified': 2, 'hudson': 2, 'richtab': 2, 'street': 2, 'intel': 2, 'meaning': 2, 'nonascii': 2, 'bars': 2, 'dots': 2, 'clr': 2, 'hybrid': 2, 'onselectedindexchanged': 2, 'delimiters': 2, 'customized': 2, 'evaluating': 2, 'commit': 2, 'teardown': 2, 'succeeded': 2, 'paddings': 2, 'chosen': 2, 'dimensions': 2, 'realmio': 2, 'ws': 2, 'screenshot': 2, 'weeks': 2, 'authenticate': 2, 'whose': 2, 'insensitive': 2, 'dbmigrate': 2, 'comparisons': 2, 'multple': 2, 'rule': 2, 'occured': 2, 'interesting': 2, 'robust': 2, 'phrase': 2, 'chartjs': 2, 'finish': 2, 'nul': 2, 'simplexml_load_string': 2, 'corenlp': 2, 'greater': 2, 'signature': 2, 'everywhere': 2, 'listboxitem': 2, 'getjson': 2, 'microsoftsharepointdll': 2, 'activities': 2, 'assignments': 2, 'animating': 2, 'analytics': 2, 'restart': 2, 'preferably': 2, 'nfs': 2, 'select2': 2, 'square': 2, 'aspect': 2, 'ratio': 2, 'fluent': 2, 'filecontentresult': 2, 'biggest': 2, 'mysqli_query': 2, 'meteor': 2, 'linkedin': 2, 'boostasio': 2, 'hadoop': 2, 'var': 2, 'dplyr': 2, 'classcastexception': 2, '503': 2, 'dock': 2, 'yield': 2, 'japanese': 2, 'responding': 2, 'allocation': 2, 'allocate': 2, 'newlines': 2, 'xhtml': 2, 'ask': 2, 'win': 2, 'orientation': 2, 'gtkmozembed': 2, 'effects': 2, 'nonnested': 2, 'specifically': 2, 'addition': 2, 'mapkit': 2, 'tfs': 2, 'strip': 2, 'buffered': 2, 'mediaplayer': 2, 'utc': 2, 'restarting': 2, 'timestamps': 2, 'legal': 2, 'evaluation': 2, 'xsl': 2, 'fileanother': 2, 'i': 2, 'stringempty': 2, 'kb': 2, 'ignoring': 2, 'hashcode': 2, 'observe': 2, 'observable': 2, 'continue': 2, 'blur': 2, 'contained': 2, 'bulk': 2, 'nth': 2, 'arrayanother': 2, 'forbidden': 2, 'fileinput': 2, 'smarty': 2, 'coding': 2, 'imap': 2, 'box2d': 2, '__init__': 2, 'props': 2, 'www': 2, 'configurable': 2, 'qtcreator': 2, 'polymer': 2, 'popover': 2, 'visualize': 2, 'selectmenu': 2, 'nas': 2, 'wp7': 2, 'x64': 2, 'bluetooth': 2, 'networkservice': 2, 'htmlspecialchars': 2, 'winrt': 2, 'iso': 2, 'packets': 2, 'packet': 2, 'javadoc': 2, '75': 2, 'breakpoint': 2, 'djangoadmin': 2, 'strong': 2, 'filtered': 2, 'push_back': 2, 'javautilscanner': 2, 'positioning': 2, 'listobject': 2, 'deep': 2, 'pyspark': 2, 'prompting': 2, 'edition': 2, 'rubygem': 2, '__declspec': 2, 'multipart': 2, 'attachment': 2, 'impact': 2, 'periodically': 2, 'handshake': 2, 'uinavigationcontroller': 2, 'pipes': 2, 'cipher': 2, 'matter': 2, 'tried': 2, 'parseint': 2, 'instagram': 2, 'iterable': 2, 'dataframes': 2, 'mvc5': 2, 'laravels': 2, 'provided': 2, 'stat': 2, 'feeding': 2, 'listx': 2, 'scores': 2, 'quit': 2, 'jwindow': 2, 'die': 2, 'listen': 2, 'webconfig': 2, 'formula': 2, 'wifi': 2, 'pthreads': 2, 'exc_bad_instruction': 2, '0x00000000': 2, 'membership': 2, 'objc': 2, 'proportionally': 2, 'timed': 2, 'jira': 2, 'jasperreport': 2, 'webinf': 2, 'labels': 2, 'think': 2, 'ashx': 2, 'theres': 2, 'val': 2, 'subdirectory': 2, 'covariance': 2, 'applicationcontext': 2, 'mvvmcross': 2, 'iis7': 2, 'chromes': 2, 'mpmovieplayercontroller': 2, 'kafka': 2, 'decrypt': 2, 'parents': 2, 'comboboxs': 2, 'partials': 2, 'statically': 2, 'classic': 2, 'populated': 2, 'mapped': 2, 'fake': 2, 'assemblies': 2, 'annotated': 2, 'lion': 2, 'recognized': 2, 'linebreak': 2, 'truthy': 2, 'raw_input': 2, 'sources': 2, 'sigquit': 2, 'fullcalendar': 2, 'arraysfill': 2, 'enterprise': 2, 'odata': 2, 'localhost8080': 2, 'nearest': 2, 'bindingsource': 2, 'stand': 2, 'ld': 2, 'bytearray': 2, 'callable': 2, 'subscribe': 2, 'pods': 2, 'allows': 2, 'jade': 2, 'ee': 2, 'advice': 2, 'dgv': 2, 'namevaluecollection': 2, 'ndk': 2, 'covered': 2, 'hitting': 2, 'gmt': 2, 'endless': 2, 'djangos': 2, 'smaller': 2, 'insufficient': 2, 'retain': 2, 'scratch': 2, 'alphabets': 2, '54': 2, 'cgridview': 2, 'accepting': 2, 'italic': 2, 'mathematical': 2, 'sdl': 2, 'pyc': 2, 'whilst': 2, 'clarify': 2, 'pid': 2, 'actionsheet': 2, 'vector2': 2, 'overflowhidden': 2, 'ppt': 2, 'banner': 2, 'mysql_result': 2, 'utf': 2, 'firewall': 2, 'disappearing': 2, 'urlconnection': 2, 'concise': 2, 'backslashes': 2, 'guessing': 2, 'xslt': 2, 'simple_form': 2, 'xamarinforms': 2, 'crossplatform': 2, 'twoway': 2, 'usertype': 2, 'javasqldate': 2, 'readonly': 2, 'analog': 2, 'dataview': 2, 'sends': 2, 'dealloc': 2, 'tells': 2, 'unrelated': 2, 'connected': 2, 'entitymanager': 2, 'impersonation': 2, 't_variable': 2, 'tablename': 2, 'mm': 2, 'yyyy': 2, 'temporarily': 2, 'dictionarystring': 2, 'euler': 2, 'authorization': 2, 'javalangstring': 2, 'exceptionmessage': 2, 'javasqlsqlexception': 2, 'workaround': 2, 'intercept': 2, 'observer': 2, 'complement': 2, 'synchronise': 2, 'serialport': 2, 'engines': 2, 'springmvc': 2, 'basis': 2, 'networks': 2, 'dismiss': 2, 'subject': 2, 'processor': 2, 'expiration': 2, 'modifiers': 2, 'manner': 2, 'subscribing': 2, 'subsets': 2, 'transitions': 2, 'fixedlength': 2, 'flags': 2, 'summary': 2, 'leading': 2, 'submenu': 2, 'mapreduce': 2, 'placeholder': 2, 'openshift': 2, 'directions': 2, 'submitted': 2, 'obtained': 2, 'unsorted': 2, 'utils': 2, 'flex': 2, 'httpurlconnection': 2, 'syncdb': 2, 'ctime': 2, 'killing': 2, 'guice': 2, 'demo': 2, 'floatvalueof': 2, 'lnk2019': 2, 'xib': 2, 'million': 2, 'population': 2, 'forloops': 2, 'repeatedly': 2, 'newtonsoftjson': 2, 'eventtarget': 2, 'outline': 2, 'may': 2, 'rolemanager': 2, 'py': 2, 'couchdb': 2, 'interacting': 2, 'filters': 2, 'pipeline': 2, 'fonts': 2, 'urllib2': 2, 'confirmation': 2, 'fileupload': 2, 'cout': 2, 'init': 2, 'textures': 2, 'corruption': 2, 'touchevent': 2, 'zf2': 2, 'nonatomic': 2, 'atomic': 2, 'titleforheaderinsection': 2, 'serverclient': 2, 'means': 2, 'fb': 2, 'indentation': 2, 'median': 2, 'systemnullreferenceexception': 2, '2005': 2, 'opensource': 2, 'executed': 2, 'resume': 2, 'a': 2, 'seeing': 2, 'stringbuilder': 2, 'localize': 2, 'decrement': 2, 'doget': 2, 't_string': 2, 'jsonparse': 2, 'spider': 2, 'mails': 2, 'primes': 2, 'factor': 2, 'blum': 2, 'rgdal': 2, 'subscribers': 2, 'viewresult': 2, 'actionresult': 2, 'adjust': 2, 'union': 2, 'rights': 2, 'reached': 2, 'integrated': 2, 'trailing': 2, '00008000': 2, 'javac': 2, 'drawn': 2, 'modification': 2, 'http_referer': 2, 'xdocument': 2, 'relations': 2, 'flasksqlalchemy': 2, 'checkboxlist': 2, 'segfault': 2, 'slf4j': 2, 'objectdatasource': 2, 'wave': 2, 'crashed': 2, 'locally': 2, 'targets': 2, 'fallback': 2, 'slightly': 2, 'certificates': 2, 'socketio': 2, 'localized': 2, 'signed': 2, 'developers': 2, 'meteorjs': 2, 'ispostback': 2, 'ci': 2, 'lead': 2, 'commaseparated': 2, 'stacked': 1, 'dotplot': 1, 'catalina': 1, 'lifecycle': 1, 'javalangclasst': 1, 'q_uestion': 1, 'lauch': 1, 'terminated': 1, 'methodanother': 1, 'viewwilldisappear': 1, 'connectionstring': 1, 'pythonget': 1, 'thumbnails': 1, 'zy': 1, 'scipyiosavemat': 1, 'hcommandlink': 1, 'ijsonvalue': 1, 'windowsdatajsonijsonvalue': 1, 'captialisation': 1, 'spinning': 1, 'inputall': 1, 'convertor': 1, 'settimer': 1, 'nondialog': 1, 'five': 1, 'indeterminate': 1, 'connectionerror': 1, 'bininstead': 1, 'slidetoggle': 1, 'instantiating': 1, 'datastructure': 1, 'windowlocationreplace': 1, 'redirects': 1, 'destroies': 1, 'ddmmyyyy': 1, 'linkbutton': 1, 'acquire': 1, 'realization': 1, 'currying': 1, 'datatablesnet': 1, '20120719': 1, '082400': 1, 'hms': 1, 'trough': 1, 'urllib2urlerror': 1, 'urlopen': 1, 'errorerrno': 1, '10061': 1, 'qeurying': 1, 'attr_encrypted': 1, 'listctrlhack': 1, 'listitems': 1, 'listctrl': 1, 'city': 1, 'mappedby': 1, '1066': 1, 'mouseout': 1, 'xcodebuild': 1, 'sapply': 1, 'transposed': 1, 'messed': 1, 'con': 1, 'jsonproperty': 1, 'propertyname': 1, 'somename': 1, 'toolbarbutton': 1, 'insertitem': 1, 'olson': 1, 'ridviewid': 1, 'addeventlistener': 1, 'listviewitem': 1, 'tableid': 1, 'inverse': 1, 'decodeindirectref': 1, 'notesnotessession': 1, 'dominonotessession': 1, 'moxie': 1, 'propertyplaceholderconfigurerlike': 1, 'shortened': 1, 'smloginitemsetenabled': 1, 'counterpart': 1, 'directorynotfoundexception': 1, 'headings': 1, 'mambo': 1, 'objectchild': 1, 'railties': 1, 'antcreate': 1, 'facebooks': 1, 'messenger': 1, 'broadcast': 1, 'reboot': 1, 'documentgetelementsbyclassname': 1, '1104': 1, 'socks': 1, 'concanate': 1, 'parseerror': 1, 'laravel5': 1, 'notfoundhttpexception': 1, 'routecollectionphp': 1, '161': 1, 'javasecurityinvalidalgorithmparameterexception': 1, 'rc6': 1, 'rc2': 1, 'waypoints': 1, 'directions_changed': 1, 'imageusing': 1, 'highly': 1, 'correlated': 1, 'sbmainworkspace': 1, 'columndatagridview': 1, 'adodc': 1, 'generatorelement': 1, 'sequencetype': 1, 'readonlycollections': 1, 'parallelinstances': 1, 'suite': 1, 'cocos2dx': 1, 'dispatchertimer': 1, 'brace': 1, 'stdendl': 1, 'stdcout': 1, 'laravellog': 1, 'basically': 1, 'preserving': 1, 'systemconcurrencyasynclock': 1, 'centralwidget': 1, '00002efd': 1, 'examine': 1, 'systemwindowsformsiwin32window': 1, 'dropdownbased': 1, 'particle': 1, 'sunjava6jre': 1, 'openxml': 1, 'sharedstringtable': 1, 'commonly': 1, 'ease': 1, 'computation': 1, 'startend': 1, 'volume': 1, 'cvcreatememstorage': 1, 'signing': 1, 'created_at': 1, 'oddity': 1, 'cultureinfogetcultures': 1, 'watching': 1, 'dofilterinternal': 1, 'superset': 1, 'setsystemtime': 1, 'tomcat7': 1, 'completion': 1, 'sensor': 1, 'javaawt': 1, 'fullscreen': 1, 'factorization': 1, 'duplicating': 1, 'nohup': 1, 'yiibootstrap': 1, 'soft': 1, 'followers': 1, 'bitmapsave': 1, 'javaioinputstreamreader': 1, 'generically': 1, 'convertchangetype': 1, 'javaxcryptobadpaddingexception': 1, 'governing': 1, 'frameworkelement': 1, 'facesmessage': 1, 'di': 1, 'treats': 1, 'javautilset': 1, 'compresses': 1, 'upto': 1, 'kbps': 1, '1000000x1000000': 1, '0xae': 1, 'npexp': 1, 'npe': 1, 'stage': 1, 'baseonload': 1, 'status_code': 1, 'action_search': 1, 'nicest': 1, 'statment': 1, 'jvmcfre003': 1, 'mathematically': 1, 'addressbar': 1, 'exampphtdocsannouncementsannouncementphp': 1, '143': 1, 'usernamepasswordauthenticationfilter': 1, 'instanceof': 1, 'docstring': 1, 'canonical': 1, 'transmit': 1, 'patch': 1, 'fileget': 1, 'jbuilder': 1, 'simulator': 1, '_objc_assign_global': 1, '_objc_assign_ivar': 1, '_objc_assign_strongcast': 1, 'meta': 1, 'httpequivrefresh': 1, 'content0': 1, 'urlhttp': 1, 'wwwxxxxxxlcom': 1, 'indexphp': 1, 'hierachy': 1, 'action_up': 1, 'process_reaper': 1, 'eventfiring': 1, 'cache_dir': 1, 'colspans': 1, 'fbgetloginstatus': 1, 'dojo': 1, 'editableeditable': 1, 'groupstyle': 1, 'strategy': 1, 'transitionto': 1, 'imshow': 1, 'onsubmit': 1, 'axis2': 1, 'axisfault': 1, 'axis2kernel154jar': 1, 'datagridviewcheckboxcell': 1, 'recognitionc': 1, 'richcombo': 1, 'emptiness': 1, 'jumplist': 1, 'divide': 1, 'mains': 1, 'argv': 1, 'rstudio': 1, 'libuuidso1': 1, '0x': 1, 'nscharacterset': 1, 'mathrandom': 1, 'nslog': 1, 'netuihwnd': 1, 'directuihwnd': 1, 'migrating': 1, 'article': 1, 'contect': 1, '25x': 1, 'mcrypt_module_open': 1, 'generates': 1, 'durability': 1, '255': 1, '0xff': 1, 'codeignitercall': 1, 'framwork': 1, 'workspacelocal': 1, 'workspace': 1, 'mappingjacksonjsonview': 1, 'diplay': 1, 'systemexecutionengineexception': 1, 'shift_jis': 1, '1103': 1, 'gradually': 1, 'redrawing': 1, 'htmltextbox': 1, 'deserializes': 1, 'superuser': 1, 'webdevelopers': 1, 'crenditials': 1, 'containerauto': 1, 'fitting': 1, 'debugelement': 1, 'nativeelement': 1, 'componentfixture': 1, 'type_forward_only': 1, 'intersect': 1, 'playframework': 1, 'reissue': 1, 'stringargument': 1, 'datetimec': 1, 'dropevents': 1, 'dragleave': 1, 'recording': 1, 'insight': 1, 'contrast': 1, 'selectall': 1, 'gotfocus': 1, 'mscorlib': 1, 'tailer': 1, 'logrotate': 1, 'vectorint': 1, 'arr': 1, 'meshlambertmaterial': 1, 'light': 1, 'uncheck': 1, 'repainting': 1, 'timenow': 1, 'rs': 1, 'valuesxaxis': 1, 'queryselectorall': 1, 'contacts': 1, 'windowonload': 1, 'mousebuttondown': 1, 'hibernatedaosupport': 1, 'fixing': 1, 'microsoftvisualstudiotesttoolstypesandsymbolsassembly': 1, 'springbean': 1, 'inmemory': 1, 'base64decoder': 1, 'onelinexmlfiles': 1, 'orghibernatetypestringtype': 1, 'orghibernatetypeversiontype': 1, 'masked': 1, 'applicatin': 1, 'listexpandoobject': 1, 'interest': 1, 'tvm': 1, 'equationstring': 1, 'mapview': 1, 'cl': 1, 'cpture': 1, 'fileuploadhasfile': 1, 'mssql_connect': 1, 'lpcwstr': 1, 'unicodeencodeerror': 1, 'oslistdir': 1, 'soapaction': 1, 'skrollr': 1, 'extbuttonsplit': 1, 'captcha': 1, 'thisstate': 1, 'getblobreferencefromserver': 1, 'uris': 1, 'permitted': 1, 'typegettype': 1, 'scriptelement': 1, 'actionviewmissingtemplate': 1, 'exceptionconverter': 1, 'rabbitmqc': 1, '2060': 1, 'svgsvgelement': 1, 'this_getparam': 1, 'loadingtext': 1, 'rebound': 1, 'err_connection_refused': 1, 'broswer': 1, 'homeaspx': 1, 'nulltype': 1, 'clearinterval': 1, 'onactionexecuting': 1, 'loopcount': 1, 'infinitely': 1, 'powerpoint': 1, 'boostchronotime_point': 1, 'boostchronosteady_clocktime_point': 1, 'iofileio': 1, 'webbrowserdocumenttype': 1, 'riskstechnical': 1, 'risks': 1, 'replaced': 1, 'msexcel': 1, 'realm': 1, 'pca': 1, 'categorical': 1, 'uitableviewcontroller': 1, 'getuser': 1, 'multipleform': 1, 'listactivity': 1, 'wallpaper': 1, 'getasync': 1, 'mkmap': 1, 'valid10': 1, 'localdate': 1, 'param': 1, 'semantic': 1, 'interpretation': 1, 'srgs': 1, 'grammar': 1, 'expunging': 1, 'mailbox': 1, 'pythonic': 1, 'windowtime': 1, 'separator': 1, 'sparse': 1, 'interopword': 1, 'office': 1, 'nonzero': 1, 'uiactivityindicatorview': 1, 'firebird': 1, 'curl_exec': 1, 'idatareader': 1, 'datareader': 1, 'tuning': 1, 'fn0': 1, 'setimmediate': 1, 'fn': 1, 'ray': 1, 'chartpanel': 1, 'privileges': 1, 'nonrooted': 1, 'ospath': 1, 'locationservicesenabled': 1, 'zerocost': 1, 'ipod': 1, 'airtunes': 1, 'pseudo': 1, 'equalitycomparertdefault': 1, 'internally': 1, 'linqtoentities': 1, 'lnk1104': 1, 'opencv_core249dlib': 1, 'iterations': 1, 'finisarsqlitesqliteexception': 1, 'monthly': 1, 'remaining': 1, 'declares': 1, 'auth_user': 1, 'credential': 1, 'alphabetical': 1, 'mongodbexport': 1, 'stdsignal': 1, 'stdraise': 1, 'threadsafe': 1, 'add_action': 1, 'getjsonarray': 1, 'sibling': 1, 'customisations': 1, 'tabularinline': 1, 'aurelia': 1, 'requests_ntlm': 1, 'ejbs': 1, 'wal': 1, 'blending': 1, 'migrate': 1, 'passportjs': 1, 'localstrategy': 1, 'initcomponents': 1, 'pdfs': 1, 'dompdf': 1, 'coverage': 1, 'zend_mm_heap': 1, 'usermanager': 1, 'transferring': 1, 'polymorphism': 1, 'immediate': 1, 'validationattribute': 1, 'validationcontextmembername': 1, 'awaiting': 1, 'preformated': 1, 'sizewidth0': 1, 'sizeheight0': 1, 'onitemselectedlistener': 1, 'messagesqueue': 1, 'acknowledging': 1, 'bake': 1, 'mysqlsock': 1, 'declarations': 1, 'functioninside': 1, 'getter': 1, 'relational': 1, 'unloading': 1, 'minify': 1, 'initialise': 1, 'microsoftsqlserverdtsruntimevariable': 1, 'definite': 1, 'translate3d': 1, 'androidwidgetlinearlayout': 1, 'androidwidgettextview': 1, 'arrayadapter': 1, 'bot': 1, 'freeze': 1, 'shouldnt': 1, 'dummy': 1, 'carray': 1, 'equivalents': 1, 'getexternallogininfo': 1, 'phpmailersetfrom': 1, 'supporting': 1, 'gm': 1, 'ios9': 1, '3211': 1, 'jsf20': 1, 'xsds': 1, 'nameobject': 1, 'lag': 1, 'typeid': 1, 'type_info': 1, 'metatemplates': 1, 'knowledge': 1, 'programmers': 1, 'aspectoriented': 1, 'resizeimages': 1, 'numbered': 1, 'fixedpoint': 1, 'questionhow': 1, 'paged': 1, 'unions': 1, 'contextsavechanges': 1, 'nodename': 1, 'allcaps': 1, 'parsejson': 1, 'transactional': 1, 'beneficial': 1, 'mutually': 1, 'get_template_part': 1, 'uniformly': 1, 'realms': 1, 'subprocesscall': 1, 'room': 1, 'inittab': 1, 'utf8_encode': 1, 'kcfinder': 1, 'browsephp': 1, 'pk': 1, 'rjava': 1, 'tempnam': 1, 'getmodulefilenameex': 1, 'psapidll': 1, 'distinguish': 1, 'cet': 1, 'cest': 1, 'cancels': 1, 'optimized': 1, 'umbraco': 1, 'nonexistent': 1, 'classpublic': 1, 'libarary': 1, 'pips': 1, 'mysqlpython': 1, 'aptgets': 1, 'ajaxfileupload': 1, 'gruntwebpack': 1, 'filefound': 1, 'erlang': 1, 'mkannotationview': 1, 'userlocation': 1, 'documentbodyonload': 1, 'exceladdin': 1, 'jscrollpane': 1, 'dropleave': 1, 'dragndrop': 1, 'hashwithin': 1, 'suppressing': 1, 'image_url': 1, 'debounce': 1, 'ngmodelchange': 1, 'surrounded': 1, 'natvis': 1, 'indexlistitems': 1, 'diacritics': 1, '32bit': 1, 'exes': 1, 'arent': 1, 'unwanted': 1, '5x5': 1, 'lined': 1, 'lot': 1, 'unused': 1, 'chunk': 1, 'knitr': 1, 'life': 1, 'guarantees': 1, 'nonabstract': 1, 'computed': 1, 'updatecommand': 1, 'validates_acceptance_of': 1, 'acting': 1, 'crazy': 1, 'gsub': 1, '1234': 1, 'faker': 1, 'builds': 1, 'call_user_func': 1, 'wp_logout_url': 1, 'pitch': 1, 'onmouseover': 1, 'manipulator': 1, 'psv': 1, 'documentcreatedocumentfragment': 1, 'indexjsp': 1, 'isession': 1, 'heapys': 1, 'twistedweb': 1, 'waste': 1, 'logs': 1, 'worked': 1, 'sportsstore': 1, 'unfocus': 1, 'stateparams': 1, 'splice': 1, 'scopeapply': 1, 'httpopenrequest': 1, '122': 1, 'closest': 1, 'bubblenodes': 1, 'overflowauto': 1, 'endpoints': 1, 'datakey': 1, 'radgrid': 1, 'settranslatesautoresizingmaskintoconstraintsno': 1, 'objectstatemanager': 1, 'displays': 1, 'joinable': 1, 'posix': 1, 'starttls': 1, 'preg_replace_callback': 1, 'mkpointannotation': 1, 'ticker': 1, 'jsapi': 1, 'routeattribute': 1, 'asks': 1, 'sudo': 1, 'appium': 1, 'capability': 1, 'launching': 1, 'ensures': 1, 'max_user_connections': 1, 'phantomjs': 1, '197': 1, 'chaine2': 1, 'marionette': 1, 'indexday': 1, 'resolving': 1, 'suncertpathbuilderexception': 1, 'certification': 1, 'assemblyinitialize': 1, '7x': 1, 'storyboards': 1, 'afxbeginthread': 1, 'createthread': 1, 'blogger': 1, 'deallocation': 1, 'arraylists': 1, 'thousend': 1, 'polluted': 1, '16bit': 1, 'microcontrollers': 1, 'realworld': 1, 'getdata': 1, 'cloneable': 1, 'genfromtxt': 1, 'onclientclick': 1, 'directoryjava': 1, 'herokupush': 1, 'simpledivision': 1, 'strformat': 1, 'contextual': 1, 'streamwriter': 1, 'backgroundimage': 1, 'extcomponent': 1, 'timestampmidnight': 1, 'puzzle': 1, 'palindromic': 1, 'typeclass': 1, 'pageviewcontroller': 1, 'conform': 1, 'uipageviewcontrollerdatasource': 1, 'radially': 1, 'sweep': 1, '1d': 1, 'wavefunction': 1, 'jpa2': 1, 'bidirectional': 1, 'unlock': 1, 'f4': 1, 'thu': 1, 'oct': 1, '051921': 1, 'xxx': 1, 'dataintegrityviolationexception': 1, 'notnull': 1, 'transient': 1, 'requestpost': 1, 'cdbcommand': 1, 'gettext': 1, 'ion': 1, 'pushes': 1, 'multimodule': 1, 'restcontroller': 1, 'cssresolver': 1, 'cssfile': 1, 'numpyarange': 1, 'preparedstatementexecuteupdate': 1, 'exhaution': 1, 'objectsdefined': 1, 'objectcontext': 1, 'reverses': 1, 'colon': 1, 'youre': 1, 'everyday': 1, 'workbook': 1, 'compares': 1, '20100910': 1, 'searched': 1, 'thoroughly': 1, 'pinputmask': 1, 'mask99': 1, '99': 1, '9999': 1, 'scriptbut': 1, 'xy': 1, 'order_by': 1, 'methodinvoke': 1, 'inet_ntoa': 1, 'imagebrush': 1, 'arranging': 1, 'toolbar': 1, 'incoming': 1, 'stmtexecute': 1, 'refactoring': 1, 'memorystream': 1, 'bigo': 1, 'oraclejdbcpooloracleociconnectionpoolgetconnection': 1, 'couple': 1, 'treat': 1, 'wchar_t': 1, 'underscorejs': 1, 'safest': 1, 'fraction': 1, 'multimaps': 1, 'windowprompt': 1, 'xpathdocument': 1, 'executefetchrequest': 1, 'refindall': 1, 'x86_64linux': 1, 'dictionaryvalue': 1, 'colorbar': 1, 'scatterplot': 1, 'xmlseealso': 1, 'dyncamiclly': 1, 'presentationframework': 1, 'heapq': 1, 'waitforexit': 1, 'begininvoke': 1, 'buttonperformclick': 1, '__dopostback': 1, 'jsonserializersettings': 1, 'equivalence': 1, 'setediting': 1, 'accessoryview': 1, 'getbean': 1, 'opposed': 1, 'mergeddictionaries': 1, 'datatableload': 1, 'fbdatareader': 1, 'mousebuttondblclick': 1, 'querys': 1, 'menuitemicon': 1, 'datatrigger': 1, 'couch': 1, 'coder': 1, 'timeless': 1, 'uilabeltextcolor': 1, 'junk': 1, 'underneath': 1, 'mo': 1, 'managementobject': 1, 'contextcomponentscan': 1, 'mvcannotationdriven': 1, 'paper': 1, 'acroform': 1, 'remoteviews': 1, 'jekyll': 1, 'php70fpm': 1, 'ppaondrej': 1, 'speicific': 1, 'uitbaleview': 1, 'appconfigready': 1, 'uint': 1, 'bucket': 1, 'extends': 1, 'runtimeexception': 1, 'vs2005': 1, 'strtok': 1, 'containsvalue': 1, '0x96': 1, '128': 1, 'pythone': 1, '332': 1, 'unorderable': 1, '220': 1, 'delegatearguments': 1, 'categorygetid': 1, 'selfcleaned_data': 1, 'filter_var': 1, 'filetext': 1, 'systemtimerstimer': 1, 'asqueryable': 1, 'effectcartoon': 1, 'construction': 1, 'trees': 1, 'linkunless': 1, 'deck': 1, 'cards': 1, 'permissionerror': 1, 'snow': 1, 'disadvantage': 1, 'mt_rand': 1, 'codeignitor': 1, 'complain': 1, 'sublist': 1, 'drawrect': 1, 'geom_text': 1, 'jpanels': 1, 'javaxmailnosuchproviderexception': 1, 'curlopt_cookiejar': 1, 'somehow': 1, 'setcookie': 1, 'prepend': 1, 'backslash': 1, 'membershipgetuser': 1, 'casing': 1, 'insecure': 1, 'obfuscation': 1, '_bstr_t': 1, 'singlesign': 1, 'archiveddatawithrootobjectselfdata': 1, 'pselectonemenu': 1, 'adventure': 1, 'driverurl': 1, 'drivernavigate': 1, 'gotourl': 1, 'getbytes': 1, 'getbytesfast': 1, 'company': 1, 'installshield': 1, 'selectors': 1, 'rewritting': 1, 'child_process': 1, 'make_pair': 1, 'fullname': 1, 'posix_memalign': 1, 'retuning': 1, 'awakefromnib': 1, 'applicationwillfinishlaunching': 1, 'applicationdidfinishlaunching': 1, 'substrings': 1, 'qtservice': 1, '3610': 1, 'autodiscovery': 1, 'providing': 1, 'unistdh': 1, 'categoryslugphp': 1, 'reactive': 1, 'instant': 1, 'richtextarea': 1, 'barycentric': 1, 'coordinate': 1, 'clamping': 1, 'systemuriformatexception': 1, 'parsed': 1, 'requesturlhost': 1, 'carousels': 1, 'oo': 1, 'accesscontrolallowmethods': 1, 'contextloaderlistener': 1, 'rsacryptoserviceprovider': 1, 'textured': 1, 'quad': 1, 'numerically': 1, 'itemscontrol': 1, 'amongst': 1, 'runinseparateprocess': 1, 'javaiofilenotfoundexception': 1, 'mnt': 1, 'sdcard': 1, 'users_url': 1, 'deviseregistrationscontroller0x00000003b299b0': 1, 'daemon': 1, 'privacy': 1, 'cxampphtdocsindexphp': 1, '77': 1, 'check_function_exists': 1, 'homestead': 1, 'discrete': 1, 'stat_density2d': 1, 'variadic': 1, 'jsonresult': 1, 'comfasterxmljacksondatabindjavatype': 1, 'bundler_editor': 1, 'mediawiki': 1, 'dojodataitemfilereadstorefetch': 1, 'oncomplete': 1, 'arraycontains': 1, 'wnetaddconnection2': 1, 'geography': 1, 'basicdbobject': 1, 'ctrl2': 1, 'scriptr': 1, 'appears': 1, 'mpi': 1, 'systemin': 1, 'lpwstr': 1, 'defaultdict': 1, 'setfilter': 1, 'stdout_of_range': 1, 'vector_m_range_check': 1, 'gen': 1, 'libs': 1, 'substituted': 1, 'envnewobject': 1, '156': 1, 'resultsetnull': 1, 'finalized': 1, 'disallowed': 1, 'headertemplate': 1, 'therubyracer': 1, '0101': 1, 'cvfindcontours': 1, 'potential': 1, 'inputoutput': 1, 'percentages': 1, 'restricting': 1, 'apicontroller': 1, 'truncate': 1, 'reinitialize': 1, 'discovery': 1, 'pythonrequests': 1, 'systemidentitymodeltokensjwtsecuritytoken': 1, 'sufficient': 1, 'attacks': 1, 'gcroot': 1, 'injectableprovider': 1, 'plane': 1, 'stock': 1, 'market': 1, 'erase': 1, 'piping': 1, 'isuue': 1, 'deps': 1, 'stamps': 1, 'logistic': 1, 'regressions': 1, 'preg_split': 1, 'commandexecutereader': 1, 'authresult': 1, 'customise': 1, 'runkit_function_rename': 1, 'deprecationwarnings': 1, 'casperjs': 1, 'crossings': 1, 'loggers': 1, 'invalidcastexception': 1, 'schemaimport': 1, 'retaining': 1, 'thisdata': 1, 'classuse': 1, 'overridden': 1, 'oncreateview': 1, 'subscript': 1, 'cnstant': 1, 'nonfragile': 1, 'abi': 1, 'cia': 1, 'factbook': 1, '0x80070001': 1, 'script5009': 1, 'autofill': 1, 'oci_bind_by_name': 1, 'urlintranet': 1, 'collectionview': 1, 'webapplication': 1, 'charat': 1, 'purchasenonrenewal': 1, 'inapp': 1, 'purchase': 1, 'nsmanagedobject': 1, 'managedobjectcontext': 1, 'autoreconnecttrue': 1, 'valuenearest': 1, '005': 1, 'beginwidget': 1, 'playlists': 1, 'leftsided': 1, 'beginners': 1, 'amazons3io': 1, 's3directoryinfo': 1, 'hopefully': 1, 'qwt': 1, 'registerarraydeclaration': 1, 'dbsetlocal': 1, 'ipaddress': 1, 'solving': 1, 'n3': 1, 'createmultimaterialobject': 1, 'r62': 1, 'offscreen': 1, 'couldnotfindmoduleerror': 1, 'nsmutabledictionary': 1, 'checkboxfield': 1, 'uiaccelerometer': 1, 'typejavalangstring': 1, 'manhattan': 1, 'keyboardgetstate': 1, 'before_destroy': 1, 'atomicintegerincrementandget': 1, 'stdpairfloat': 1, 'stdvectorfloat': 1, 'sqlite3_exec': 1, 'crc': 1, 'wxauiauimanager': 1, 'arrayssort': 1, 'ocr': 1, 'hu': 1, 'moments': 1, 'subplot': 1, 'make_response': 1, 'cset': 1, 'vs2013': 1, 'codecoverageexe': 1, 'runsettings': 1, 'parses': 1, 'statistic': 1, 'showdialog': 1, 'sounds': 1, 'love': 1, 'distrust': 1, 'alternate': 1, 'collectionembedded': 1, 'layers': 1, 'crypter': 1, 'textmodepassword': 1, 'withas': 1, 'balk': 1, 'newtonsoftjsonlinqjarray': 1, 'faking': 1, 'stdvectort': 1, 'phpsomeone': 1, 'devexpress': 1, 'dashboardloading': 1, 'stdcin': 1, 'datatemplateselector': 1, 'shget': 1, 'folderpath': 1, 'queues': 1, 'june': 1, 'scenarios': 1, 'cyclic': 1, 'ovveriding': 1, 'post_save': 1, 'freezing': 1, 'keysvalues': 1, 'regexe': 1, 'drivermanage': 1, 'implicitlywait': 1, 'timeunitseconds': 1, 'subdomains': 1, 'paramerter': 1, 'registrationjsptitle': 1, 'en_gb': 1, '_request': 1, 'javaxmailmessage': 1, 'windowing': 1, 'ala': 1, 'wxwidgets': 1, 'differentiate': 1, 'xmlnshttp': 1, 'schemasmicrosoftcom': 1, 'discover': 1, 'flatpage': 1, 'intermittent': 1, 'periods': 1, 'charcters': 1, 'clickedchange': 1, 'spyon': 1, 'fsockopen': 1, 'fgets': 1, 'feof': 1, 'said': 1, 'shall': 1, 'webxml': 1, 'scriptanother': 1, 'straight': 1, 'privateobject': 1, 'missingmethodexception': 1, 'maxwidth': 1, 'flexible': 1, 'usable': 1, 'clientonly': 1, 'segy': 1, 'sizefixed': 1, 'mainstoryboard': 1, 'dbml': 1, 'serialzableunidirection': 1, 'systemdatalinqentityref': 1, 'serialzable': 1, 'mysqli_num_rows': 1, 'mysqli_result': 1, 'indigo': 1, '1304': 1, 'nestedhidden': 1, 'vml': 1, 'sharp': 1, '568h': 1, '2xpng': 1, 'sleeping': 1, 'javasecurityunrecoverablekeyexception': 1, 'recover': 1, 'valuechanged': 1, 'repeats': 1, 'eaten': 1, 'comsybasejdbc2jdbcsybsqlexception': 1, 'swagger': 1, 'zf': 1, 'recognised': 1, 'include_path': 1, 'mobilechangepage': 1, 'mdb': 1, 'concrete': 1, 'httprequests': 1, 'formal': 1, 'occasionally': 1, 'standart': 1, 'qtextedit': 1, 'bower': 1, 'nserror': 1, 'nilliteralconvertible': 1, 'yields': 1, 'inlinecallbacks': 1, 'overlapping': 1, 'segments': 1, 'orgcomhibernatehibernateutil': 1, 'infix': 1, 'cfdataref': 1, 'absolute_import': 1, 'conflicts': 1, 'fcbk': 1, 'cfunction': 1, 'rarer': 1, 'volatile': 1, '0xef': 1, 'pythonplotting': 1, 'selectednodechanged': 1, 'refactor': 1, 'overhead': 1, 'subscribed': 1, 'multidimension': 1, 'bigdecimal': 1, 'ejb': 1, 'elementinsertadjacenthtml': 1, 'transformtoxml': 1, 'satelite': 1, 'birthday': 1, 'windoes': 1, 'clexe': 1, 'pyd': 1, 'baseonpaint': 1, 'contentsize': 1, 'adjacency': 1, 'tinyint': 1, 'tableforeignkey': 1, 'beginner': 1, 'raise': 1, 'jsonstring': 1, 'chris': 1, 'pine': 1, 'book': 1, 'destroys': 1, 'pager': 1, 'hosted': 1, 'international': 1, 'keyboards': 1, 'feedparserparse': 1, 'certificate_verify_failed': 1, 'sessionflush': 1, 'rethrow': 1, 'propagation': 1, 'oncreate': 1, 'modifier': 1, 'bindingsources': 1, 'iceselectmanycheckbox': 1, 'fileslength': 1, 'decisionswindowsforms': 1, 'version13020000': 1, 'dispatch': 1, 'instantly': 1, 'desede': 1, '3des': 1, 'fortran': 1, 'subroutine': 1, 'monotonic': 1, 'codility': 1, 'ballon': 1, 'tip': 1, 'onerror': 1, 'opaque': 1, 'opacity': 1, 'opensuse': 1, 'numpyconcatenate': 1, 'classinstantiated': 1, 'environments': 1, '93': 1, 'mvp': 1, 'pagevariable': 1, 'performancewise': 1, 'controlleruiviewcontainers': 1, 'smoothly': 1, 'polynomial': 1, '__block': 1, 'templated': 1, 'modelattribute': 1, 'postgresql84': 1, 'callnamedpipe': 1, 'namedpipeserverstream': 1, '_cvcvhaardetectobjects': 1, 'resets': 1, 'jobject': 1, 'startarray': 1, 'bindexception': 1, 'satisfy': 1, 'responder': 1, 'alter': 1, 'erasing': 1, 'optimal': 1, 'locations': 1, 'elementremove': 1, 'ogg': 1, 'gridviewusing': 1, 'usename': 1, 'orderbydescending': 1, 'disappears': 1, 'idisposable': 1, 'urllibrequesturlopen': 1, '_files': 1, 'sortedset': 1, 'sortedmap': 1, 'scannersuitable': 1, 'bufferedreader': 1, 'cellendedit': 1, 'instructions': 1, 'purejavascript': 1, '_block_type_is_valid': 1, 'regasm': 1, 'discriminator': 1, 'refreshes': 1, 'mongodbs': 1, 'mongoclient': 1, 'constructoruse': 1, 'auth_basic': 1, 'repaints': 1, 'overflowscroll': 1, 'datetimenowutc': 1, 'timecurrentutc': 1, 'fileexists': 1, 'ir': 1, 'bounded': 1, 'watchkit': 1, 'multilevel': 1, 'salted': 1, 'whereas': 1, 'getaddrinfo': 1, 'nsthread': 1, 'autoreleasepools': 1, 'matrices': 1, 'rotations': 1, 'setelse': 1, 'isipad': 1, 'merged': 1, 'nolonger': 1, 'actionmailer': 1, 'activation': 1, 'vichuploaderbundle': 1, 'fun': 1, 'tricky': 1, 'convention': 1, 'concurrentmodificationexception': 1, 'htmltablecellelement': 1, 'fileinfo': 1, 'mimetype': 1, 'dateparse': 1, 'illegalargument': 1, 'convenient': 1, 'cygwincontain': 1, 'mysqlh': 1, 'wsgihandler': 1, 'filejs': 1, 'weblogicxml': 1, 'cvccomplextype24a': 1, 'preferapplicationpackages': 1, 'initiate': 1, 'track_t': 1, 'argumentscalleetostring': 1, 'argumentscalleename': 1, 'tabbing': 1, 'tabindex': 1, 'log4net': 1, 'namegenerated': 1, 'derby': 1, 'lpcstr': 1, 'outofmemoryexception': 1, 'crossvalidated': 1, 'rsquare': 1, 'putobjectfile': 1, 'pautocomplete': 1, 'getannotation': 1, 'spoken': 1, 'overlays': 1, 'capinsets': 1, 'loginurl': 1, 'whitespace': 1, 'securely': 1, 'pert': 1, 'anchorscroll': 1, 'orgapachecxfinterceptorfault': 1, 'xmlnode': 1, 'htmlaction': 1, 'complexity': 1, 'inarray': 1, 'buy': 1, 'version6220': 1, 'cmd1': 1, 'cmd2': 1, 'dealer': 1, 'arrayindexoutofboundsexception': 1, 'systemoutofmemoryexception': 1, '700mb': 1, 'pinch': 1, 'redeclared': 1, 'reorder': 1, 'upper': 1, 'ondblclick': 1, 'depends': 1, 'columnexpression': 1, 'reflecting': 1, 'jinja': 1, 'lightest': 1, 'ever': 1, 'kvm': 1, 'networkrequestfailed': 1, 'communicating': 1, 'include_once': 1, 'full_calendar': 1, 'observation': 1, 'stata': 1, 'bys': 1, '_n': 1, 'statistical': 1, 'w8': 1, 'wp': 1, 'insertion': 1, 'sigill': 1, 'getscript': 1, 'staticresource': 1, 'caret': 1, 'carriage': 1, 'rn': 1, 'delimited': 1, 'embedd': 1, 'routeconfig': 1, 'whitelist': 1, 'codefirst': 1, 'blade': 1, 'embeded': 1, 'connectivity': 1, 'streamcanseek': 1, 'intents': 1, 'highscore': 1, 'requied': 1, 'beforeshowday': 1, 'spoiler': 1, 'microsoftjetoledb40': 1, 'concurrentskiplistset': 1, 'storageframeworkview': 1, 'underlining': 1, 'launch4j': 1, 'messagingexception': 1, 'clientsize': 1, 'xmlsave': 1, 'postmessage': 1, 'enumvalueof': 1, 'contexts': 1, 'hlapi': 1, 'imagemagick': 1, 'proportional': 1, 'fblogin': 1, 'uilabels': 1, 'expose': 1, 'continuewith': 1, 'gridsearchcv': 1, 'score': 1, 'oriented': 1, 'approval': 1, 'redownloading': 1, 'backgroundcolor': 1, '__delitem__': 1, 'collectionsmutablesequence': 1, 'virtualkey': 1, 'webkit_server': 1, 'datatype': 1, 'sucks': 1, 'generators': 1, 'consolesetcursorposition': 1, 'assignement': 1, '__file__': 1, 'american': 1, 'uinavigationbar': 1, 'shouldautorotateno': 1, 'stdget1': 1, 'chai': 1, 'xpoweredby': 1, 'signinmanager': 1, 'androidmanifestxml': 1, 'peak': 1, 'connector': 1, 'asdataframe': 1, 'xdataframe': 1, 'pig': 1, 'javaxfacesfactoryfinder': 1, 'icomparablet': 1, 'weka': 1, 'excerpt': 1, 'subarrays': 1, 'paragraphs': 1, 'seleniumwait_for_condition': 1, 'notations': 1, 'wnetuseconnection': 1, 'connects': 1, 'unc': 1, 'domaindifferent': 1, 'ipreviewhandler': 1, 'uncatchable': 1, 'schemarb': 1, 'regenerated': 1, 'foobar': 1, 'challenge': 1, 'bomb_baby': 1, 'runnable': 1, 'executeupdate': 1, 'enumvalue': 1, 'perfom': 1, 'stringspecific': 1, 'detail': 1, 'corner': 1, 'possibly': 1, 'flasksecurity': 1, 'selectedindex': 1, 'ostype': 1, 'nsmutable': 1, 'ahead': 1, 'validationerror': 1, 'loaders': 1, '_each': 1, '_map': 1, 'mapreducebase': 1, 'portrait': 1, 'x509': 1, 'sqlresultsetmapping': 1, 'simplexml_load_file': 1, 'threshold': 1, 'tune': 1, 'transactionmanagernamed': 1, 'transactionmanager': 1, '43': 1, 'namedtuple': 1, 'androidpermissionwrite_secure_settings': 1, 'borland': 1, 'compilers': 1, 'turtoisesvn': 1, 'neo4j': 1, 'webui': 1, 'prev': 1, 'listalphabetically': 1, 'codevisual': 1, 'pings': 1, 'mlpclassifier': 1, 'f7': 1, 'oci_execute': 1, 'dies': 1, 'persistenceprovider': 1, 'entitymanagerfactory': 1, 'navigatorplatform': 1, 'today': 1, 'rtf': 1, 'kabpersonaddresscitykey': 1, 'simultaneous': 1, 'mutexes': 1, 'collectionviewcell': 1, 'remote_api': 1, 'user_id': 1, 'removal': 1, 'xmin': 1, 'travelport': 1, 'directorycreatedirectory': 1, 'typebutton': 1, 'typesubmit': 1, 'msql': 1, 'functionc': 1, 'filealways': 1, 'comobject': 1, '80070776': 1, 'meteor_wrapasync': 1, 'renamed': 1, 'meteorwrapasync': 1, 'ejbinvokerservlet': 1, 'jmxinvokerservlet': 1, 'meteors': 1, 'iron': 1, 'divider': 1, 'javaxwsrsnotsupportedexception': 1, 'is_file': 1, 'selectlistitem': 1, 'assemblyinfo': 1, 'connectiondidfinishloading': 1, 'sun': 1, 'drivermssql': 1, 'manytoone': 1, 'modelbinder': 1, 'modelbindersadd': 1, 'rownumber': 1, 'xss': 1, 'writeprocessmemory': 1, 'requiring': 1, 'predexdebug': 1, 'jqueryget': 1, 'observe_field': 1, 'forgetting': 1, 'javaxcrypto': 1, 'myclassmyfunction': 1, 'autocompletion': 1, 'mstest': 1, 'practise': 1, 'directorygetfiles': 1, 'enumeratefiles': 1, 'backgroud': 1, 'redhat': 1, 'injectmocks': 1, 'resolves': 1, 'limitation': 1, 'orghibernatequeryexception': 1, 'cropperjs': 1, 'arraycontroller': 1, 'googlesetonloadcallback': 1, 'barriers': 1, 'incredibly': 1, 'semilarge': 1, 'protractor': 1, 'namevalue': 1, 'boostprogram_optionsparse_config_file': 1, 'ball': 1, 'ucwords': 1, 'underscores': 1, 'nstextviewbetter': 1, 'nstextview': 1, 'lwjgl': 1, 'columntype': 1, 'googleappengine': 1, 'fulltextsqlquery': 1, 'datatoggle': 1, 'pill': 1, 'drivers': 1, 'sqlsetconnectattr': 1, 'fopen': 1, 'wideopen': 1, 'reuse': 1, 'nondefault': 1, 'autoconf': 1, 'cgsize': 1, 'psutil': 1, 'draft': 1, 'externalization': 1, 'smallintegerfield': 1, 'ranges': 1, 'stringformat': 1, 'dispatch_queue_t': 1, 'dispatch_release': 1, 'nginclude': 1, 'collectionparallelstream': 1, 'thing': 1, 'iteratior': 1, 'rsquo': 1, 'mjpeg': 1, 'tk': 1, 'jquerymobileloadpage': 1, 'fallthrough': 1, 'wpfs': 1, 'drawingcontextdrawtext': 1, 'expensive': 1, 'signed_request': 1, 'createblockoutputstream': 1, 'hdfs': 1, 'mod_wsgi': 1, 'interaction': 1, 'comprehension': 1, 'ajaxsubmit': 1, 'synchron': 1, 'cholesky': 1, 'unbind': 1, 'stringindexof': 1, 'excludes': 1, 'aggregation': 1, 'nonaggregate': 1, 'eachother': 1, 'iconv': 1, 'encodings': 1, 'pylab': 1, 'listget': 1, 'iinterface': 1, 'concurrenthashmap': 1, 'respond_to': 1, 'respond_with': 1, 'webform': 1, '200p0': 1, 'irb': 1, 'dl': 1, 'fiddle': 1, 'attr_accessor': 1, 'edges': 1, 'borders': 1, 'rac': 1, 'mandrill': 1, 'webhook': 1, 'contentlengthheader': 1, 'preferences': 1, 'toint32': 1, 'xcodes': 1, 'pointertoobject': 1, 'zipjs': 1, 'stubs': 1, 'recognizing': 1, 'htmlerb': 1, 'regtlib': 1, 'mysqlimulti_query': 1, 'descendants': 1, 'jqueryajax': 1, 'functionmysqlrealescapestring': 1, 'established': 1, 'gemextbuilderror': 1, 'bcryptruby': 1, 'get_example_data': 1, 'jdbctemplate': 1, 'contraint': 1, 'springhibernate': 1, 'convergence': 1, 'optimizefmin': 1, 'variablesversus': 1, 'backlight': 1, 'djangocountries': 1, 'requestget': 1, 'compressor': 1, 'fclose': 1, 'hselectmanylistbox': 1, 'fselectitems': 1, 'advisable': 1, 'scales': 1, 'subtype': 1, 'originally': 1, '22122012': 1, '1700': 1, 'dmy': 1, 'processstartinfo': 1, 'tls': 1, 'systemnetwebexception': 1, '127': 1, 'keyup': 1, 'find_or_create_by_id': 1, 'sqldatareader': 1, 'checks': 1, 'd3axistickformat': 1, 'shifted': 1, '0000': 1, 'oracledb': 1, 'predefined': 1, 'grade': 1, 'attachments': 1, 'oledbcommand': 1, 'hibernatetemplatefindbycriteria': 1, 'deatched': 1, 'dc': 1, 'executes': 1, 'visit': 1, 'checkerboard': 1, 'lower': 1, 'adopting': 1, 'growing': 1, 'ascii39': 1, 'earth': 1, 'javaxelpropertynotfoundexception': 1, 'unregistereduserpost': 1, 'stdvector': 1, 'act': 1, 'databasedatabase': 1, 'inclass': 1, 'comboboxitemsadd': 1, 'navigator': 1, 'gnuplot': 1, 'ajenti': 1, 'countbubble': 1, 'insertbefore': 1, 'descriptors': 1, 'assistance': 1, 'sqlite3pp': 1, 'lazyinitializationexception': 1, 'radiobutton': 1, 'cdi': 1, 'uinitialized': 1, 'basecontroller': 1, 'numbersdivided': 1, 'holding': 1, 'coloumn': 1, 'nullversion': 1, 'xdk': 1, 'uiviewalso': 1, 'concurrently': 1, 'androidosnetworkonmainthreadexception': 1, 'systemnetbrowserclienthttpwebrequestendgetresponse': 1, 'systemargumentexception': 1, 'xmlelement': 1, 'xmlattribute': 1, 'bitmapimage': 1, 'systemwindowsmediabrush': 1, 'gmapsjs': 1, 'ind': 1, 'mainbowerfiles': 1, 'accordance': 1, 'managementscope': 1, 'rootcimv2': 1, 'setbounds': 1, 'destructuring': 1, 'addressalreadyinuseexception': 1, 'operand': 1, 'redraw': 1, 'htmlencode': 1, 'indexjsppageabout': 1, 'aboutjsp': 1, 'payments': 1, 'selectoutperforming': 1, 'errorrelaxngvrelaxng_err_extracontent': 1, 'camel': 1, 'andengine': 1, 'gamenot': 1, 'findcontrol': 1, 'rolegroup': 1, 'loginview': 1, 'expressionsc': 1, 'fmt': 1, 'thisgetdomnode': 1, 'reapp': 1, 'specifc': 1, 'closable': 1, 'tabbedpane': 1, 'configurationtaking': 1, 'precendence': 1, 'imlementing': 1, 'irouter': 1, 'exercise': 1, 'gridlayout': 1, 'filechoose': 1, 'perfectly': 1, 'delegation': 1, 'repeatedfield': 1, 'istrustedtrue': 1, 'toolstripstatuslabeltext': 1, 'windowsh': 1, 'afxv_w32h': 1, 'cstring': 1, 'textboxfor': 1, 'webdrivercss': 1, 'hbase': 1, 'scan': 1, 'arrows': 1, 'applescript': 1, 'flip': 1, 'httprequest': 1, 'bindable': 1, 'onpropertychanged': 1, 'cgpoints': 1, 'relatively': 1, 'domainusername': 1, 'io': 1, 'ctor': 1, 'getcontent': 1, 'cfurlref': 1, 'fsref': 1, 'egetmessage': 1, 'marshalsizeof': 1, 'returnvalue': 1, 'sessioncontextgetbusinessobject': 1, 'daterangefilter': 1, 'uistep': 1, 'mov': 1, '10seconds': 1, 'loadedtnx': 1, 'everyone': 1, 'visitor': 1, 'quantile': 1, 'normalize': 1, 'date_default_timezone_set': 1, 'text_field_tags': 1, 'mainc': 1, 'maino': 1, '1300': 1, '5212': 1, 'actionslist': 1, 'bytearrays': 1, 'bundleinstall': 1, 'vendor': 1, 'justified': 1, 'finder': 1, 'soapcall': 1, 'latex': 1, 'textpointer': 1, 'jqueryselectbox': 1, 'errorvariable': 1, 'cfstring': 1, 'throughput': 1, 'javalangnosuchfielderror': 1, 'trace': 1, 'everytime': 1, 'overloads': 1, 'numpyrandom': 1, 'nonimported': 1, 'dwarfdump': 1, '18': 1, 'arraywithcapacity': 1, 'initwithcapacity': 1, 'lambdas': 1, 'popenwaitpid': 1, 'staticmethod': 1, 'systemnetwebsocketsclientwebsocket': 1, 'reliably': 1, 'corefrences': 1, 'ratings': 1, 'aphp': 1, 'drawable': 1, 'kml': 1, 'continuation': 1, 'taskcompletionsources': 1, 'qlist': 1, 'arraysum': 1, 'extjs4': 1, 'pgpass': 1, 'dbs': 1, 'establish_connection': 1, 'hardcoded': 1, 'llvms': 1, 'redeclare': 1, 'asterisk': 1, 'dequeue': 1, 'omniauth': 1, 'filehandlers': 1, 'loggingproperties': 1, 'specifiy': 1, 'gl': 1, 'jackjson': 1, 'torquebox': 1, 'projectjson': 1, 'win10': 1, 'targeted': 1, 'tofile': 1, 'atomically': 1, 'jdatepicker': 1, 'anyclass': 1, 'error_messages_for': 1, 'wss': 1, 'isvisibleproperty': 1, 'psycopg2': 1, 'exotic': 1, 'stubless': 1, 'skills': 1, 'multitree': 1, 'libyaml': 1, 'filesystem': 1, 'autoalign': 1, 'getsupportfragmentmanager': 1, 'adapterviewonitemclicklistener': 1, 'smtpclientdispose': 1, 'functionjavascript': 1, 'processstart': 1, 'indexpath': 1, 'redoing': 1, 'ce': 1, 'lose': 1, 'terminator': 1, 'php_ldapdll': 1, 'situation': 1, 'regenerating': 1, 'selectedindexchange': 1, 'dataitem': 1, 't1': 1, 't2': 1, 'get_the_content': 1, 'systemnethttputilityhtmlencode': 1, 'runtimebinderexception': 1, 'childparentid': 1, 'parentid': 1, 'securest': 1, 'smalles': 1, 'cgcontextclosepath': 1, 'cgcontextbeginpath': 1, 'guard': 1, 'icephp': 1, 'derive': 1, 'zoneid': 1, 'zoneoffset': 1, 'xpathresolver': 1, 'dio': 1, 'authorizing': 1, 'gcm': 1, 'javaappletapplet': 1, 'returned10': 1, 'coderunning': 1, 'navigating': 1, '000080': 1, '4digit': 1, 'military': 1, 'appinside': 1, 'intelligent': 1, 'textcontent': 1, 'task_io_service': 1, 'io_service': 1, 'gridbaglayout': 1, 'weight': 1, 'imagingcore': 1, 'proptype': 1, 'prop': 1, 'postscontainer': 1, 'profiling': 1, 'cleanup': 1, 'multicharacter': 1, 'atof': 1, 'cgi': 1, 'base64outputstream': 1, 'mainactivity': 1, 'non200': 1, 'podspec': 1, 'systemlinqdynamic': 1, 'controlclientid': 1, 'stringscanner': 1, 'lexing': 1, 'htmlcheckbox': 1, 'htmlcheckboxfor': 1, 'ssl_connect': 1, 'returned1': 1, 'errno0': 1, 'statesslv3': 1, 'heterogeneous': 1, 'javautilregexpatternsyntaxexception': 1, 'unminimize': 1, 'positioned': 1, 'bringing': 1, 'qmetaobjectinvokemethod': 1, 'branching': 1, 'replacment': 1, 'maybe': 1, 'proc_open': 1, 'z': 1, 'friends': 1, 'ping': 1, 'chomedriver': 1, 'phpqrcode': 1, 'scrollviewwillbegindragging': 1, 'undo': 1, 'stdmake_shared': 1, 'usbgpsreceiver': 1, 'seamless': 1, 'payu': 1, 'dataurl': 1, 'referring': 1, 'subsequence': 1, 'logarithm': 1, 'efficientmake': 1, 'nsnumber': 1, '2140': 1, 'greek': 1, 'imply': 1, 'textinput': 1, 'viewmodels': 1, 'colsums': 1, 'sqlserver': 1, 'board': 1, 'cover': 1, 'syncroot': 1, 'stackpanel': 1, 'decrease': 1, 'encodingbase64': 1, '__nsarraym': 1, '0x34df0900': 1, 'tableinsert': 1, 'arraysforeach': 1, 'format_map': 1, 'filetestng': 1, 'runnnig': 1, 'indexcolumn': 1, 'mixed': 1, 'pseudoelement': 1, 'afters': 1, 'smiley': 1, 'viewer': 1, 'abilities': 1, 'viewing': 1, 'purposes': 1, 'fbeventsubscribe': 1, 'delegatebegininvoke': 1, 'javalangunsupportedclassversionerror': 1, 'servletapijar': 1, 'touchbased': 1, 'max_expansion': 1, 'fillrect': 1, 'gettype': 1, 'runtimetype': 1, 'nsiprocess': 1, 'beanmessage': 1, 'skins': 1, 'sse': 1, 'aspnet4': 1, 'minification': 1, 'cpanel': 1, 'droplist': 1, '__unicode__': 1, '__str__': 1, 'threadchild': 1, 'gravity': 1, 'hashed': 1, 'msgbox': 1, 'isplaying': 1, 'contact': 1, 'systemdiagnosticsprocess': 1, 'cprogram': 1, 'x86': 1, 'expresstextfilesactiveuserstxt': 1, 'array_chunk': 1, 'settext': 1, 'tableviewcell': 1, '11g': 1, 'xe': 1, 'portuguese': 1, 'ptbr': 1, 'xdocumentdescendants': 1, 'somethinghere': 1, 'encodingfile': 1, 'bytebyte': 1, 'cities': 1, 'europe': 1, 'messege': 1, 'kinds': 1, 'presses': 1, 'profiler': 1, 'antlr': 1, 'decoupling': 1, '__php_incomplete_class': 1, '_session': 1, 'dns_get_record': 1, 'xslaccess': 1, 'crypto': 1, 'writes': 1, 'stderr': 1, 'numpymean': 1, 'minimized': 1, 'treevew': 1, 'scheduler': 1, 'quantifier': 1, 'essential': 1, 'mutual': 1, 'authentication2way': 1, 'automation': 1, 'listkeyvaluepairstring': 1, 'gauge': 1, 'taskresults': 1, 'mockbean': 1, 'nouniquebeandefinitionexception': 1, 'objectid': 1, 'jit': 1, 'segfaults': 1, 'punctuation': 1, 'cellforrowatindexpath': 1, 'systemunauthorizedaccessexception': 1, 'unencoded': 1, 'ampersands': 1, 'tabbed': 1, 'viewcontroller': 1, 'quering': 1, 'synchronised': 1, 'taskxresult': 1, 'numpyarray': 1, 'bytestring': 1, 'occurring': 1, 'ajaxified': 1, 'indents': 1, 'dpi': 1, 'html2canvas': 1, 'bowerjson': 1, 'u014d': 1, 'priority_queue': 1, 'postinvalidate': 1, 'nonui': 1, 'liststruct': 1, 'boxed': 1, 'scipyioloadmat': 1, 'couchbase': 1, 'akka': 1, 'readprinter': 1, 'winspooldrv': 1, 'update_all': 1, 'hundred': 1, 'cfg': 1, 'databasephp': 1, 'customization': 1, 'uwp': 1, 'childobjects': 1, 'childchild': 1, 'beneath': 1, 'payroll': 1, 'savefig': 1, 'error14077438ssl': 1, 'routinesssl23_get_server_hellotlsv1': 1, 'arraystoreexception': 1, 'landing': 1, 'mapconst_iterator': 1, 'chance': 1, 'numberorder': 1, 'lua_pushcfunction': 1, 'frozenset': 1, 'uptodate': 1, 'games': 1, 'poms': 1, 'modeladmin': 1, 'qgraphicsview': 1, 'getmethodid': 1, 'instruct': 1, 'ajax_select': 1, 'namespacename': 1, 'javadocs': 1, 'touri': 1, 'unwise': 1, 'queryselector': 1, 'delivery': 1, 'signals': 1, 'concerns': 1, 'sqlmethodsdatediffmonth': 1, 'coordinateswithin': 1, 'ghost': 1, 'sequencial': 1, 'projectfolder': 1, 'celleditending': 1, 'commits': 1, 'threadprocessing': 1, 'datetimefield': 1, 'http_host': 1, 'curve': 1, 'loglog': 1, 'disclosure': 1, 'le': 1, 'uriinvalidurierror': 1, 'wrappers': 1, 'worth': 1, 'webelement': 1, 'tcpresolverquery': 1, 'arabic': 1, 'httpclientpostasync': 1, 'columndepending': 1, 'subcategory': 1, 'applicationpoolidentity': 1, 'unavailable': 1, 'htmlentities': 1, 'winttopointercast': 1, 'sizewithattributes': 1, 'inaccuracy': 1, 'checkable': 1, '8601': 1, 'experiences': 1, 'ideas': 1, 'selectedrow': 1, 'memorycacheset': 1, 'removed': 1, 'similarity': 1, 'tweet': 1, '__getattribute__': 1, 'benefit': 1, 'assemblyinfocs': 1, 'junit4': 1, 'ref': 1, 'cumulative': 1, 'sqlcontext': 1, 'subquery': 1, 'unwind': 1, 'historyback': 1, 'coming': 1, 'de': 1, 'hybi': 1, 'kit': 1, 'userdata': 1, 'halt': 1, 'dispatched': 1, 'projectnameexe': 1, 'typeof': 1, 'seperated': 1, 'fileproperties': 1, 'javamathbigdecimal': 1, 'ljavalangobject': 1, 'formsform': 1, 'minimize': 1, 'arraymap': 1, 'utilities': 1, 'clonestylefrom': 1, 'borderstyle': 1, 'ib_designable': 1, 'unformatted': 1, 'newly': 1, 'extrapolation': 1, 'limitto': 1, 'printclass': 1, 'setdisplayhomeasupenabled': 1, 'actionbar': 1, 'httpcontextbase': 1, 'systemio': 1, 'visualbasicfileio': 1, 'loses': 1, 'nfc': 1, 'nfca': 1, 'scheduling': 1, 'clicki': 1, 'imagebutton': 1, 'sentences': 1, 'paragraph': 1, 'positions': 1, 'systemtimer': 1, 'threadingtimer': 1, 'elapsedeventhandler': 1, 'arraysort': 1, 'actively': 1, 'pelement': 1, 'canvastodataurl': 1, 'base64_encode': 1, 'javascriptserializer': 1, 'arbitrarily': 1, 'subwords': 1, 'unreferenced': 1, 'fscanf': 1, 'panda': 1, 'outerjoin': 1, 'hellocontroller0x101d7edb0': 1, 'downloadfileasync': 1, 'fbsdkloginmanager': 1, 'loginwithreadpermissions': 1, 'monitor': 1, 'launches': 1, 'enumerable': 1, 'treated': 1, 'low': 1, 'stable': 1, 'served': 1, 'materialized': 1, 'setinteger': 1, 'arraylistentity_bikeshoprepair': 1, 'applicable': 1, 'presenter': 1, 'unpacking': 1, 't': 1, 'mojo': 1, 'multiline': 1, 'osgetcwd': 1, 'system32': 1, 'accepts_nested_attributes_for': 1, 'practical': 1, 'optimistic': 1, 'expired': 1, 'lual_register': 1, 'mailform': 1, 'redundant': 1, 'formperform': 1, 'tokeninvalid': 1, 'eventpagex': 1, 'eventpagey': 1, 'mcr': 1, 'goto': 1, 'bio': 1, 'base_url': 1, 'uisplitviewcontroller': 1, 'pre_controller': 1, 'stls': 1, 'ticks': 1, 'build_nativepy': 1, 'failserror': 1, 'threadculture': 1, 'mini': 1, 'shrinking': 1, 'getcurrentposition': 1, 'listcustomobject': 1, 'cs0120': 1, 'health': 1, 'thinking': 1, 'caesar': 1, 'c4430': 1, 'specifier': 1, 'assumed': 1, 'note': 1, 'defaultint': 1, 'xmx': 1, 'pagejade': 1, 'inkblot': 1, 'textfieldtext': 1, 'outlet': 1, 'faq': 1, 'intintintintintint': 1, 'risk': 1, 'overwriting': 1, 'zipfile': 1, 'urldecoder': 1, 'keyassociative': 1, 'datatarget': 1, 'httpclientgetasync': 1, 'violating': 1, 'ico': 1, 'prefered': 1, 'browserify': 1, 'mainjs': 1, 'chronometer': 1, 'multiplying': 1, 'powers': 1, 'met': 1, 'supersized': 1, 'ostream': 1, 'quotesdouble': 1, 'resulted': 1, 'transport': 1, 'selectdrows': 1, 'pem': 1, 'packageinfojava': 1, 'movable': 1, 'stratego': 1, 'located': 1, 'ood': 1, 'touble': 1, 'docall': 1, 'validates_presence_of': 1, 'after_initialize': 1, 'mongolab': 1, 'hq': 1, 'addons': 1, 'newdata': 1, 'predict': 1, 'displayname': 1, 'zipped': 1, 'oschmod': 1, 'iframeiframe': 1, 'selectedoptions': 1, 'wav': 1, 'extent': 1, 'raster': 1, 'modelformsets': 1, 'managementform': 1, 'tampered': 1, 'enconding': 1, 'documentready': 1, 'nightmare': 1, 'classchild': 1, 'unfinishedstubbingexception': 1, 'thenreturn': 1, 'depended': 1, 'analysis': 1, 'drf': 1, '301': 1, 'writable': 1, 'nestedfields': 1, 'list_filter': 1, 'nonarc': 1, 'pagestatic': 1, 'syntaxerrorexception': 1, 'datatablecompute': 1, 'systemwindowsinteractivity': 1, 'important': 1, 'hell': 1, 'var_dump': 1, 'myvar': 1, 'eaddrinuse': 1, 'blinking': 1, 'remain': 1, 'jenkin': 1, 'listtype': 1, 'say': 1, 'golang': 1, 'structuring': 1, 'wednesday': 1, 'asprepeater': 1, 'columnname': 1, 'linearly': 1, 'valueskeys': 1, 'formatcemployeesaccdb': 1, 'windowcurrentcontent': 1, 'wiring': 1, 'xsendfile': 1, 'resumesupport': 1, 'time_wait': 1, 'multistage': 1, 'enumgetunderlyingtype': 1, 'binarytree': 1, 'employee': 1, 'unexpectedly': 1, 'unwrapping': 1, 'beep': 1, 'camelcase': 1, 'densities': 1, 'stripe': 1, 'servletrequest': 1, 'marked': 1, 'typelibtype': 1, 'typelibtypeflagsfhidden': 1, 'subwindow': 1, 'adminautodiscover': 1, 'cone': 1, 'cylinder': 1, 'routesrb': 1, 'crm': 1, '2011': 1, 'propertychange': 1, 'html5s': 1, 'socketpair': 1, 'uitabbar': 1, 'conversation': 1, 'sslsocket': 1, 'reacttoolboxs': 1, 'directory_separator': 1, 'taskwaitall': 1, 'alive': 1, 'pheatmap': 1, 'outs': 1, 'datatypemismatchincriteriaexpressionerror': 1, 'serviceusing': 1, 'favored': 1, 'endswith': 1, 'classnamespace': 1, 'nullable': 1, 'tie': 1, 'whos': 1, 'occurance': 1, 'generalized': 1, 'expandgrid': 1, 'entrypoint': 1, 'assured': 1, 'randomsample': 1, 'randomshuffle': 1, 'associations': 1, 'radnumerictextbox': 1, 'alertdialog': 1, 'simplify': 1, 'inputted': 1, 'mouselistener': 1, 'rabbitmq': 1, 'mootools': 1, 'mssql': 1, 'referrer': 1, 'objectxml': 1, 'conversely': 1, 'systemthreadingabandonedmutexexception': 1, 'abandoned': 1, 'systemsecurityprincipalwindowsidentitygetcurrent': 1, 'inspect': 1, 'thin': 1, 'connectionpool': 1, 'polling': 1, 'removeall': 1, 'timedifferences': 1, 'timecurrent': 1, 'unmarshal': 1, 'jaxbcontextfinder': 1, 'charsetutf8': 1, 'datatablesjs': 1, 'colorqwidget': 1, 'irrespective': 1, 'lpvoid': 1, 'memcachd': 1, 'columng': 1, 'stlmap': 1, 'android_asset': 1, 'loginjs17': 1, 'evaluates': 1, 'signtool': 1, 'locator': 1, 'invalidselectorexception': 1, 'replaces': 1, 'editprofile': 1, 'xms': 1, '10054': 1, 'x2746': 1, 'placement': 1, 'vars': 1, 'j2me': 1, 'runner': 1, 'inconclusive': 1, 'activeadmin': 1, 'shorts': 1, 'nspredicate': 1, 'jwt': 1, 'necessarily': 1, 'getgeneratedkeys': 1, 'uitabbaritem': 1, 'secondsminutes': 1, 'dataattribute': 1, 'requestfocus': 1, 'uitablevieweditingstyle': 1, 'chtmllink': 1, 'rubygems': 1, 'polyline': 1, 'esp': 1, 'mousehover': 1, 'multibyte': 1, 'templatecache': 1, 'jcombobox': 1, 'liststrings': 1, 'guards': 1, 'deciphering': 1, 'unscrambler': 1, 'reactchartjs': 1, 'appreciated': 1, 'javalangerror': 1, 'recode': 1, 'datetimedatetime': 1, 'printers': 1, 'mavenglassfishplugin': 1, 'databind': 1, 'crossbrowser': 1, 'icc': 1, 'gdbinit': 1, 'prettyprinters': 1, 'servletrequestgetparameter': 1, 'servletrequestutilsgetstringparameter': 1, 'dataframesum': 1, 'as_matrixsum': 1, 'programmatical': 1, 'indicating': 1, 'statistically': 1, 'megabytes': 1, 'mqqueue': 1, 'playground': 1, 'subvector': 1, '65': 1, 'modern': 1, 'pathgetpointatlength': 1, 'systemcollectionsgenericlist': 1, 'systemdatadataset': 1, 'uninstall': 1, 'dependencysource': 1, 'dependencyobject': 1, 'horizontalscroll': 1, 'autosave': 1, 'clickcall': 1, 'programmatic': 1, 'adldap': 1, 'belongs': 1, 'unhashable': 1, 'fingerprint': 1, 'theta': 1, 'characterization': 1, 'user_url': 1, 'repairing': 1, 'unreadable': 1, 'inputboxvalue': 1, 'inputbox': 1, 'monotouch': 1, 'concurrentlinkedqueuet': 1, 'mutator': 1, 'robot': 1, 'holiday': 1, 'datatask': 1, 'customizable': 1, 'knockback': 1, 'shooting': 1, 'settingsauth_user_model': 1, 'calculated': 1, 'hangman': 1, 'dosnt': 1, 'functioncall': 1, 'nonjqgrid': 1, 'zonejs355': 1, 'stocks': 1, 'interrupt': 1, 'nonenumerated': 1, 'activerecordrelation': 1, 'externally': 1, 'classinheritance': 1, '52': 1, 'bundlergemnotfound': 1, 'rake1032': 1, 'customunboundcolumndata': 1, 'isolate': 1, 'systemwindowsformswebbrowser': 1, 'appsettingsjson': 1, 'mongocollection': 1, 'dbcollection': 1, 'pinned': 1, 'anyobject': 1, 'strjoin': 1, 'radiobuttons': 1, 'nulltext': 1, 'beforeunload': 1, 'systemcurrenttimemillis': 1, 'xp': 1, 'bodmas': 1, '400': 1, 'timezonelocal': 1, 'lighting': 1, 'javaiofile': 1, 'filterstart': 1, 'responded': 1, 'typenot': 1, 'status404': 1, 'coalesce': 1, 'believe': 1, 'formbased': 1, 'chained': 1, 'sigabrt': 1, 'appdelegateh': 1, 'repair': 1, 'regularexpression': 1, 'doxygen': 1, 'expand_as_defined': 1, 'mingws': 1, 'gdbexe': 1, 'woes': 1, 'handlerdelays': 1, 'addin': 1, 'parentheses': 1, 'capitalization': 1, 'samsung': 1, 'javalangillegalthreadstateexception': 1, 'columntext': 1, 'ivalidatableobject': 1, 'innertext': 1, '15x': 1, 'boosttimerauto_cpu_timer': 1, 'setupcfg': 1, 'setuppy': 1, 'blink': 1, 'aggregates': 1, 'funct': 1, 'boolparameter': 1, 'funcobject': 1, 'acr': 1, 'aes128': 1, 'malformedjsonexception': 1, 'basepackage': 1, 'componentscan': 1, 'subpackage': 1, '0x8': 1, 'activeresource': 1, '0xc0000005': 1, '0x00000004': 1, 'ienumerablechar': 1, 'xwwwformurlencoded': 1, 'programmaticaly': 1, 'surfaceview': 1, 'setzorderontop': 1, 'professional': 1, 'bxslider': 1, 'methodname': 1, 'defaults': 1, 'railsadd': 1, 'formed': 1, 'secondary': 1, 'arraymyitem': 1, 'jlist': 1, 'lme': 1, 'repaint': 1, 'currentthreadabortcurrentthreadabort': 1, 'considerations': 1, 'allowexternal': 1, 'translations': 1, 'stylesheet': 1, 'refreshed': 1, 'welcome': 1, 'icontroller': 1, 'stdvectorstdvectort': 1, 'initialisationvs': 1, 'initialisation': 1, 'javalang': 1, 'executors': 1, 'richfaces': 1, 'modalpanel': 1, 'lxmlhtml': 1, 'findby': 1, 'ifdef': 1, 'controlling': 1, 'ff': 1, 'ultimate': 1, 'dictionarylike': 1, '1000': 1, 'downcast': 1, 'fall': 1, 'sees': 1, 'machinereal': 1, 'porting': 1, 'recreated': 1, 'cv_8uc3': 1, 'towards': 1, 'unescape': 1, 'cstyle': 1, 'choices': 1, 'lgl': 1, 'iserror': 1, 'documentlocation': 1, 'webappcontext': 1, 'extraclasspath': 1, 'stringmatches': 1, 'vowel': 1, 'iserializable': 1, 'senders': 1, 'cocoapods': 1, 'plus': 1, 'sysgetsizeof': 1, 'unreasonably': 1, 'geting': 1, 'emitted': 1, 'identifying': 1, 'threadsynchronization': 1, '101': 1, 'neterr_connection_reset': 1, 'ext': 1, 'picking': 1, 'iterables': 1, 'threadclass': 1, 'divstyleleft': 1, 'divstyletop': 1, 'opencvs': 1, 'mousecallback': 1, 'ansi': 1, 'foofoo': 1, 'pdostatementexecute': 1, 'twodigit': 1, 'cp': 1, 'suming': 1, 'getlocalresource': 1, 'smtplib': 1, '22x': 1, 'rowgridview': 1, 'appropriate': 1, 'httpvaluecollection': 1, '252': 1, 'reform': 1, 'httpserver': 1, 'cingetline': 1, 'ties': 1, 'tabsphtml': 1, 'dismissing': 1, 'read_html': 1, 'stackd': 1, 'mallocd': 1, 'freed': 1, 'vcforpython27': 1, 'vcvarsallbat': 1, 'app_stl': 1, 'applicationmk': 1, 'nsexpression': 1, 'multimap': 1, 'configured': 1, 'torrent': 1, 'cllocationcoordinate2d': 1, 'described': 1, 'djangobook': 1, 'httprequestmessage': 1, 'findchild': 1, 'seed': 1, 'intervalmax': 1, 'parentdocument': 1, 'scrolltop': 1, 'sop': 1, 'ormeloquent': 1, 'period': 1, 'capable': 1, 'generally': 1, 'errorunable': 1, '1582': 1, 'from_unixtime': 1, 'whlie': 1, 'urlparameter': 1, 'modelrules': 1, 'messagedialog': 1, 'underused': 1, 'visualization': 1, 'filefield': 1, 'exif': 1, 'maintain': 1, 'attributte': 1, 'reducing': 1, 'fputcsv': 1, '361': 1, 'httpwebrequests': 1, 'timing': 1, 'defaulttargeturl': 1, 'file_put_contents': 1, 'saves': 1, 'half': 1, 'unselect': 1, 'fourier': 1, 'nonrails': 1, 'avmutablecomposition': 1, 'executebatch': 1, 'php5ini': 1, 'godaddy': 1, 'aspxcs': 1, 'pageaspx': 1, 'alamofire': 1, 'aload': 1, 'filephp': 1, 'magnific': 1, 'shadowed': 1, 'versioned': 1, 'socketsetsotimeout': 1, 'claim': 1, 'cs0103': 1, 'allowempty': 1, 'cameras': 1, 'cloning': 1, 'recordset': 1, 'j2ee': 1, 'maplist': 1, 'distance_of_time_in_words': 1, 'windowlocationhash': 1, 'domainsub': 1, 'mappings': 1, 'nonuniqueresultexception': 1, 'multiples': 1, 'providers': 1, '533': 1, 'session_start': 1, 'kills': 1, 'diamond': 1, 'comboboxes': 1, 'descendant': 1, 'wrapped': 1, 'inaddr_any': 1, 'lineartime': 1, 'centos': 1, 'tableindexing': 1, 'dashes': 1, 'suddenly': 1, 'x86mingw32': 1, 'stating': 1, 'modeldbcontext': 1, 'texfield': 1, 'jcheckbuttons': 1, 'formerly': 1, 'jface': 1, 'zend_file_transfer_adapter_http': 1, 'dfdtypes': 1, 'userdetailsservice': 1, 'webservices': 1, 'sqlconnection': 1, 'usingusing': 1, 'defaultifempty': 1, 'copyobject': 1, 'selectedvalue': 1, 'beta': 1, 'jsig': 1, 'responds': 1, 'pairwise': 1, 'qprocess': 1, 'systemdatasqltypessqltypeexception': 1, 'sqldatetime': 1, 'manifestmf': 1, 'pccf02102': 1, 'preprocessing': 1, 'aix': 1, 'datatextfield': 1, 'aspnets': 1, 'hyperlinkcolumn': 1, 'pathcrosses': 1, 'registering': 1, 'dialpaddesignercs': 1, 'springservletxml': 1, 'matrixcolumn': 1, 'rownames': 1, 'updown': 1, 'ci_reporter': 1, 'titlebar': 1, 'flipside': 1, 'summing': 1, 'chartimage': 1, 'httpstatus': 1, 'responsestatus': 1, 'myprojectjar': 1, 'csvfile': 1, 'willing': 1, 'disclose': 1, 'ranking': 1, 'sheetnames': 1, 'velocity': 1, 'communications': 1, 'interrupting': 1, 'optionally': 1, 'setdata': 1, 'breakpoints': 1, 'ddd': 1, 'great': 1, 'resfull': 1, 'marshalbyreftype': 1, 'normally': 1, 'az': 1, 'aspradiobutton': 1, 'reliable': 1, 'requestgetheader': 1, 'referer': 1, 'drawer': 1, 'referenced': 1, 'mention': 1, 'unfocused': 1, 'orto': 1, 'catalogsearch': 1, 'whitespaces': 1, 'istallation': 1, 'launched': 1, 'rescue': 1, 'gem_name': 1, 'errorexecution': 1, 'apppredexdebug': 1, 'orggradleprocessinternalexecexception': 1, 'rowforeign': 1, 'timeline': 1, '713': 1, 'stringstream': 1, 'fontawesome': 1, 'itertoolsislice': 1, 'pagehidden': 1, 'redo': 1, 'renderbody': 1, '_layoutcshtml': 1, 'persession': 1, 'bootstraptreeview': 1, 'dbcontextsavechanges': 1, 'charlock_holmes0694': 1, 'routeprovider': 1, 'notationrgb': 1, 'coerces': 1, 'getinputstream': 1, 'getoutputstream': 1, 'jquerygetscript': 1, 'lnameofthelibrary': 1, 'rubyproper': 1, 'datestep': 1, 'systemint16': 1, '1054': 1, 'nongeneric': 1, 'ilist': 1, 'ilistt': 1, 'typecasting': 1, 'indexof': 1, 'negate': 1, 'storagemultiple': 1, 'spent': 1, 'dialogpreference': 1, 'httppost': 1, 'modelstate': 1, 'nets': 1, 'pathcombine': 1, 'slashes': 1, 'edituprofile': 1, 'crawling': 1, 'uncerficated': 1, 'iojs': 1, 'electron': 1, 'posible': 1, 'respone': 1, 'dllmain': 1, 'serves': 1, 'static_castconststatic_castconst': 1, 'generictype': 1, 'programm': 1, 'inbox': 1, 'x32': 1, 'testsuite': 1, '256': 1, 'videocaptureopen': 1, 'renaming': 1, 'servertransfer': 1, 'appjs': 1, 'a4jstatus': 1, 'hcommandbutton': 1, 'httpwebresponse': 1, 'comprehensive': 1, 'elementwise': 1, 'popped': 1, 'rfriendly': 1, 'sentestingkit': 1, 'stringfilter': 1, 'multivalue': 1, 'elementfrompoint': 1, 'r2': 1, '232': 1, '186': 1, '235': 1, 'activesupportdependenciesmutex': 1, 'discord': 1, 'typedatetime': 1, 'swipegesture': 1, 'xampp': 1, 'win7': 1, 'field_with_errors': 1, 'ismutable': 1, 'ospathisfile': 1, 'static_cast': 1, 'dynamic_cast': 1, 'eod': 1, 'datainputstreamreadutf': 1, 'htm': 1, 'responsewritefile': 1, 'vs2010': 1, 'chunks': 1, 'qty': 1, 'pyplot': 1, 'onto': 1, 'waitforsingleobject': 1, '_beginthreadex': 1, 'icomparer': 1, 'collectionassert': 1, 'reactredux': 1, 'mountain': 1, 'peer': 1, 'djangocoreexceptionsimproperlyconfigured': 1, 'mysqldbmodule': 1, 'javabeans': 1, 'inputstreamreader': 1, 'isdate': 1, 'ps': 1, 'fx': 1, 'macrolike': 1, 'metaprogramming': 1, 'qimage': 1, 'comgooglegsongson': 1, 'textfinished': 1, 'eventsources': 1, 'rlapackdll': 1, 'interceptor': 1, 'recycler': 1, 'mysqlperformance': 1, 'complicated': 1, 'orgspringframeworkbeansfactorybeandefinitionstoreexception': 1, 'tabitems': 1, 'polygonplace': 1, 'posixlt': 1, '79ffee24': 1, '80131506': 1, 'xmldomminidomparse': 1, 'cyrillic': 1, 'mutable': 1, 'webbased': 1, 'concept': 1, 'resourcesresources': 1, 'qpushbutton': 1, 'iterates': 1, 'v031': 1, 'windowcryptosigntext': 1, 'methodinvokingfactorybean': 1, 'invoked': 1, 'seemingly': 1, 'componentsubchild': 1, 'duplex': 1, 'disconnection': 1, 'datatimelinecharteddayconverted': 1, 'datatimelinechartedday': 1, 'udid': 1, 'provisioning': 1, 'integrityerror': 1, 'unmanaged': 1, '5x': 1, 'syncronized': 1, 'loaddata': 1, 'onclose': 1, 'onexit': 1, 'asker': 1, 'detachedcriteria': 1, 'detachedquery': 1, 'hkey_current_user': 1, 'newtonsoft': 1, 'webrequest': 1, 'joshuas': 1, 'jsand': 1, 'languagechange': 1, 'validated': 1, 'deepcopy': 1, 'reconcile': 1, 'todays': 1, 'nslayoutconstraint': 1, 'dowhile': 1, 'mysql_num_rows': 1, 'visibility': 1, 'prints': 1, 'thisappendchild': 1, 'scrollto': 1, 'usertransactionsettransactiontimeout': 1, 'iso88592': 1, 'al16utf16': 1, 'nodefetch': 1, 'pending': 1, 'performseguewithidentifier': 1, 'prefixes': 1, 'exceptionmessageljavalangstring': 1, 'divpopup': 1, 'systemiofilenotfoundexception': 1, 'sharpsvndll': 1, 'sigwait': 1, 'css3': 1, 'ora12518': 1, 'excecuting': 1, 'bits': 1, '1s': 1, 'visually': 1, 'markergetposition': 1, '_serialize': 1, 'databaseserver': 1, 'braces': 1, 'delimeters': 1, 'animationvs': 1, 'errorcommicrosoftsqlserverjdbcsqlserverexception': 1, 'near': 1, 'extras': 1, 'fragmentactivity': 1, 'ds': 1, 'imageslider': 1, 'malfunctions': 1, 'arm64': 1, '_objc_class__sfsafariviewcontroller': 1, 'millionline': 1, 'writetimeout': 1, 'diranother': 1, 'dir': 1, 'comboboxitem': 1, 'adminpy': 1, 'save_model': 1, 'imageexisting': 1, 'forcefully': 1, 'stringify': 1, 'illuminate': 1, 'tokenmismatchexception': 1, 'imgsrc': 1, 'presentation': 1, 'ot': 1, 'organize': 1, 'listc': 1, 'stdqueuet': 1, 'reentrantreadwritelock': 1, 'spot': 1, 'win32_computersystem': 1, 'oemstringarray': 1, 'bindingresult': 1, 'systemdrawingimage': 1, 'aspimage': 1, 'persistenceunit': 1, 'pg_config': 1, 'roc': 1, 'auc': 1, 'det': 1, 'salesforce': 1, 'dash': 1, 'ips': 1, 'reflect': 1, 'dataadapter': 1, 'scikitlearn': 1, 'tfidfvectorizer': 1, 'trackbar': 1, 'returing': 1, 'getgenerictypedefinition': 1, 'aborting': 1, 'gz': 1, 'liststringanother': 1, 'scintilla': 1, 'dictget': 1, 'keyinstead': 1, 'reencoding': 1, 'script438': 1, 'archetype': 1, 'highgui': 1, 'spliting': 1, '2x': 1, 'inactivity': 1, 'corporate': 1, 'loglikelihood': 1, 'binomial': 1, 'marshalled': 1, 'cxampphtdocsslrcreatedata2php': 1, '23': 1, 'coldfusion': 1, 'authetication': 1, '275': 1, '56': 1, 'viewdidload': 1, 'atob': 1, 'chess': 1, 'tokenize': 1, 'nonactiverecord': 1, 'current_user': 1, 'linkedhashmap': 1, 'datascroll': 1, 'jmeter': 1, 'zendloaderautoloaderfactory': 1, 'init_autoloaderphp': 1, 'yii2user': 1, 'javaxejbtransactionrolledbacklocalexception': 1, 'devenvexe': 1, 'toplevel': 1, 'unified': 1, 'awt': 1, 'heavyweight': 1, 'webgl': 1, 'macbook': 1, 'pro': 1, 'geocoding': 1, 'sessionexpires': 1, 'renew': 1, 'ngbindhtml': 1, 'uploadedimage': 1, 'viewauto': 1, 'kinects': 1, 'paint': 1, 'reportdatasource': 1, 'intell': 1, 'showed': 1, 'eventhandler': 1, 'retrieval': 1, 'sorteddictionary': 1, 'behalf': 1, 'mockmvc': 1, 'alreadysorted': 1, 'formscharfield': 1, 'microsecond': 1, 'wallet': 1, 'oraclepkijar': 1, 'geom_map': 1, 'map_id': 1, '1fxyz': 1, 'autowired': 1, 'modelalias': 1, 'modelname': 1, 'facescontextresponsecomplete': 1, 'classbased': 1, 'javarminaming': 1, 'javarmiregistrylocateregistry': 1, 'entered': 1, 'arrary': 1, 'authenticating': 1, 'vowels': 1, 'touppercase': 1, 'allowable': 1, 'exceeded': 1, 'autocovariance': 1, 'annotate': 1, 'statistics': 1, 'favorite': 1, 'introduced': 1, 'gpu': 1, '2410': 1, 'w10': 1, 'urllib2urlopen': 1, 'csvimport': 1, 'dropdownextender': 1, 'graphicsclearrect': 1, 'graphicsdrawrect': 1, 'inlineblock': 1, 'rich': 1, 'multithreadedmapper': 1, 'manytomanyfield': 1, 'androidviewinflateexception': 1, '20gb': 1, 'errorlog': 1, 'uiwindow': 1, 'ordereddict': 1, 'dmg': 1, 'functionpointer': 1, 'bitmapsource': 1, 'av': 1, 'chromeruntimeoninstalled': 1, 'openfileoutput': 1, 'mbs': 1, 'communicatin': 1, 'monodevelop': 1, 'jarfile': 1, 'inherits': 1, 'reassign': 1, 'pomxml': 1, 'log4jxml': 1, 'respondjs': 1, 'urlstring': 1, 'databaselessleasing': 1, 'majority': 1, 'partition': 1, 'textinputcell': 1, 'labelling': 1, 'sanitize': 1, 'jq': 1, 'tinybox': 1, 'superclasses': 1, 'lexicographical': 1, 'msg': 1, 'cvreshape': 1, 'formset_factory': 1, 'aop': 1, 'pointcut': 1, 'specs': 1, 'mirah': 1, 'se': 1, 'orgxmlsaxsaxparseexception': 1, 'delimiter': 1, 'falsy': 1, 'jqbootstrap': 1, 'bindingnavigator': 1, 'datetimenowticks': 1, 'consumption': 1, 'scroller': 1, 'jquerycss': 1, 'transformscale': 1, 'affects': 1, 'uibootstrap': 1, 'datepickerforce': 1, 'bottleneck': 1, 'filenew_____': 1, 'partially': 1, 'trusted': 1, 'callers': 1, 'resolver': 1, 'buttonappearance': 1, 'ppc': 1, 'commicrosoftsqlserverjdbcsqlserverexception': 1, 'memcached': 1, 'overlap': 1, 'superimpose': 1, 'nullwhich': 1, 'comgoogleandroidgmsinternalzzno': 1, 'loopdoesnt': 1, 'httpservice': 1, 'wire': 1, 'javaiobufferedreaderclose': 1, 'methodsseparate': 1, 'objectmodel': 1, 'mouseclicks': 1, 'read_csv': 1, 'doublelinked': 1, 'downloadfilecompleted': 1, 'downloadprogresschanged': 1, 'orghibernatehqlastquerysyntaxexception': 1, 'nondelegate': 1, 'stars': 1, '490': 1, 'familiar': 1, 'windowaddeventlistener': 1, 'autoresize': 1, 'ex19c9510': 1, 'ought': 1, 'ngif': 1, 'pymongo': 1, 'throttling': 1, 'spawned': 1, 'localizeddescription': 1, 'elemmatch': 1, 'ifstream': 1, 'compute': 1, 'cachebuilder': 1, 'mapmaker': 1, 'chromium': 1, 'imagefield': 1, 'windows8': 1, 'salesordershipmentlist': 1, 'order_increment_id': 1, 'logiciterate': 1, 'divelse': 1, 'applying': 1, 'qvariant': 1, 'abstractmethod': 1, 'converter': 1, '1bit': 1, 'bitfields': 1, 'guidedtourplayground': 1, 'xcode6': 1, 'gotcha': 1, 'theater': 1, 'seat': 1, 'logo': 1, 'sqlcommand': 1, 'commandtext': 1, 'prettify': 1, 'classwithout': 1, 'orghibernatepropertynotfoundexception': 1, 'skspritenode': 1, 'skscene': 1, 'mri': 1, 'commandline': 1, 'lockbits': 1, 'stride': 1, '1bpp': 1, 'extalljs': 1, 'scrollbars': 1, 'sundaytwo': 1, 'sundaycomes': 1, 'substract': 1, 'sunday': 1, 'messagebodywriter': 1, 'perrequest': 1, 'toint': 1, '214': 1, 'wxtextctrl': 1, 'xmldocumentvalidate': 1, 'incorrectly': 1, 'xibobject': 1, 'comandroidfutureusbusbaccessory': 1, 'usbmanager': 1, 'mysqli_real_escape_string': 1, 'pygtk': 1, 'windowframeslength': 1, 'repositoryrestservice': 1, 'persistenceconfig': 1, 'inputaccording': 1, 'refreshpage': 1, 'removefromsuperview': 1, 'xpages': 1, 'datetextbox': 1, 'flowdocument': 1, 'listitem': 1, 'modalerror': 1, 'charcter': 1, 'effectively': 1, 'abort': 1, 'byreference': 1, 'bypointer': 1, 'attachdbfilename': 1, 'viceversa': 1, 'pkgconfig': 1, 'enhanced': 1, 'debuggerstepthrough': 1, 'structerror': 1, 'unpack': 1, 'counts': 1, 'setrawcookie': 1, 'sslerror': 1, 'prototyping': 1, 'homework': 1, 'commission': 1, 'morse': 1, 'ca': 1, 'hang': 1, 'dogfooding': 1, 'ratelimited': 1, 'clarifying': 1, 'insert_id': 1, 'libgcc_s_sjlj1dll': 1, 'tooptionarray': 1, 'antialiased': 1, 'synchronizationcontextcurrent': 1, 'become': 1, 'downloadbutton': 1, 'onpage': 1, 'javatextparseexception': 1, 'unparseable': 1, 'steam': 1, 'javaxjson': 1, 'varchar': 1, 'decomposition': 1, 'imageopacitymask': 1, 'serializeobject': 1, 'autowire': 1, 'selfcontradicting': 1, 'requirements': 1, 'xmltype': 1, 'session_set_cookie_params': 1, 'nsbundlemainbundle': 1, 'urlforresource': 1, 'bach1': 1, 'withextension': 1, 'asset_path': 1, 'log4js': 1, 'fileappenders': 1, 'imagemanipulator': 1, 'rowdata': 1, 'changetrackerentries': 1, 'currentvalue': 1, 'originalvalue': 1, 'ef7': 1, 'unread': 1, 'rolling': 1, 'mechanisim': 1, 'babel': 1, '1211': 1, 'contour': 1, 'advance': 1, 'httpcontextrequestform': 1, 'iboutlets': 1, 'asarray': 1, 'ngshow': 1, 'laravel4': 1, 'eat': 1, 'typeloadexception': 1, 'violates': 1, 'clearly': 1, 'violate': 1, 'trac': 1, '401': 1, 'eap': 1, '63': 1, 'afnetworking': 1, 'intermittently': 1, 'tunneling': 1, 'w3c': 1, 'compliant': 1, 'javascriptdelegate': 1, 'propertyinfo': 1, 'pdfwritergetinstance': 1, 'verbose_name': 1, 'stopwatch': 1, 'cmdexe': 1, 'androidsupportv7appcompatrstyleable': 1, 'confused': 1, 'instantiation': 1, 'booleanfalse': 1, 'optionright': 1, 'styled': 1, 'resubmitting': 1, 'sealed': 1, 'functionstatic': 1, 'activex': 1, 'javazoom': 1, 'jlayer': 1, 'ngdialogprovider': 1, 'pythoncontrollable': 1, 'downloadmanager': 1, 'redefine': 1, 'jinja2': 1, 'optionslength': 1, 'valueshash': 1, 'overwritten': 1, 'pathgetdirectoryname': 1, 'bridge': 1, 'argments': 1, 'timeseries': 1, '95th': 1, 'percentile': 1, 'unserializable': 1, 'celleditor': 1, 'x11': 1, 'devoff': 1, 'numpylinalgnorm': 1, 'windowsopen': 1, 'chef': 1, 'recipe': 1, 'codedomprovider': 1, 'mit': 1, 'course': 1, '1000th': 1, 'reviews': 1, 'phpinside': 1, 'applicationcss': 1, 'asset': 1, 'xmlinclude': 1, 'renders': 1, 'preventdefault': 1, 'datagridviews': 1, 'inboundchanneladapter': 1, 'modelsrelated': 1, 'datacore': 1, 'userlogins': 1, 'identity_insert': 1, 'lengths': 1, 'popular': 1, 'eight': 1, 'listremove': 1, 'qfontdatabase': 1, 'families': 1, 'sessionopenactivesession': 1, 'sessionstatuscallback': 1, 'gb': 1, 'rounded': 1, '632': 1, '64beta': 1, 'auto_now': 1, 'auto_now_add': 1, 'columndata': 1, 'runtimeerror': 1, 'jserb': 1, 'viewscripts': 1, 'formdesigner': 1, 'polygons': 1, 'tolocaltime': 1, 'microsofts': 1, 'sqlsrv': 1, 'scope_identity': 1, 'volley': 1, 'hardware': 1, 'glubyte': 1, 'glushort': 1, 'reaches': 1, 'helpmsg': 1, '3534': 1, 'nsviewanimation': 1, 'nsurlrequest': 1, 'oneway': 1, 'partitions': 1, 'piechart': 1, 'doughnut': 1, 'sme': 1, 'automating': 1, 'with_tags': 1, 'keyerror': 1, 'to_datetime': 1, 'standardize': 1, 'hy000': 1, '2002': 1, 'timecode': 1, 'nggrid': 1, '0byte': 1, 'initializes': 1, 'systemaccessviolationexception': 1, 'doesnotexist': 1, 'respectively': 1, 'manages': 1, '10724': 1, '405': 1, 'reocur': 1, 'richdatascroller': 1, 'richdatatable': 1, 'pseudorandom': 1, 'yielding': 1, 'webcam': 1, 'objectobject': 1, 'soapclient': 1, 'decreases': 1, 'mysql2error': 1, 'teacherid': 1, 'students': 1, 'enumset': 1, 'drawinrect': 1, 'bottom_right': 1, 'throw_exceptionhpp': 1, 'stdmove': 1, 'absolutely': 1, 'featuresjava': 1, 'overscroll': 1, 'thisgetform': 1, 'formpanel': 1, 'nonweb': 1, 'runnning': 1, 'comprehensionlike': 1, 'tripping': 1, 'anonymoustype': 1, 'assigned': 1, 'cachemoney': 1, 'xmlreader': 1, 'otherwise': 1, 'repositories': 1, 'nesting': 1, 'bootstrapcollapsejs': 1, 'sqlitedatabase': 1, 'webpages': 1, 'concern': 1, 'idreal': 1, 'dilate': 1, 'erode': 1, 'unfortunatelyhelloworld': 1, 'karma': 1, 'debuggable': 1, 'javassl': 1, 'radiowrite': 1, 'getenv': 1, 'deflateroutputstream': 1, 'exceptionsspring': 1, 'revised': 1, 'isselected': 1, 'treeviewitem': 1, 'poloniex': 1, 'jsppass': 1, 'formating': 1, 'helppaneexe': 1, 'geom_line': 1, 'scene': 1, 'anchorpane': 1, 'errorproviderclear': 1, 'friendly': 1, 'nethttp': 1, 'paginate': 1, 'stringisnt': 1, 'preceded': 1, 'apppage': 1, 'cforeach': 1, 'scriptlet': 1, 'rebuild': 1, 'pch': 1, 'webclientdownloadstring': 1, 'isodate': 1, 'nonangular': 1, 'prcomp': 1, 'orgrefelections': 1, 'boostregex_search': 1, 'wstring': 1, 'orghibernateexceptionjdbcconnectionexception': 1, 'noclassdeffounderror': 1, 'upgradeutil': 1, 'autorefresh': 1, 'gsp': 1, 'returnurl': 1, 'youyube': 1, 'ioerror': 1, 'witelisted': 1, 'bisection': 1, 'myapp': 1, 'tollfree': 1, 'bridging': 1, 'christmas': 1, 'calayer': 1, 'anomaly': 1, 'wsawaitformultipleevents': 1, 'networkevents': 1, 'utokenizers': 1, 'punkt': 1, 'englishpickle': 1, 'xtemplate': 1, 'recommend': 1, 'aspxnet': 1, 'lowpass': 1, 'units': 1, 'artisan': 1, 'wtforms': 1, 'built': 1, 'delay': 1, 'stuff': 1, 'maximized': 1, 'setaccessible': 1, 'nsinteger': 1, 'sessioninvalidate': 1, 'j9vminternals': 1, 'mapfragment': 1, 'dictionarycontainskey': 1, 'javah': 1, 'objmtlloader': 1, 'mersenne': 1, 'twister': 1, 'belongsto': 1, 'hasmany': 1, 'datagridviewcheckboxcolumn': 1, 'ormexception': 1, 'annotationdriven': 1, 'formatconvert': 1, 'outlook': 1, 'reply': 1, 'prepareforreuse': 1, 'dequeuereusablecellwithidentifier': 1, 'tryparse': 1, 'msdos': 1, 'unfollowed': 1, 'sentry': 1, 'accessdeniedexception': 1, 'rendersection': 1, 'magentostore': 1, 'shortest': 1, 'functionprototypemethod': 1, 'datenum': 1, 'rowinformation': 1, 'authenticationentrypoint': 1, 'datagrampacket': 1, '0x00': 1, 'bss': 1, 'cacheable': 1, 'keystore': 1, 'trained': 1, 'jruby': 1, 'stringjoin': 1, 'pbewithmd5anddes': 1, 'resourceid': 1, 'bookmark': 1, 'queryextremely': 1, 'compared': 1, 'coded': 1, 'played': 1, 'presentmovieplayerviewcontrolleranimated': 1, 'dscp': 1, 'qos': 1, 'dist': 1, 'getattr': 1, 'unimplemented': 1, 'imagewithcontentsofurl': 1, 'selectedrowscount': 1, 'mass': 1, 'libudev': 1, 'gradient': 1, 'layouts': 1, 'extlisttree': 1, 'execlp': 1, 'xmlserializer': 1, 'cwindowstempdll': 1, 'completing': 1, 'gd2': 1, '5614': 1, '1404': 1, 'lts': 1, 'url_for': 1, 'serives': 1, 'sortable': 1, 'dbcreateall': 1, 'text_change': 1, 'configphp': 1, 'functioninclude': 1, 'inceptionv3': 1, 'pretrained': 1, 'imagenet': 1, 'classify_imagepy': 1, 'tensorflow': 1, 'importable': 1, '348': 1, 'authorised': 1, 'smoother': 1, 'cplusplus': 1, 'bitwise': 1, 'toolsjar': 1, 'headersoap': 1, 'setcurrentplaybacktime': 1, 'fixtures': 1, 'externals': 1, 'selfmethod': 1, 'httpsessionlistener': 1, 'sessioncreated': 1, 'observing': 1, 'getallfailureexceptions': 1, 'getfailureexceptions': 1, 'jobexecution': 1, 'apktool': 1, 'webcode': 1, 'gathering': 1, 'inputting': 1, '260': 1, 'stdbasic_string_elem': 1, '_traits': 1, '_ax': 1, 'multiplevalue': 1, 'mixing': 1, 'stringfield': 1, 'nonblocking': 1, 'int_ablineplotnew': 1, 'scraped': 1, 'recommendation': 1, 'variabledeclarators': 1, 'localvariabledeclaration': 1, 'easing': 1, 'appbar': 1, 'unsupportedoperationexception': 1, 'abstractlistremove': 1, 'operating': 1, 'homeactually': 1, 'maproot': 1, 'winsock2h': 1, 'leave': 1, 'colours': 1, 'sysexit': 1, 'appexec_': 1, 'matchevaluator': 1, 'iteratively': 1, 'symbolfile': 1, 'computing': 1, 'avg': 1, 'arrayjava': 1, 'bare': 1, 'metal': 1, 'helloworld': 1, 'permanent': 1, 'regnotifychangekeyvalue': 1, 'endpoint': 1, 'panel1': 1, '145': 1, 'errorscalac': 1, 'm2': 1, 'm2_home': 1, 'camshift': 1, '1page': 1, 'percent': 1, 'precise': 1, 'datahref': 1, 'func': 1, 'servler': 1, 'googlelike': 1, 'pacman': 1, 'cabybara': 1, 'skips': 1, 'regarding': 1, 'pop3': 1, 'thead': 1, 'pagespecific': 1, 'division': 1, 'clueless': 1, 'gsons': 1, 'organizing': 1, 'ranks': 1, 'uint8_t': 1, 'unlimited': 1, 'notice': 1, 'viewcookie': 1, 'cake': 1, 'viewphp': 1, '804': 1, 'facet_grid': 1, 'nltks': 1, 'concordance': 1, 'versionname': 1, 'versioncode': 1, 'reconnect': 1, 'rangewithin': 1, 'asynctaskexecute': 1, 'orgspringframeworksecurityfilterchains': 1, 'securiy': 1, 'objectsarray': 1, 'gmaps': 1, 'mkannotation': 1, 'uibarbuttonitems': 1, 'uinavigationitem': 1, 'crawlable': 1, 'seo': 1, 'myclass': 1, 'personal': 1, 'variablevs': 1, 'lxml2': 1, 'interchangeably': 1, 'buttonsarray': 1, 'ndarrays': 1, 'rowwise': 1, 'columnwise': 1, 'gulpjade': 1, 'get_post': 1, 'efficiency': 1, 'stringreplace': 1, 'soup': 1, 'conversions': 1, 'createfromformat': 1, 'timeouterror': 1, 'combining': 1, 'size_t': 1, 'lollipop': 1, 'listed': 1, 'sdkeven': 1, 'simplejdbccall': 1, 'vuejs': 1, 'vmodel': 1, 'calendars': 1, 'hyperplane': 1, 'ioc': 1, 'nullreferenceexception': 1, 'dispatch_block': 1, 'mime': 1, 'cvscalar': 1, 'hash_hmac': 1, 'responses': 1, 'pathfinding': 1, 'domelement': 1, 'vbox': 1, 'gridpane': 1, 'ofstream': 1, 'clearing': 1, 'cisession': 1, 'appstore': 1, 'matchers': 1, 'dry': 1, 'implementationdependent': 1, 'timezoneinfo': 1, 'machines': 1, 'difficulties': 1, 'activesupport3212': 1, 'catchwithin': 1, 'php_self': 1, 'qml': 1, 'sas': 1, 'accomplished': 1, 'ng': 1, 'exported': 1, 'html_attr': 1, 'valued': 1, 'mistake': 1, 'relaycommand': 1, 'recovery': 1, 'caseinsensitive': 1, 'shub': 1, 'toggleclass': 1, 'mismatched': 1, 'nearlifo': 1, 'multiprocessingqueue': 1, 'nearfifo': 1, 'microsoftofficeinteropexceldll': 1, 'doesnot': 1, 'autodiscover_tasks': 1, '17': 1, 'rgeos': 1, '311': 1, 'systemcollectionsgenericliststring': 1, 'evil': 1, '20g': 1, 'sense': 1, 'anyways': 1, 'nonnumeric': 1, '222': 1, 'objectmapper': 1, 'gettime': 1, 'ldexe': 1, 'bindebugfilenameexe': 1, 'lightbox': 1, 'passwords': 1, 'autoincrement': 1, 'autofit': 1, 'autozoom': 1, 'rightclick': 1, 'webcore': 1, 'kotlin': 1, 'linkify': 1, 'selflocation': 1, 'requestdispatcher': 1, 'accomplish': 1, 'classname': 1, 'unflattening': 1, 'xl': 1, 'gridstackjs': 1, 'resizable': 1, 'orequals': 1, 'accounting': 1, 'quirks': 1, 'postfields': 1, 'contextmenustrip': 1, 'sender': 1, 'unordered_maptiterator': 1, 'afxpumpmessage': 1, 'stringwithformat': 1, 'request_uri': 1, 'errordocument': 1, 'hides': 1, 'uglify': 1, 'jeditorpane': 1, 'nest': 1, 'openstreetmap': 1, 'pltshow': 1, 'verbosetrue': 1, 'odoo': 1, 'keydown': 1, 'listviews': 1, 'circles': 1, 'oval': 1, 'localtime': 1, 'nsregularexpression': 1, 'orgspringframeworkwebcontextcontextloaderlistener': 1, 'productname': 1, 'javase': 1, 'bezier': 1, 'lan': 1, 'iso88591': 1, 'however': 1, 'errornomethoderror': 1, 'userscontroller': 1, 'jtds': 1, 'startview': 1, 'decadecurrent': 1, 'decade': 1, 'detaching': 1, '7041': 1, '73': 1, '3122': 1, 'strstr': 1, 'decimalparse': 1, 'comexception': 1, 'hresult': 1, '0x80010105': 1, 'rpc_e_serverfault': 1, 'getinhibit': 1, 'ontouch': 1, '69': 1, 'opener': 1, 'checkboxgroupinput': 1, 'iterated': 1, 'javalangstringjavalangstring': 1, 'makemessages': 1, 'remote_addr': 1, 'default_scope': 1, 'qqmlapplicationengine': 1, 'jsonexception': 1, 'pythonmode': 1, 'stroke': 1, 'simplehttpserver': 1, 'testhtml': 1, 'uimodalpresentationformsheet': 1, 'autopopulate': 1, 'testhandler': 1, 'phppfm': 1, 'initd': 1, 'igniter': 1, 'androids': 1, 'sharedpreferences': 1, 'mangling': 1, 'enoding': 1, 'configurations': 1, 'cgpath': 1, 'intersects': 1, '1702': 1, '__attribute__': 1, 'packed': 1, 'viewcontrollertype': 1, 'nosuchmethodexception': 1, 'commonsmultipartfileinit': 1, 'myobjects': 1, 'duplicated': 1, 'javaxnetsslsslhandshakeexception': 1, 'sunsecurityvalidatorvalidatorexception': 1, 'pkix': 1, 'optical': 1, 'searches': 1, 'moved': 1, 'mercurial': 1, 'slowly': 1, 'protection': 1, 'programmer': 1, 'uialertviewcontroller': 1, 'emerg': 1, 'confd': 1, 'defaultconf1': 1, 'abstracttablemodel': 1, 'restrictions': 1, 'existence': 1, 'e200009': 1, 'xyzjava': 1, 'cdhtmldialogoninitdialog': 1, 'bootstrapnavbar': 1, 'letting': 1, 'qwidget': 1, 'qvboxlayout': 1, 'resizes': 1, 'qt4': 1, 'servletextend': 1, 'dragging': 1, 'hashhas_key': 1, 'jinput': 1, 'vogella': 1, 'complaint': 1, 'systembadimageformatexception': 1, 'textviewsetlayoutparams': 1, 'chr': 1, 'hinting': 1, '__call': 1, 'penalise': 1, 'jax': 1, 'appearance': 1, 'onscreen': 1, 'vanishes': 1, 'q': 1, 'quadrant': 1, 'cshtml': 1, 'nonpointer': 1, 'interpreting': 1, 'findinterval': 1, 'reordering': 1, 'initializers': 1, 'dbcollectionruncommand': 1, 'textsearchsearch': 1, 'messagessource': 1, 'followed': 1, 'coerced': 1, 'fixnum': 1, 'definitions': 1, 'trimming': 1, 'optionsselect': 1, 'license': 1, 'iorderedqueryable': 1, 'childtheme': 1, 'indicate': 1, 'inheritence': 1, 'solr': 1, 'incrementally': 1, 'hand': 1, 'dynamicexpressionparselambda': 1, 'viewsbinding': 1, 'nscfstring': 1, 'rdd': 1, 'treating': 1, 'quotations': 1, 'classgetclass': 1, 'troubleshooting': 1, 'onpreupdate': 1, 'strategies': 1, 'deadlocks': 1, 'jpgs': 1, 'clojure': 1, 'setters': 1, 'transactionatomic': 1, 'redefining': 1, 'navigatorgeolocationgetcurrentposition': 1, 'errorpermission_denied': 1, 'windowshowmodaldialog': 1, 'expressjs': 1, 'definitely': 1, 'reserved': 1, 'fields_get': 1, 'usb4javalisten': 1, 'brute': 1, 'pagesize': 1, 'sqli': 1, 'dissconnect': 1, 'concurrentsafe': 1, 'windowfunctions': 1, 'valuesfill': 1, 'scoped': 1, 'configurationerrorsexception': 1, 'javascriptserializerdeserialize': 1, 'relevant': 1, 'ctrlc': 1, 'anymore': 1, 'crm2011': 1, 'jdbcodbcpreparedstatementsetlong': 1, 'reversemap': 1, 'autowiring': 1, 'partitioner': 1, 'diy': 1, 'timepicker': 1, 'ganymede': 1, '7bit': 1, 'parity': 1, 'verifyerror': 1, 'inherit': 1, 'tetris': 1, 'mddialog': 1, 'string8operator': 1, 'constchar': 1, 'mailed': 1, 'stackoverflowexception': 1, 'initializecomponent': 1, 'logbackclassic': 1, 'decorating': 1, 'myapplication_default': 1, 'sidebar': 1, 'intervention': 1, 'slowed': 1, 'scoping': 1, 'stlstringc_str': 1, 'downloadhandler': 1, 'numeral': 1, 'signs': 1, 'crawl': 1, 'withtrashed': 1, 'ctree': 1, 'classification': 1, 'readstream': 1, 'timedrotatingfilehandler': 1, 'oauth2serverlaravel': 1, 'grey': 1, 'processrequest': 1, 'uiwindowcontroller': 1, 'hhmm': 1, 'duration': 1, 'aesmanaged': 1, 'stdruntime_error': 1, 'reallife': 1, 'onedimensional': 1, 'carrying': 1, 'msiexec': 1, 'datafile': 1, 'mousewheel': 1, 'mcustomscrollbar': 1, 'sl4': 1, 'asynceventargs': 1, 'invalidoperationexception': 1, 'phpmysql': 1, 'objectnet': 1, 'cellbackgroundcolor': 1, 'castle': 1, 'windsor': 1, 'reponses': 1, 'urlcontent': 1, 'mod': 1, 'bindebugappnamevshostexe': 1, 'appnamevshostmanifest': 1, 'systemstackoverflowexception': 1, 'requestpath': 1, 'ambethia': 1, 'filezip': 1, 'friday': 1, 'widths': 1, 'ycoordinates': 1, 'gesture': 1, 'systemthreading': 1, 'expireable': 1, 'resumable': 1, 'appache': 1, 'assert': 1, 'ndebug': 1, 'zoneddatetime': 1, 'datetimeoffset': 1, 'cmdwindow': 1, 'arraysstream': 1, 'array_name': 1, 'utf8b': 1, 'vectort': 1, 'integral': 1, 'ylim': 1, 'javalangillegalargumentexception': 1, 'traverse': 1, 'inheriting': 1, 'linqsql': 1, 'pagecreating': 1, 'sine': 1, 'opengl_points': 1, 'systemdrawingbrush': 1, 'tray': 1, 'balloons': 1, 'occupy': 1, 'dgw': 1, 'localtobindinglist': 1, 'publish': 1, 'spanish': 1, 'stoi': 1, 'along': 1, 'survey': 1, 'earlier': 1, 'higherlevel': 1, 'constructs': 1, 'easier': 1, 'flows': 1, 'springbatch': 1, 'formsauthenticationformscookiepath': 1, 'collectionviewsourceview': 1, 'mailaddress': 1, 'although': 1, 'forcing': 1, 'taskbar': 1, 'settemplate': 1, 'simplewire': 1, 'greasemonkey': 1, 'doctrine2': 1, 'rr': 1, 'mockinstance_of': 1, 'any_instance': 1, 'nsbitmapimagerep': 1, 'australian': 1, 'toderinputstream': 1, 'rejects': 1, 'ces': 1, 'orgspringframeworkbeansfactorybeancreationexception': 1, 'ordermysql': 1, 'almost': 1, 'reminder': 1, 'javaxmailmessagingexception': 1, 'servletexception': 1, 'orgeclipsejettywebsocketserverwebsocketserverfactory': 1, 'flattening': 1, 'locationoftouch': 1, 'numberoftouches': 1, 'addclass': 1, 'removeclass': 1, 'systemnet': 1, 'barplot': 1, 'exits': 1, 'often': 1, 'timeupdate': 1, 'svgpng': 1, 'datarow': 1, 'thru': 1, 'fleury': 1, 'hierholzer': 1, 'transformation': 1, 'orthogonal': 1, 'maintaining': 1, 'destination': 1, 'nodevalue': 1, 'pageexcel': 1, 'javalangabstractmethoderror': 1, 'charsetencoder': 1, 'onmalformedinput': 1, 'charsetdecoder': 1, 'onunmappablecharacter': 1, 'enumbad': 1, 'chtmlajaxlink': 1, 'containers': 1, 'registerclientscriptblock': 1, 'sqlitenet': 1, 'kentico': 1, 'episerver': 1, 'sudden': 1, 'javascripts': 1, 'thistostring': 1, 'addjavascriptinterface': 1, 'italics': 1, 'incomparable': 1, 'emdash': 1, 'accessibility': 1, 'taghandler': 1, 'edittagtag': 1, 'upgrading': 1, 'permutation': 1, 'invert': 1, 'ifs': 1, 'setlatesteventinfo': 1, 'dst': 1, 'php_perldll': 1, 'pecl4win': 1, 'wayretrieve': 1, 'competitors': 1, 'id1039': 1, 'v8': 1, 'mqrc_not_authorized': 1, '2035': 1, 'reconigzed': 1, 'axis2war': 1, 'jboss7': 1, 'delayed': 1, 'queryknown': 1, 'update_or_create': 1, 'respect': 1, 'anchoring': 1, 'clsid': 1, 'guid': 1, 'taskrun': 1, 'discourage': 1, 'isa': 1, 'periodic': 1, 'hd': 1, '160': 1, '150': 1, 'addsubview': 1, 'asking': 1, 'refusing': 1, 'dissapear': 1, 'dicerolling': 1, 'shake': 1, 'integersstring': 1, 'mailer': 1, '325': 1, 'argumenterror': 1, 'mosca': 1, 'rationale': 1, 'diaplay': 1, 'javacexe': 1, 'hold': 1, 'vice': 1, 'versa': 1, 'erroronly': 1, 'scrollview': 1, 'stringstartswith': 1, 'protecting': 1, 'multivaluedictkeyerror': 1, 'requesting': 1, 'orx': 1, 'enumerablerowcollectionstring': 1, 'comibmwsloggingobjecthpelwslogrecord': 1, 'templatedoesnotexist': 1, 'ntopenfile': 1, 'status_object_name_invalid': 1, 'differently': 1, 'pointerssmart': 1, 'pointersshared': 1, 'eventargs': 1, 'vulnerable': 1, 'fileresult': 1, 'invalidate': 1, 'redefinition': 1, 'typedef': 1, 'vibrate': 1, 'nontransparent': 1, 'responseredirect': 1, 'httpcontextcurrentitems': 1, 'rmarkdown': 1, 'transmitted': 1, 'randint': 1, 'uniform': 1, 'selectany': 1, 'dataeffect': 1, 'initalization': 1, 'latin1': 1, 'folderbrowserdialog': 1, 'selectedpath': 1, 'mycomputer': 1, 'inappropriate': 1, 'ioctl': 1, 'figuring': 1, 'nsoperationqueue': 1, 'kern_invalid_address': 1, 'requestconnectionremoteaddress': 1, 'prefixed': 1, 'ffff': 1, 'airport': 1, 'extreme': 1, 'scrolled': 1, 'taskcreationoptionsattachedtoparent': 1, 'javautillistjavalanginteger': 1, 'solutions': 1, 'user_timeline': 1, 'enumvalues': 1, 'enumsetallof': 1, 'preferable': 1, 'ef4': 1, 'vectorization': 1, 'microsoftvshupserverhttphostx64exe': 1, 'hexstring': 1, 'schema_migrations': 1, 'diff': 1, 'accounts': 1, 'onmouseoverdocumentgetelementbyid': 1, 'pooling': 1, 'tentity': 1, 'proc': 1, 'cursor': 1, 'pyvenv': 1, 'sitepackages': 1, 'submitchanges': 1, 'jsonignore': 1, 'bind_result': 1, 'get_result': 1, 'performed': 1, 'actionlisteners': 1, 'higher': 1, 'prebuild': 1, 'postbuild': 1, 'dotnet': 1, 'zend_progressbar': 1, 'before_action': 1, 'ef6': 1, '1st': 1, 'highchart': 1, 'binded': 1, 'comparision': 1, 'succinct': 1, 'literals': 1, 'duemilanove': 1, 'configurationmanager': 1, 'mediametadataretriever': 1, 'clauses': 1, 'mongoiderrorsdocumentnotfound': 1, 'administrator': 1, 'hierarchical': 1, 'analyzing': 1, 'lumen': 1, 'permgen': 1, 'medium': 1, 'enclosing': 1, 'ios6': 1, 'slcomposeviewcontroller': 1, 'twtweetcomposeviewcontroller': 1, 'ios5': 1, 'extracticonex': 1, 'setmenuitembitmaps': 1, 'frequently': 1, 'altnet': 1, 'bent': 1, 'webstart': 1, 'programs': 1, 'correction': 1, 'zip4j': 1, 'icheck': 1, 'catchable': 1, 'gcodeliteraly': 1, 'gcode': 1, 'contiguous': 1, 'iequalitycomparer': 1, 'gethashcode': 1, 'leads': 1, 'javalangnosuchmethoderror': 1, 'scalapredefaugmentstring': 1, 'ljava': 1, 'lang': 1, 'lscala': 1, 'stringops': 1, 'january': 1, 'nsdecimalnumber': 1, 'fileadd': 1, 'xmlgregoriancalendar': 1, 'jsni': 1, 'jsfunction': 1, 'objectweb': 1, 'konami': 1, 'pythonmysql': 1, 'mysqlclient': 1, 'parenttext': 1, 'childs': 1, 'overloaded': 1, 'preferculture': 1, 'callablestatement': 1, 'momentjs': 1, 'struggling': 1, 'crc16': 1, '0x8408': 1, 'reactor': 1, 'spreadsheets': 1, 'ssis': 1, 'stacktrace': 1, 'pxd': 1, 'filesaugment': 1, 'arrayrandom': 1, 'currency': 1, 'antiforgerytoken': 1, 'mpmusicplayercontroller': 1, 'xbar': 1, 'qcc': 1, '21': 1, 'ibm': 1, 'emailsend': 1, 'xmlfile': 1, 'typetext': 1, 'usages': 1, 'fileopen': 1, 'find_or_initialize_by_id': 1, 'vernam': 1, 'autoscaling': 1, 'userdefined': 1, 'nonalphabetic': 1, 'fastcgi': 1, 'deletion': 1, 'stdboolh': 1, 'connectedcomponent': 1, 'optimization': 1, 'orghibernatemappingjoinedsubclass': 1, 'orghibernatemappingrootclass': 1, 'executor': 1, 'cassandra': 1, 'cassandradriver': 1, 'multiplication': 1, '__name__': 1, '__main__': 1, 'atime': 1, 'mtime': 1, 'interpret': 1, 'reactnative': 1, 'dynamicmock': 1, 'noninterface': 1, 'nonmarshalbyref': 1, 'lambdareturning': 1, 'onblur': 1, 'googlemap': 1, 'stanford': 1, 'warn': 1, 'classs': 1, 'readwrite': 1, 'inputaccessoryview': 1, 'clashing': 1, 'usercontrols': 1, 'pageworks': 1, 'watermarked': 1, 'behaving': 1, 'strangely': 1, 'forecast': 1, 'xctest': 1, 'xctesth': 1, '511': 1, 'unmounted': 1, '5k': 1, 'urlspy': 1, 'pound': 1, 'scopesearch': 1, 'imagesxcassets': 1, 'nsimage': 1, 'slaves': 1, 'packagingpackage': 1, 'srve0199e': 1, 'outputstream': 1, 'premature': 1, 'indentationerror': 1, 'indent': 1, 'testcase': 1, 'matplot': 1, 'tabpanel': 1, 'processed': 1, 'taskexecutor': 1, 'picke': 1, 'childpage': 1, 'listasenumerable': 1, 'unquoted': 1, 'imagetkphotoimage': 1, 'crosscompiling': 1, 'armv6l': 1, 'armlinuxgnueabigcc': 1, 'rxjavas': 1, 'groupbymethods': 1, 'groupbygroupby': 1, 'table2exceljs': 1, 'adjacent': 1, 'webbrowsr': 1, 'mailr': 1, 'threadgroup': 1, 'observablecollection': 1, 'keystrokes': 1, 'sortby': 1, 'kcgimagepropertygifimagecolormap': 1, 'localsessionfactorybuilder': 1, 'loadable': 1, 'lkm': 1, 'selectlist': 1, 'action_image_capture': 1, 'intent': 1, 'ambiguity': 1, 'sqlparametercollection': 1, 'nonnull': 1, 'sqlparameter': 1, 'chromestoragesync': 1, 'published': 1, 'unpacker': 1, 'k': 1, 'autoupdate': 1, 'cloubblockblob': 1, 'acquirelease': 1, 'lease': 1, 'lat': 1, 'lng': 1, 'irregular': 1, 'strongly': 1, 'likely': 1, 'reachability': 1, 'formsauthenticationsetauthcookie': 1, 'xhr': 1, 'formshow': 1, 'blockblock': 1, 'thought': 1, 'generting': 1, 'celery_always_eager': 1, 'managedinstallerclass': 1, 'datapager': 1, 'unreported': 1, 'javaio': 1, 'filenotfoundexception': 1, 'httputilityhtmlencode': 1, 'backgroundtask': 1, 'deferralcomplete': 1, 'composition': 1, 'msaccess': 1, 'polygonshape': 1, 'ligdx': 1, 'watir': 1, 'lnk2038': 1, 'startdelay': 1, 'wildfly': 1, 'curves': 1, 'cmakeliststxt': 1, 'columnanother': 1, 'decoration': 1, 'isequaltostring': 1, 'tested': 1, 'gemfile': 1, 'mirror': 1, 'tweets': 1, 'tensorflowattributeerror': 1, 'mul': 1, 'sqlalchemydialectssqlite3': 1, 'objectinputstream': 1, '00000000': 1, 'ab': 1, 'nsstringhtml': 1, '5226': 1, '407': 1, 'interprocess': 1, 'dsn': 1, 'prediction': 1, 'linebreaks': 1, 'cinget': 1, 'inset': 1, 'uitabbarcontroller': 1, 'nav': 1, 'requestinput': 1, 'referential': 1, 'rowcommand': 1, 'countries': 1, 'depend': 1, 'team': 1, 'unity3dc': 1, 'executables': 1, 'proj4': 1, 'macos': 1, '1072': 1, 'twos': 1, 'pthread_cancel': 1, 'typegetproperties': 1, 'visualisation': 1, 'windowget': 1, 'stringstring': 1, 'charactersie': 1, 'loggedhide': 1, 'lstat': 1, 'circuit': 1, 'arrayforeach': 1, 'uikit': 1, 'increases': 1, 'pageable': 1, '19999': 1, 'restoring': 1, 'mysqli_stmtfetch_object': 1, 'floatparse': 1, 'meets': 1, 'requirement': 1, 'plaintext': 1, 'ciphertext': 1, 'preserves': 1, 'designing': 1, 'cool': 1, 'nullreference': 1, 'invoker': 1, 'scss': 1, 'multikey': 1, 'active_for_authentication': 1, 'calculationphp': 1, 'getcookies': 1, 'templaterequest': 1, 'timeoutexception': 1, 'mapsgoogleapiscom': 1, 'mozilla': 1, 'separating': 1, 'ancestors': 1, 'nt': 1, 'authorityanonymous': 1, 'logon': 1, 'soaperror': 1, '127001': 1, 'indexwsdl': 1, 'windowss': 1, 'djangoadminpy': 1, 'jqueryuse': 1, 'gridvew': 1, 'irandomaccessstreamwithcontenttype': 1, 'bg': 1, 'kinect': 1, 'elseif': 1, 'norm': 1, 'cvnorm': 1, 'jscript': 1, 'selects': 1, 'entitytype': 1, 'myhostname': 1, 'pre_replace': 1, 'follows': 1, 'interchangeable': 1, 'removes': 1, 'osgi': 1, 'objectwithin': 1, 'overlook': 1, 'groupbox': 1, 'frozen': 1, 'quantilequantile': 1, 'composed': 1, 'xibs': 1, 'iboutlet': 1, 'insideloop': 1, 'creat': 1, 'liner': 1, 'copyconstructor': 1, 'shallow': 1, 'multisite': 1, 'sites': 1, 'chunking': 1, 'appendalltext': 1, 'safearray': 1, 'expandable': 1, 'restsharp': 1, 'has_one': 1, 'stringbuilders': 1, 'appendformat': 1, 'containergetcomponents': 1, 'expacting': 1, 'compareto': 1, 'dataannotation': 1})\n",
      "Counter({'c#': 1948, 'java': 1891, 'javascript': 1855, 'php': 1409, 'python': 912, 'jquery': 757, 'c++': 632, 'html': 452, 'objective-c': 414, '.net': 389, 'asp.net': 370, 'ruby-on-rails': 345, 'mysql': 324, 'c': 302, 'ios': 299, 'android': 290, 'arrays': 245, 'ruby': 241, 'json': 220, 'vb.net': 196, 'django': 191, 'iphone': 191, 'css': 184, 'ajax': 180, 'r': 166, 'winforms': 163, 'xml': 154, 'wpf': 152, 'string': 149, 'spring': 144, 'swift': 139, 'angularjs': 136, 'sql': 129, 'regex': 126, 'asp.net-mvc': 125, 'multithreading': 121, 'linq': 116, 'xcode': 91, 'forms': 89, 'eclipse': 84, 'swing': 83, 'windows': 79, 'entity-framework': 78, 'codeigniter': 77, 'hibernate': 77, 'html5': 75, 'linux': 74, 'function': 68, 'database': 67, 'visual-studio-2010': 67, 'node.js': 67, 'list': 66, 'jsp': 64, 'ruby-on-rails-3': 63, 'image': 63, 'web-services': 61, 'spring-mvc': 60, 'laravel': 60, 'file': 60, 'wordpress': 58, 'facebook': 56, 'python-2.7': 55, 'performance': 54, 'sockets': 54, 'validation': 54, 'rest': 52, 'generics': 52, 'date': 51, 'cocoa-touch': 51, 'class': 50, 'xaml': 50, 'google-maps': 49, 'visual-studio': 49, 'datetime': 49, 'twitter-bootstrap': 48, 'osx': 48, 'unit-testing': 48, 'session': 48, 'excel': 47, 'loops': 46, 'dom': 45, 'csv': 45, 'oop': 44, 'algorithm': 43, 'sorting': 43, 'sql-server': 43, 'apache': 43, 'numpy': 42, 'servlets': 42, 'qt': 41, 'opencv': 40, 'parsing': 40, 'pandas': 40, 'uitableview': 39, 'selenium': 39, 'pointers': 38, 'maven': 37, 'wcf': 36, 'python-3.x': 32, 'mongodb': 31})\n"
     ]
    }
   ],
   "source": [
    "words = [] \n",
    "tag_w = [] \n",
    "\n",
    "for i in range (0,10000 ): \n",
    "    words = words + re.findall (r'\\w+' , X_train[i]) # words is list type\n",
    "     # words = words + list (X_train [i]) # The reason it cannot be replaced is that list objects str into a single character \n",
    "\n",
    "    tag_w = tag_w + y_train[i] # tage_w contains all tags that aree present in train dataset \n",
    "  # if (i + 1)% 100 == 0: \n",
    "  # print (re.findall (r '\\ w +', X_train [i]), ':', y_train [i]) \n",
    "words_counts = Counter (words) \n",
    "\n",
    "  # counter create the dictinary of unique words with their frequncy \n",
    "tag_counts = Counter (tag_w) \n",
    "\n",
    "print (words_counts) \n",
    "\n",
    "print (tag_counts) \n",
    "\n",
    "\n",
    "\n",
    "# # Dictionary of all tags from train corpus with their counts.\n",
    "# tags_counts = tag_counts\n",
    "# # Dictionary of all words from train corpus with their counts.\n",
    "# words_counts = Counter(words)\n",
    "# Dictionary of all tags from train corpus with their counts.\n",
    "# tags_counts = Counter(chain.from_iterable([np.split(i,4) for i in y_train]))\n",
    "\n",
    "# # Dictionary of all words from train corpus with their counts.\n",
    "# words_counts = Counter(chain.from_iterable([i.split(\" \") for i in X_train]))\n"
   ]
  },
  {
   "cell_type": "markdown",
   "metadata": {},
   "source": [
    "We are assuming that *tags_counts* and *words_counts* are dictionaries like `{'some_word_or_tag': frequency}`. After applying the sorting procedure, results will be look like this: `[('most_popular_word_or_tag', frequency), ('less_popular_word_or_tag', frequency), ...]`. The grader gets the results in the following format (two comma-separated strings with line break):\n",
    "\n",
    "    tag1,tag2,tag3\n",
    "    word1,word2,word3\n",
    "\n",
    "Pay attention that in this assignment you should not submit frequencies or some additional information."
   ]
  },
  {
   "cell_type": "code",
   "execution_count": 21,
   "metadata": {},
   "outputs": [
    {
     "name": "stdout",
     "output_type": "stream",
     "text": [
      "Current answer for task WordsTagsCount is:\n",
      " c#,java,javascript\n",
      "using,c,java...\n"
     ]
    }
   ],
   "source": [
    "most_common_tags = sorted(tag_counts.items(), key=lambda x: x[1], reverse=True)[:3]\n",
    "most_common_words = sorted(words_counts.items(), key=lambda x: x[1], reverse=True)[:3]\n",
    "\n",
    "grader.submit_tag('WordsTagsCount', '%s\\n%s' % (','.join(tag for tag, _ in most_common_tags), \n",
    "                                                ','.join(word for word, _ in most_common_words)))"
   ]
  },
  {
   "cell_type": "markdown",
   "metadata": {},
   "source": [
    "### Transforming text to a vector\n",
    "\n",
    "Machine Learning algorithms work with numeric data and we cannot use the provided text data \"as is\". There are many ways to transform text data to numeric vectors. In this task you will try to use two of them.\n",
    "\n",
    "#### Bag of words\n",
    "\n",
    "One of the well-known approaches is a *bag-of-words* representation. To create this transformation, follow the steps:\n",
    "1. Find *N* most popular words in train corpus and numerate them. Now we have a dictionary of the most popular words.\n",
    "2. For each title in the corpora create a zero vector with the dimension equals to *N*.\n",
    "3. For each text in the corpora iterate over words which are in the dictionary and increase by 1 the corresponding coordinate.\n",
    "\n",
    "Let's try to do it for a toy example. Imagine that we have *N* = 4 and the list of the most popular words is \n",
    "\n",
    "    ['hi', 'you', 'me', 'are']\n",
    "\n",
    "Then we need to numerate them, for example, like this: \n",
    "\n",
    "    {'hi': 0, 'you': 1, 'me': 2, 'are': 3}\n",
    "\n",
    "And we have the text, which we want to transform to the vector:\n",
    "\n",
    "    'hi how are you'\n",
    "\n",
    "For this text we create a corresponding zero vector \n",
    "\n",
    "    [0, 0, 0, 0]\n",
    "    \n",
    "And iterate over all words, and if the word is in the dictionary, we increase the value of the corresponding position in the vector:\n",
    "\n",
    "    'hi':  [1, 0, 0, 0]\n",
    "    'how': [1, 0, 0, 0] # word 'how' is not in our dictionary\n",
    "    'are': [1, 0, 0, 1]\n",
    "    'you': [1, 1, 0, 1]\n",
    "\n",
    "The resulting vector will be \n",
    "\n",
    "    [1, 1, 0, 1]\n",
    "   \n",
    "Implement the described encoding in the function *my_bag_of_words* with the size of the dictionary equals to 5000. To find the most common words use train data. You can test your code using the function *test_my_bag_of_words*."
   ]
  },
  {
   "cell_type": "code",
   "execution_count": 60,
   "metadata": {},
   "outputs": [],
   "source": [
    "DICT_SIZE = 5000\n",
    "most_common_words = sorted (words_counts.items (), key = lambda x: x [1], reverse = True) [: DICT_SIZE]  \n",
    "WORDS_TO_INDEX = {} \n",
    "INDEX_TO_WORDS = {} \n",
    "for i in range (0,5000):\n",
    "    WORDS_TO_INDEX [most_common_words [i] [0]] = i # word-> i\n",
    "    INDEX_TO_WORDS [i] = most_common_words [i] [0] # i <-word\n",
    "    \n",
    "ALL_WORDS = WORDS_TO_INDEX.keys () \n",
    "  # print (type (ALL_WORDS)) <class 'dict_keys'>\n",
    "def my_bag_of_words (text, words_to_index, dict_size):\n",
    "    \n",
    "    \"\"\" \n",
    "        text: a string \n",
    "        dict_size: size of the dictionary \n",
    "        dict_size \n",
    "        return a vector which is a bag-of-words representation of 'text' \n",
    "    \"\"\" \n",
    "    result_vector = np.zeros (dict_size) \n",
    "    y = text.split ( \" \" ) \n",
    "      # for i in len (y): error\n",
    "    for i in range (0, len (y)):\n",
    "        for key, value in words_to_index.items ():\n",
    "            if y [i] == key:\n",
    "                result_vector [words_to_index [key]] = 1 + result_vector [words_to_index [key]] \n",
    "     \n",
    "        \n",
    "    return result_vector "
   ]
  },
  {
   "cell_type": "code",
   "execution_count": 61,
   "metadata": {},
   "outputs": [],
   "source": [
    "def test_my_bag_of_words():\n",
    "    words_to_index = {'hi': 0, 'you': 1, 'me': 2, 'are': 3}\n",
    "    examples = ['hi how are you']\n",
    "    answers = [[1, 1, 0, 1]]\n",
    "    for ex, ans in zip(examples, answers):\n",
    "        if (my_bag_of_words(ex, words_to_index, 4) != ans).any():\n",
    "            return \"Wrong answer for the case: '%s'\" % ex\n",
    "    return 'Basic tests are passed.'\n",
    "\n"
   ]
  },
  {
   "cell_type": "code",
   "execution_count": 62,
   "metadata": {},
   "outputs": [
    {
     "name": "stdout",
     "output_type": "stream",
     "text": [
      "Basic tests are passed.\n"
     ]
    }
   ],
   "source": [
    "print(test_my_bag_of_words())"
   ]
  },
  {
   "cell_type": "markdown",
   "metadata": {},
   "source": [
    "Now apply the implemented function to all samples (this might take up to a minute):"
   ]
  },
  {
   "cell_type": "code",
   "execution_count": 63,
   "metadata": {},
   "outputs": [],
   "source": [
    "from scipy import sparse as sp_sparse"
   ]
  },
  {
   "cell_type": "code",
   "execution_count": 64,
   "metadata": {},
   "outputs": [
    {
     "name": "stdout",
     "output_type": "stream",
     "text": [
      "X_train shape  (100000, 5000)\n",
      "X_val shape  (30000, 5000)\n",
      "X_test shape  (20000, 5000)\n"
     ]
    }
   ],
   "source": [
    "X_train_mybag = sp_sparse.vstack([sp_sparse.csr_matrix(my_bag_of_words(text, WORDS_TO_INDEX, DICT_SIZE)) for text in X_train])\n",
    "X_val_mybag = sp_sparse.vstack([sp_sparse.csr_matrix(my_bag_of_words(text, WORDS_TO_INDEX, DICT_SIZE)) for text in X_val])\n",
    "X_test_mybag = sp_sparse.vstack([sp_sparse.csr_matrix(my_bag_of_words(text, WORDS_TO_INDEX, DICT_SIZE)) for text in X_test])\n",
    "print('X_train shape ', X_train_mybag.shape)\n",
    "print('X_val shape ', X_val_mybag.shape)\n",
    "print('X_test shape ', X_test_mybag.shape)"
   ]
  },
  {
   "cell_type": "markdown",
   "metadata": {},
   "source": [
    "As you might notice, we transform the data to sparse representation, to store the useful information efficiently. There are many [types](https://docs.scipy.org/doc/scipy/reference/sparse.html) of such representations, however sklearn algorithms can work only with [csr](https://docs.scipy.org/doc/scipy/reference/generated/scipy.sparse.csr_matrix.html#scipy.sparse.csr_matrix) matrix, so we will use this one."
   ]
  },
  {
   "cell_type": "markdown",
   "metadata": {},
   "source": [
    "**Task 3 (BagOfWords).** For the 11th row in *X_train_mybag* find how many non-zero elements it has. In this task the answer (variable *non_zero_elements_count*) should be a number, e.g. 20."
   ]
  },
  {
   "cell_type": "code",
   "execution_count": 65,
   "metadata": {},
   "outputs": [
    {
     "name": "stdout",
     "output_type": "stream",
     "text": [
      "Current answer for task BagOfWords is:\n",
      " 8...\n"
     ]
    }
   ],
   "source": [
    "row = X_train_mybag[10].toarray()[0]\n",
    "non_zero_elements_count = 0####### YOUR CODE HERE #######\n",
    "for i in range(0,5000):\n",
    "    if (row[i]==1):\n",
    "        non_zero_elements_count=non_zero_elements_count+1\n",
    "\n",
    "grader.submit_tag('BagOfWords', str(non_zero_elements_count))"
   ]
  },
  {
   "cell_type": "markdown",
   "metadata": {},
   "source": [
    "#### TF-IDF\n",
    "\n",
    "The second approach extends the bag-of-words framework by taking into account total frequencies of words in the corpora. It helps to penalize too frequent words and provide better features space. \n",
    "\n",
    "Implement function *tfidf_features* using class [TfidfVectorizer](http://scikit-learn.org/stable/modules/generated/sklearn.feature_extraction.text.TfidfVectorizer.html) from *scikit-learn*. Use *train* corpus to train a vectorizer. Don't forget to take a look into the arguments that you can pass to it. We suggest that you filter out too rare words (occur less than in 5 titles) and too frequent words (occur more than in 90% of the titles). Also, use bigrams along with unigrams in your vocabulary. "
   ]
  },
  {
   "cell_type": "code",
   "execution_count": 66,
   "metadata": {},
   "outputs": [],
   "source": [
    "from sklearn.feature_extraction.text import TfidfVectorizer"
   ]
  },
  {
   "cell_type": "code",
   "execution_count": 67,
   "metadata": {},
   "outputs": [],
   "source": [
    "def tfidf_features(X_train, X_val, X_test):\n",
    "    \"\"\"\n",
    "        X_train, X_val, X_test — samples        \n",
    "        return TF-IDF vectorized representation of each sample and vocabulary\n",
    "    \"\"\"\n",
    "    # Create TF-IDF vectorizer with a proper parameters choice\n",
    "    # Fit the vectorizer on the train set\n",
    "    # Transform the train, test, and val sets and return the result\n",
    "    \n",
    "    \n",
    "    tfidf_vectorizer = TfidfVectorizer(X_train,ngram_range=(1,2),max_df=0.2,min_df=3,token_pattern=r'(\\S+)' )\n",
    "    tfidf_vectorizer.fit(X_train)\n",
    "    X_train = tfidf_vectorizer.transform(X_train)\n",
    "    X_val = tfidf_vectorizer.transform(X_val)\n",
    "    X_test = tfidf_vectorizer.transform(X_test)\n",
    "   \n",
    "    \n",
    "    return X_train, X_val, X_test, tfidf_vectorizer.vocabulary_"
   ]
  },
  {
   "cell_type": "markdown",
   "metadata": {},
   "source": [
    "Once you have done text preprocessing, always have a look at the results. Be very careful at this step, because the performance of future models will drastically depend on it. \n",
    "\n",
    "In this case, check whether you have c++ or c# in your vocabulary, as they are obviously important tokens in our tags prediction task:"
   ]
  },
  {
   "cell_type": "code",
   "execution_count": 68,
   "metadata": {},
   "outputs": [],
   "source": [
    "X_train_tfidf, X_val_tfidf, X_test_tfidf, tfidf_vocab = tfidf_features(X_train, X_val, X_test)\n",
    "tfidf_reversed_vocab = {i:word for word,i in tfidf_vocab.items()}"
   ]
  },
  {
   "cell_type": "code",
   "execution_count": 69,
   "metadata": {},
   "outputs": [
    {
     "name": "stdout",
     "output_type": "stream",
     "text": [
      "False\n",
      "True\n"
     ]
    }
   ],
   "source": [
    "print(\"c#\" in set(tfidf_reversed_vocab.values()))\n",
    "print(\"c++\" in set(tfidf_reversed_vocab.values()))"
   ]
  },
  {
   "cell_type": "markdown",
   "metadata": {},
   "source": [
    "If you can't find it, we need to understand how did it happen that we lost them? It happened during the built-in tokenization of TfidfVectorizer. Luckily, we can influence on this process. Get back to the function above and use '(\\S+)' regexp as a *token_pattern* in the constructor of the vectorizer.  "
   ]
  },
  {
   "cell_type": "markdown",
   "metadata": {},
   "source": [
    "Now, use this transormation for the data and check again."
   ]
  },
  {
   "cell_type": "code",
   "execution_count": 70,
   "metadata": {},
   "outputs": [],
   "source": [
    "######### YOUR CODE HERE #############"
   ]
  },
  {
   "cell_type": "markdown",
   "metadata": {},
   "source": [
    "### MultiLabel classifier\n",
    "\n",
    "As we have noticed before, in this task each example can have multiple tags. To deal with such kind of prediction, we need to transform labels in a binary form and the prediction will be a mask of 0s and 1s. For this purpose it is convenient to use [MultiLabelBinarizer](http://scikit-learn.org/stable/modules/generated/sklearn.preprocessing.MultiLabelBinarizer.html) from *sklearn*."
   ]
  },
  {
   "cell_type": "code",
   "execution_count": 71,
   "metadata": {},
   "outputs": [],
   "source": [
    "from sklearn.preprocessing import MultiLabelBinarizer"
   ]
  },
  {
   "cell_type": "code",
   "execution_count": null,
   "metadata": {},
   "outputs": [],
   "source": []
  },
  {
   "cell_type": "code",
   "execution_count": 72,
   "metadata": {},
   "outputs": [
    {
     "name": "stderr",
     "output_type": "stream",
     "text": [
      "/home/aims/.local/lib/python3.7/site-packages/sklearn/preprocessing/label.py:951: UserWarning: unknown class(es) [0, 1] will be ignored\n",
      "  .format(sorted(unknown, key=str)))\n"
     ]
    }
   ],
   "source": [
    "\n",
    "mlb = MultiLabelBinarizer(classes=sorted(tag_counts.keys()))\n",
    "y_train = mlb.fit_transform(y_train)\n",
    "y_val = mlb.fit_transform(y_val)"
   ]
  },
  {
   "cell_type": "code",
   "execution_count": null,
   "metadata": {},
   "outputs": [],
   "source": []
  },
  {
   "cell_type": "markdown",
   "metadata": {},
   "source": [
    "Implement the function *train_classifier* for training a classifier. In this task we suggest to use One-vs-Rest approach, which is implemented in [OneVsRestClassifier](http://scikit-learn.org/stable/modules/generated/sklearn.multiclass.OneVsRestClassifier.html) class. In this approach *k* classifiers (= number of tags) are trained. As a basic classifier, use [LogisticRegression](http://scikit-learn.org/stable/modules/generated/sklearn.linear_model.LogisticRegression.html). It is one of the simplest methods, but often it performs good enough in text classification tasks. It might take some time, because a number of classifiers to train is large."
   ]
  },
  {
   "cell_type": "code",
   "execution_count": 73,
   "metadata": {},
   "outputs": [],
   "source": [
    "from sklearn.multiclass import OneVsRestClassifier\n",
    "from sklearn.linear_model import LogisticRegression, RidgeClassifier"
   ]
  },
  {
   "cell_type": "code",
   "execution_count": 74,
   "metadata": {},
   "outputs": [],
   "source": [
    "from sklearn.linear_model import LogisticRegression\n",
    "from sklearn.discriminant_analysis import LinearDiscriminantAnalysis\n",
    "from sklearn.svm import LinearSVC\n",
    "from sklearn.naive_bayes import MultinomialNB\n",
    "#from lightgbm import LGBMClassifier\n",
    "\n",
    "def train_classifier(X_train, y_train):\n",
    "    \"\"\"\n",
    "      X_train, y_train — training data\n",
    "      \n",
    "      return: trained classifier\n",
    "    \"\"\"\n",
    "    \n",
    "    # Create and fit LogisticRegression wraped into OneVsRestClassifier.\n",
    "\n",
    "    model=OneVsRestClassifier(LogisticRegression()).fit(X_train,y_train) \n",
    "    return model"
   ]
  },
  {
   "cell_type": "code",
   "execution_count": 75,
   "metadata": {},
   "outputs": [
    {
     "name": "stdout",
     "output_type": "stream",
     "text": [
      "X_test_tfidf  (20000, 34720)\n",
      "X_val_tfidf  (30000, 34720)\n"
     ]
    }
   ],
   "source": [
    "print('X_test_tfidf ', X_test_tfidf.shape) \n",
    "print('X_val_tfidf ',X_val_tfidf.shape)"
   ]
  },
  {
   "cell_type": "markdown",
   "metadata": {},
   "source": [
    "Train the classifiers for different data transformations: *bag-of-words* and *tf-idf*."
   ]
  },
  {
   "cell_type": "code",
   "execution_count": 76,
   "metadata": {},
   "outputs": [
    {
     "name": "stderr",
     "output_type": "stream",
     "text": [
      "/home/aims/.local/lib/python3.7/site-packages/sklearn/multiclass.py:76: UserWarning: Label not 0 is present in all training examples.\n",
      "  str(classes[c]))\n",
      "/home/aims/.local/lib/python3.7/site-packages/sklearn/multiclass.py:76: UserWarning: Label not 1 is present in all training examples.\n",
      "  str(classes[c]))\n",
      "/home/aims/.local/lib/python3.7/site-packages/sklearn/multiclass.py:76: UserWarning: Label not 2 is present in all training examples.\n",
      "  str(classes[c]))\n",
      "/home/aims/.local/lib/python3.7/site-packages/sklearn/multiclass.py:76: UserWarning: Label not 3 is present in all training examples.\n",
      "  str(classes[c]))\n",
      "/home/aims/.local/lib/python3.7/site-packages/sklearn/multiclass.py:76: UserWarning: Label not 4 is present in all training examples.\n",
      "  str(classes[c]))\n",
      "/home/aims/.local/lib/python3.7/site-packages/sklearn/multiclass.py:76: UserWarning: Label not 5 is present in all training examples.\n",
      "  str(classes[c]))\n",
      "/home/aims/.local/lib/python3.7/site-packages/sklearn/multiclass.py:76: UserWarning: Label not 6 is present in all training examples.\n",
      "  str(classes[c]))\n",
      "/home/aims/.local/lib/python3.7/site-packages/sklearn/multiclass.py:76: UserWarning: Label not 7 is present in all training examples.\n",
      "  str(classes[c]))\n",
      "/home/aims/.local/lib/python3.7/site-packages/sklearn/multiclass.py:76: UserWarning: Label not 8 is present in all training examples.\n",
      "  str(classes[c]))\n",
      "/home/aims/.local/lib/python3.7/site-packages/sklearn/multiclass.py:76: UserWarning: Label not 9 is present in all training examples.\n",
      "  str(classes[c]))\n",
      "/home/aims/.local/lib/python3.7/site-packages/sklearn/multiclass.py:76: UserWarning: Label not 10 is present in all training examples.\n",
      "  str(classes[c]))\n",
      "/home/aims/.local/lib/python3.7/site-packages/sklearn/multiclass.py:76: UserWarning: Label not 11 is present in all training examples.\n",
      "  str(classes[c]))\n",
      "/home/aims/.local/lib/python3.7/site-packages/sklearn/multiclass.py:76: UserWarning: Label not 12 is present in all training examples.\n",
      "  str(classes[c]))\n",
      "/home/aims/.local/lib/python3.7/site-packages/sklearn/multiclass.py:76: UserWarning: Label not 13 is present in all training examples.\n",
      "  str(classes[c]))\n",
      "/home/aims/.local/lib/python3.7/site-packages/sklearn/multiclass.py:76: UserWarning: Label not 14 is present in all training examples.\n",
      "  str(classes[c]))\n",
      "/home/aims/.local/lib/python3.7/site-packages/sklearn/multiclass.py:76: UserWarning: Label not 15 is present in all training examples.\n",
      "  str(classes[c]))\n",
      "/home/aims/.local/lib/python3.7/site-packages/sklearn/multiclass.py:76: UserWarning: Label not 16 is present in all training examples.\n",
      "  str(classes[c]))\n",
      "/home/aims/.local/lib/python3.7/site-packages/sklearn/multiclass.py:76: UserWarning: Label not 17 is present in all training examples.\n",
      "  str(classes[c]))\n",
      "/home/aims/.local/lib/python3.7/site-packages/sklearn/multiclass.py:76: UserWarning: Label not 18 is present in all training examples.\n",
      "  str(classes[c]))\n",
      "/home/aims/.local/lib/python3.7/site-packages/sklearn/multiclass.py:76: UserWarning: Label not 19 is present in all training examples.\n",
      "  str(classes[c]))\n",
      "/home/aims/.local/lib/python3.7/site-packages/sklearn/multiclass.py:76: UserWarning: Label not 20 is present in all training examples.\n",
      "  str(classes[c]))\n",
      "/home/aims/.local/lib/python3.7/site-packages/sklearn/multiclass.py:76: UserWarning: Label not 21 is present in all training examples.\n",
      "  str(classes[c]))\n",
      "/home/aims/.local/lib/python3.7/site-packages/sklearn/multiclass.py:76: UserWarning: Label not 22 is present in all training examples.\n",
      "  str(classes[c]))\n",
      "/home/aims/.local/lib/python3.7/site-packages/sklearn/multiclass.py:76: UserWarning: Label not 23 is present in all training examples.\n",
      "  str(classes[c]))\n",
      "/home/aims/.local/lib/python3.7/site-packages/sklearn/multiclass.py:76: UserWarning: Label not 24 is present in all training examples.\n",
      "  str(classes[c]))\n",
      "/home/aims/.local/lib/python3.7/site-packages/sklearn/multiclass.py:76: UserWarning: Label not 25 is present in all training examples.\n",
      "  str(classes[c]))\n",
      "/home/aims/.local/lib/python3.7/site-packages/sklearn/multiclass.py:76: UserWarning: Label not 26 is present in all training examples.\n",
      "  str(classes[c]))\n",
      "/home/aims/.local/lib/python3.7/site-packages/sklearn/multiclass.py:76: UserWarning: Label not 27 is present in all training examples.\n",
      "  str(classes[c]))\n",
      "/home/aims/.local/lib/python3.7/site-packages/sklearn/multiclass.py:76: UserWarning: Label not 28 is present in all training examples.\n",
      "  str(classes[c]))\n",
      "/home/aims/.local/lib/python3.7/site-packages/sklearn/multiclass.py:76: UserWarning: Label not 29 is present in all training examples.\n",
      "  str(classes[c]))\n",
      "/home/aims/.local/lib/python3.7/site-packages/sklearn/multiclass.py:76: UserWarning: Label not 30 is present in all training examples.\n",
      "  str(classes[c]))\n",
      "/home/aims/.local/lib/python3.7/site-packages/sklearn/multiclass.py:76: UserWarning: Label not 31 is present in all training examples.\n",
      "  str(classes[c]))\n",
      "/home/aims/.local/lib/python3.7/site-packages/sklearn/multiclass.py:76: UserWarning: Label not 32 is present in all training examples.\n",
      "  str(classes[c]))\n",
      "/home/aims/.local/lib/python3.7/site-packages/sklearn/multiclass.py:76: UserWarning: Label not 33 is present in all training examples.\n",
      "  str(classes[c]))\n",
      "/home/aims/.local/lib/python3.7/site-packages/sklearn/multiclass.py:76: UserWarning: Label not 34 is present in all training examples.\n",
      "  str(classes[c]))\n",
      "/home/aims/.local/lib/python3.7/site-packages/sklearn/multiclass.py:76: UserWarning: Label not 35 is present in all training examples.\n",
      "  str(classes[c]))\n",
      "/home/aims/.local/lib/python3.7/site-packages/sklearn/multiclass.py:76: UserWarning: Label not 36 is present in all training examples.\n",
      "  str(classes[c]))\n",
      "/home/aims/.local/lib/python3.7/site-packages/sklearn/multiclass.py:76: UserWarning: Label not 37 is present in all training examples.\n",
      "  str(classes[c]))\n",
      "/home/aims/.local/lib/python3.7/site-packages/sklearn/multiclass.py:76: UserWarning: Label not 38 is present in all training examples.\n",
      "  str(classes[c]))\n",
      "/home/aims/.local/lib/python3.7/site-packages/sklearn/multiclass.py:76: UserWarning: Label not 39 is present in all training examples.\n",
      "  str(classes[c]))\n",
      "/home/aims/.local/lib/python3.7/site-packages/sklearn/multiclass.py:76: UserWarning: Label not 40 is present in all training examples.\n",
      "  str(classes[c]))\n",
      "/home/aims/.local/lib/python3.7/site-packages/sklearn/multiclass.py:76: UserWarning: Label not 41 is present in all training examples.\n",
      "  str(classes[c]))\n",
      "/home/aims/.local/lib/python3.7/site-packages/sklearn/multiclass.py:76: UserWarning: Label not 42 is present in all training examples.\n",
      "  str(classes[c]))\n",
      "/home/aims/.local/lib/python3.7/site-packages/sklearn/multiclass.py:76: UserWarning: Label not 43 is present in all training examples.\n",
      "  str(classes[c]))\n",
      "/home/aims/.local/lib/python3.7/site-packages/sklearn/multiclass.py:76: UserWarning: Label not 44 is present in all training examples.\n",
      "  str(classes[c]))\n",
      "/home/aims/.local/lib/python3.7/site-packages/sklearn/multiclass.py:76: UserWarning: Label not 45 is present in all training examples.\n",
      "  str(classes[c]))\n",
      "/home/aims/.local/lib/python3.7/site-packages/sklearn/multiclass.py:76: UserWarning: Label not 46 is present in all training examples.\n",
      "  str(classes[c]))\n",
      "/home/aims/.local/lib/python3.7/site-packages/sklearn/multiclass.py:76: UserWarning: Label not 47 is present in all training examples.\n",
      "  str(classes[c]))\n",
      "/home/aims/.local/lib/python3.7/site-packages/sklearn/multiclass.py:76: UserWarning: Label not 48 is present in all training examples.\n",
      "  str(classes[c]))\n",
      "/home/aims/.local/lib/python3.7/site-packages/sklearn/multiclass.py:76: UserWarning: Label not 49 is present in all training examples.\n",
      "  str(classes[c]))\n",
      "/home/aims/.local/lib/python3.7/site-packages/sklearn/multiclass.py:76: UserWarning: Label not 50 is present in all training examples.\n",
      "  str(classes[c]))\n",
      "/home/aims/.local/lib/python3.7/site-packages/sklearn/multiclass.py:76: UserWarning: Label not 51 is present in all training examples.\n",
      "  str(classes[c]))\n",
      "/home/aims/.local/lib/python3.7/site-packages/sklearn/multiclass.py:76: UserWarning: Label not 52 is present in all training examples.\n",
      "  str(classes[c]))\n",
      "/home/aims/.local/lib/python3.7/site-packages/sklearn/multiclass.py:76: UserWarning: Label not 53 is present in all training examples.\n",
      "  str(classes[c]))\n",
      "/home/aims/.local/lib/python3.7/site-packages/sklearn/multiclass.py:76: UserWarning: Label not 54 is present in all training examples.\n",
      "  str(classes[c]))\n",
      "/home/aims/.local/lib/python3.7/site-packages/sklearn/multiclass.py:76: UserWarning: Label not 55 is present in all training examples.\n",
      "  str(classes[c]))\n",
      "/home/aims/.local/lib/python3.7/site-packages/sklearn/multiclass.py:76: UserWarning: Label not 56 is present in all training examples.\n",
      "  str(classes[c]))\n",
      "/home/aims/.local/lib/python3.7/site-packages/sklearn/multiclass.py:76: UserWarning: Label not 57 is present in all training examples.\n",
      "  str(classes[c]))\n",
      "/home/aims/.local/lib/python3.7/site-packages/sklearn/multiclass.py:76: UserWarning: Label not 58 is present in all training examples.\n",
      "  str(classes[c]))\n",
      "/home/aims/.local/lib/python3.7/site-packages/sklearn/multiclass.py:76: UserWarning: Label not 59 is present in all training examples.\n",
      "  str(classes[c]))\n",
      "/home/aims/.local/lib/python3.7/site-packages/sklearn/multiclass.py:76: UserWarning: Label not 60 is present in all training examples.\n",
      "  str(classes[c]))\n",
      "/home/aims/.local/lib/python3.7/site-packages/sklearn/multiclass.py:76: UserWarning: Label not 61 is present in all training examples.\n",
      "  str(classes[c]))\n",
      "/home/aims/.local/lib/python3.7/site-packages/sklearn/multiclass.py:76: UserWarning: Label not 62 is present in all training examples.\n",
      "  str(classes[c]))\n",
      "/home/aims/.local/lib/python3.7/site-packages/sklearn/multiclass.py:76: UserWarning: Label not 63 is present in all training examples.\n",
      "  str(classes[c]))\n",
      "/home/aims/.local/lib/python3.7/site-packages/sklearn/multiclass.py:76: UserWarning: Label not 64 is present in all training examples.\n",
      "  str(classes[c]))\n",
      "/home/aims/.local/lib/python3.7/site-packages/sklearn/multiclass.py:76: UserWarning: Label not 65 is present in all training examples.\n",
      "  str(classes[c]))\n",
      "/home/aims/.local/lib/python3.7/site-packages/sklearn/multiclass.py:76: UserWarning: Label not 66 is present in all training examples.\n",
      "  str(classes[c]))\n",
      "/home/aims/.local/lib/python3.7/site-packages/sklearn/multiclass.py:76: UserWarning: Label not 67 is present in all training examples.\n",
      "  str(classes[c]))\n",
      "/home/aims/.local/lib/python3.7/site-packages/sklearn/multiclass.py:76: UserWarning: Label not 68 is present in all training examples.\n",
      "  str(classes[c]))\n",
      "/home/aims/.local/lib/python3.7/site-packages/sklearn/multiclass.py:76: UserWarning: Label not 69 is present in all training examples.\n",
      "  str(classes[c]))\n",
      "/home/aims/.local/lib/python3.7/site-packages/sklearn/multiclass.py:76: UserWarning: Label not 70 is present in all training examples.\n",
      "  str(classes[c]))\n",
      "/home/aims/.local/lib/python3.7/site-packages/sklearn/multiclass.py:76: UserWarning: Label not 71 is present in all training examples.\n",
      "  str(classes[c]))\n",
      "/home/aims/.local/lib/python3.7/site-packages/sklearn/multiclass.py:76: UserWarning: Label not 72 is present in all training examples.\n",
      "  str(classes[c]))\n",
      "/home/aims/.local/lib/python3.7/site-packages/sklearn/multiclass.py:76: UserWarning: Label not 73 is present in all training examples.\n",
      "  str(classes[c]))\n",
      "/home/aims/.local/lib/python3.7/site-packages/sklearn/multiclass.py:76: UserWarning: Label not 74 is present in all training examples.\n",
      "  str(classes[c]))\n",
      "/home/aims/.local/lib/python3.7/site-packages/sklearn/multiclass.py:76: UserWarning: Label not 75 is present in all training examples.\n",
      "  str(classes[c]))\n",
      "/home/aims/.local/lib/python3.7/site-packages/sklearn/multiclass.py:76: UserWarning: Label not 76 is present in all training examples.\n",
      "  str(classes[c]))\n",
      "/home/aims/.local/lib/python3.7/site-packages/sklearn/multiclass.py:76: UserWarning: Label not 77 is present in all training examples.\n",
      "  str(classes[c]))\n",
      "/home/aims/.local/lib/python3.7/site-packages/sklearn/multiclass.py:76: UserWarning: Label not 78 is present in all training examples.\n",
      "  str(classes[c]))\n",
      "/home/aims/.local/lib/python3.7/site-packages/sklearn/multiclass.py:76: UserWarning: Label not 79 is present in all training examples.\n",
      "  str(classes[c]))\n",
      "/home/aims/.local/lib/python3.7/site-packages/sklearn/multiclass.py:76: UserWarning: Label not 80 is present in all training examples.\n",
      "  str(classes[c]))\n",
      "/home/aims/.local/lib/python3.7/site-packages/sklearn/multiclass.py:76: UserWarning: Label not 81 is present in all training examples.\n",
      "  str(classes[c]))\n",
      "/home/aims/.local/lib/python3.7/site-packages/sklearn/multiclass.py:76: UserWarning: Label not 82 is present in all training examples.\n",
      "  str(classes[c]))\n",
      "/home/aims/.local/lib/python3.7/site-packages/sklearn/multiclass.py:76: UserWarning: Label not 83 is present in all training examples.\n",
      "  str(classes[c]))\n",
      "/home/aims/.local/lib/python3.7/site-packages/sklearn/multiclass.py:76: UserWarning: Label not 84 is present in all training examples.\n",
      "  str(classes[c]))\n",
      "/home/aims/.local/lib/python3.7/site-packages/sklearn/multiclass.py:76: UserWarning: Label not 85 is present in all training examples.\n",
      "  str(classes[c]))\n",
      "/home/aims/.local/lib/python3.7/site-packages/sklearn/multiclass.py:76: UserWarning: Label not 86 is present in all training examples.\n",
      "  str(classes[c]))\n",
      "/home/aims/.local/lib/python3.7/site-packages/sklearn/multiclass.py:76: UserWarning: Label not 87 is present in all training examples.\n",
      "  str(classes[c]))\n",
      "/home/aims/.local/lib/python3.7/site-packages/sklearn/multiclass.py:76: UserWarning: Label not 88 is present in all training examples.\n",
      "  str(classes[c]))\n",
      "/home/aims/.local/lib/python3.7/site-packages/sklearn/multiclass.py:76: UserWarning: Label not 89 is present in all training examples.\n",
      "  str(classes[c]))\n",
      "/home/aims/.local/lib/python3.7/site-packages/sklearn/multiclass.py:76: UserWarning: Label not 90 is present in all training examples.\n",
      "  str(classes[c]))\n",
      "/home/aims/.local/lib/python3.7/site-packages/sklearn/multiclass.py:76: UserWarning: Label not 91 is present in all training examples.\n",
      "  str(classes[c]))\n",
      "/home/aims/.local/lib/python3.7/site-packages/sklearn/multiclass.py:76: UserWarning: Label not 92 is present in all training examples.\n",
      "  str(classes[c]))\n",
      "/home/aims/.local/lib/python3.7/site-packages/sklearn/multiclass.py:76: UserWarning: Label not 93 is present in all training examples.\n",
      "  str(classes[c]))\n",
      "/home/aims/.local/lib/python3.7/site-packages/sklearn/multiclass.py:76: UserWarning: Label not 94 is present in all training examples.\n",
      "  str(classes[c]))\n",
      "/home/aims/.local/lib/python3.7/site-packages/sklearn/multiclass.py:76: UserWarning: Label not 95 is present in all training examples.\n",
      "  str(classes[c]))\n",
      "/home/aims/.local/lib/python3.7/site-packages/sklearn/multiclass.py:76: UserWarning: Label not 96 is present in all training examples.\n",
      "  str(classes[c]))\n",
      "/home/aims/.local/lib/python3.7/site-packages/sklearn/multiclass.py:76: UserWarning: Label not 97 is present in all training examples.\n",
      "  str(classes[c]))\n",
      "/home/aims/.local/lib/python3.7/site-packages/sklearn/multiclass.py:76: UserWarning: Label not 98 is present in all training examples.\n",
      "  str(classes[c]))\n",
      "/home/aims/.local/lib/python3.7/site-packages/sklearn/multiclass.py:76: UserWarning: Label not 99 is present in all training examples.\n",
      "  str(classes[c]))\n"
     ]
    },
    {
     "name": "stderr",
     "output_type": "stream",
     "text": [
      "/home/aims/.local/lib/python3.7/site-packages/sklearn/multiclass.py:76: UserWarning: Label not 0 is present in all training examples.\n",
      "  str(classes[c]))\n",
      "/home/aims/.local/lib/python3.7/site-packages/sklearn/multiclass.py:76: UserWarning: Label not 1 is present in all training examples.\n",
      "  str(classes[c]))\n",
      "/home/aims/.local/lib/python3.7/site-packages/sklearn/multiclass.py:76: UserWarning: Label not 2 is present in all training examples.\n",
      "  str(classes[c]))\n",
      "/home/aims/.local/lib/python3.7/site-packages/sklearn/multiclass.py:76: UserWarning: Label not 3 is present in all training examples.\n",
      "  str(classes[c]))\n",
      "/home/aims/.local/lib/python3.7/site-packages/sklearn/multiclass.py:76: UserWarning: Label not 4 is present in all training examples.\n",
      "  str(classes[c]))\n",
      "/home/aims/.local/lib/python3.7/site-packages/sklearn/multiclass.py:76: UserWarning: Label not 5 is present in all training examples.\n",
      "  str(classes[c]))\n",
      "/home/aims/.local/lib/python3.7/site-packages/sklearn/multiclass.py:76: UserWarning: Label not 6 is present in all training examples.\n",
      "  str(classes[c]))\n",
      "/home/aims/.local/lib/python3.7/site-packages/sklearn/multiclass.py:76: UserWarning: Label not 7 is present in all training examples.\n",
      "  str(classes[c]))\n",
      "/home/aims/.local/lib/python3.7/site-packages/sklearn/multiclass.py:76: UserWarning: Label not 8 is present in all training examples.\n",
      "  str(classes[c]))\n",
      "/home/aims/.local/lib/python3.7/site-packages/sklearn/multiclass.py:76: UserWarning: Label not 9 is present in all training examples.\n",
      "  str(classes[c]))\n",
      "/home/aims/.local/lib/python3.7/site-packages/sklearn/multiclass.py:76: UserWarning: Label not 10 is present in all training examples.\n",
      "  str(classes[c]))\n",
      "/home/aims/.local/lib/python3.7/site-packages/sklearn/multiclass.py:76: UserWarning: Label not 11 is present in all training examples.\n",
      "  str(classes[c]))\n",
      "/home/aims/.local/lib/python3.7/site-packages/sklearn/multiclass.py:76: UserWarning: Label not 12 is present in all training examples.\n",
      "  str(classes[c]))\n",
      "/home/aims/.local/lib/python3.7/site-packages/sklearn/multiclass.py:76: UserWarning: Label not 13 is present in all training examples.\n",
      "  str(classes[c]))\n",
      "/home/aims/.local/lib/python3.7/site-packages/sklearn/multiclass.py:76: UserWarning: Label not 14 is present in all training examples.\n",
      "  str(classes[c]))\n",
      "/home/aims/.local/lib/python3.7/site-packages/sklearn/multiclass.py:76: UserWarning: Label not 15 is present in all training examples.\n",
      "  str(classes[c]))\n",
      "/home/aims/.local/lib/python3.7/site-packages/sklearn/multiclass.py:76: UserWarning: Label not 16 is present in all training examples.\n",
      "  str(classes[c]))\n",
      "/home/aims/.local/lib/python3.7/site-packages/sklearn/multiclass.py:76: UserWarning: Label not 17 is present in all training examples.\n",
      "  str(classes[c]))\n",
      "/home/aims/.local/lib/python3.7/site-packages/sklearn/multiclass.py:76: UserWarning: Label not 18 is present in all training examples.\n",
      "  str(classes[c]))\n",
      "/home/aims/.local/lib/python3.7/site-packages/sklearn/multiclass.py:76: UserWarning: Label not 19 is present in all training examples.\n",
      "  str(classes[c]))\n",
      "/home/aims/.local/lib/python3.7/site-packages/sklearn/multiclass.py:76: UserWarning: Label not 20 is present in all training examples.\n",
      "  str(classes[c]))\n",
      "/home/aims/.local/lib/python3.7/site-packages/sklearn/multiclass.py:76: UserWarning: Label not 21 is present in all training examples.\n",
      "  str(classes[c]))\n",
      "/home/aims/.local/lib/python3.7/site-packages/sklearn/multiclass.py:76: UserWarning: Label not 22 is present in all training examples.\n",
      "  str(classes[c]))\n",
      "/home/aims/.local/lib/python3.7/site-packages/sklearn/multiclass.py:76: UserWarning: Label not 23 is present in all training examples.\n",
      "  str(classes[c]))\n",
      "/home/aims/.local/lib/python3.7/site-packages/sklearn/multiclass.py:76: UserWarning: Label not 24 is present in all training examples.\n",
      "  str(classes[c]))\n",
      "/home/aims/.local/lib/python3.7/site-packages/sklearn/multiclass.py:76: UserWarning: Label not 25 is present in all training examples.\n",
      "  str(classes[c]))\n",
      "/home/aims/.local/lib/python3.7/site-packages/sklearn/multiclass.py:76: UserWarning: Label not 26 is present in all training examples.\n",
      "  str(classes[c]))\n",
      "/home/aims/.local/lib/python3.7/site-packages/sklearn/multiclass.py:76: UserWarning: Label not 27 is present in all training examples.\n",
      "  str(classes[c]))\n",
      "/home/aims/.local/lib/python3.7/site-packages/sklearn/multiclass.py:76: UserWarning: Label not 28 is present in all training examples.\n",
      "  str(classes[c]))\n",
      "/home/aims/.local/lib/python3.7/site-packages/sklearn/multiclass.py:76: UserWarning: Label not 29 is present in all training examples.\n",
      "  str(classes[c]))\n",
      "/home/aims/.local/lib/python3.7/site-packages/sklearn/multiclass.py:76: UserWarning: Label not 30 is present in all training examples.\n",
      "  str(classes[c]))\n",
      "/home/aims/.local/lib/python3.7/site-packages/sklearn/multiclass.py:76: UserWarning: Label not 31 is present in all training examples.\n",
      "  str(classes[c]))\n",
      "/home/aims/.local/lib/python3.7/site-packages/sklearn/multiclass.py:76: UserWarning: Label not 32 is present in all training examples.\n",
      "  str(classes[c]))\n",
      "/home/aims/.local/lib/python3.7/site-packages/sklearn/multiclass.py:76: UserWarning: Label not 33 is present in all training examples.\n",
      "  str(classes[c]))\n",
      "/home/aims/.local/lib/python3.7/site-packages/sklearn/multiclass.py:76: UserWarning: Label not 34 is present in all training examples.\n",
      "  str(classes[c]))\n",
      "/home/aims/.local/lib/python3.7/site-packages/sklearn/multiclass.py:76: UserWarning: Label not 35 is present in all training examples.\n",
      "  str(classes[c]))\n",
      "/home/aims/.local/lib/python3.7/site-packages/sklearn/multiclass.py:76: UserWarning: Label not 36 is present in all training examples.\n",
      "  str(classes[c]))\n",
      "/home/aims/.local/lib/python3.7/site-packages/sklearn/multiclass.py:76: UserWarning: Label not 37 is present in all training examples.\n",
      "  str(classes[c]))\n",
      "/home/aims/.local/lib/python3.7/site-packages/sklearn/multiclass.py:76: UserWarning: Label not 38 is present in all training examples.\n",
      "  str(classes[c]))\n",
      "/home/aims/.local/lib/python3.7/site-packages/sklearn/multiclass.py:76: UserWarning: Label not 39 is present in all training examples.\n",
      "  str(classes[c]))\n",
      "/home/aims/.local/lib/python3.7/site-packages/sklearn/multiclass.py:76: UserWarning: Label not 40 is present in all training examples.\n",
      "  str(classes[c]))\n",
      "/home/aims/.local/lib/python3.7/site-packages/sklearn/multiclass.py:76: UserWarning: Label not 41 is present in all training examples.\n",
      "  str(classes[c]))\n",
      "/home/aims/.local/lib/python3.7/site-packages/sklearn/multiclass.py:76: UserWarning: Label not 42 is present in all training examples.\n",
      "  str(classes[c]))\n",
      "/home/aims/.local/lib/python3.7/site-packages/sklearn/multiclass.py:76: UserWarning: Label not 43 is present in all training examples.\n",
      "  str(classes[c]))\n",
      "/home/aims/.local/lib/python3.7/site-packages/sklearn/multiclass.py:76: UserWarning: Label not 44 is present in all training examples.\n",
      "  str(classes[c]))\n",
      "/home/aims/.local/lib/python3.7/site-packages/sklearn/multiclass.py:76: UserWarning: Label not 45 is present in all training examples.\n",
      "  str(classes[c]))\n",
      "/home/aims/.local/lib/python3.7/site-packages/sklearn/multiclass.py:76: UserWarning: Label not 46 is present in all training examples.\n",
      "  str(classes[c]))\n",
      "/home/aims/.local/lib/python3.7/site-packages/sklearn/multiclass.py:76: UserWarning: Label not 47 is present in all training examples.\n",
      "  str(classes[c]))\n",
      "/home/aims/.local/lib/python3.7/site-packages/sklearn/multiclass.py:76: UserWarning: Label not 48 is present in all training examples.\n",
      "  str(classes[c]))\n",
      "/home/aims/.local/lib/python3.7/site-packages/sklearn/multiclass.py:76: UserWarning: Label not 49 is present in all training examples.\n",
      "  str(classes[c]))\n",
      "/home/aims/.local/lib/python3.7/site-packages/sklearn/multiclass.py:76: UserWarning: Label not 50 is present in all training examples.\n",
      "  str(classes[c]))\n",
      "/home/aims/.local/lib/python3.7/site-packages/sklearn/multiclass.py:76: UserWarning: Label not 51 is present in all training examples.\n",
      "  str(classes[c]))\n",
      "/home/aims/.local/lib/python3.7/site-packages/sklearn/multiclass.py:76: UserWarning: Label not 52 is present in all training examples.\n",
      "  str(classes[c]))\n",
      "/home/aims/.local/lib/python3.7/site-packages/sklearn/multiclass.py:76: UserWarning: Label not 53 is present in all training examples.\n",
      "  str(classes[c]))\n",
      "/home/aims/.local/lib/python3.7/site-packages/sklearn/multiclass.py:76: UserWarning: Label not 54 is present in all training examples.\n",
      "  str(classes[c]))\n",
      "/home/aims/.local/lib/python3.7/site-packages/sklearn/multiclass.py:76: UserWarning: Label not 55 is present in all training examples.\n",
      "  str(classes[c]))\n",
      "/home/aims/.local/lib/python3.7/site-packages/sklearn/multiclass.py:76: UserWarning: Label not 56 is present in all training examples.\n",
      "  str(classes[c]))\n",
      "/home/aims/.local/lib/python3.7/site-packages/sklearn/multiclass.py:76: UserWarning: Label not 57 is present in all training examples.\n",
      "  str(classes[c]))\n",
      "/home/aims/.local/lib/python3.7/site-packages/sklearn/multiclass.py:76: UserWarning: Label not 58 is present in all training examples.\n",
      "  str(classes[c]))\n",
      "/home/aims/.local/lib/python3.7/site-packages/sklearn/multiclass.py:76: UserWarning: Label not 59 is present in all training examples.\n",
      "  str(classes[c]))\n",
      "/home/aims/.local/lib/python3.7/site-packages/sklearn/multiclass.py:76: UserWarning: Label not 60 is present in all training examples.\n",
      "  str(classes[c]))\n",
      "/home/aims/.local/lib/python3.7/site-packages/sklearn/multiclass.py:76: UserWarning: Label not 61 is present in all training examples.\n",
      "  str(classes[c]))\n",
      "/home/aims/.local/lib/python3.7/site-packages/sklearn/multiclass.py:76: UserWarning: Label not 62 is present in all training examples.\n",
      "  str(classes[c]))\n",
      "/home/aims/.local/lib/python3.7/site-packages/sklearn/multiclass.py:76: UserWarning: Label not 63 is present in all training examples.\n",
      "  str(classes[c]))\n",
      "/home/aims/.local/lib/python3.7/site-packages/sklearn/multiclass.py:76: UserWarning: Label not 64 is present in all training examples.\n",
      "  str(classes[c]))\n",
      "/home/aims/.local/lib/python3.7/site-packages/sklearn/multiclass.py:76: UserWarning: Label not 65 is present in all training examples.\n",
      "  str(classes[c]))\n",
      "/home/aims/.local/lib/python3.7/site-packages/sklearn/multiclass.py:76: UserWarning: Label not 66 is present in all training examples.\n",
      "  str(classes[c]))\n",
      "/home/aims/.local/lib/python3.7/site-packages/sklearn/multiclass.py:76: UserWarning: Label not 67 is present in all training examples.\n",
      "  str(classes[c]))\n",
      "/home/aims/.local/lib/python3.7/site-packages/sklearn/multiclass.py:76: UserWarning: Label not 68 is present in all training examples.\n",
      "  str(classes[c]))\n",
      "/home/aims/.local/lib/python3.7/site-packages/sklearn/multiclass.py:76: UserWarning: Label not 69 is present in all training examples.\n",
      "  str(classes[c]))\n",
      "/home/aims/.local/lib/python3.7/site-packages/sklearn/multiclass.py:76: UserWarning: Label not 70 is present in all training examples.\n",
      "  str(classes[c]))\n",
      "/home/aims/.local/lib/python3.7/site-packages/sklearn/multiclass.py:76: UserWarning: Label not 71 is present in all training examples.\n",
      "  str(classes[c]))\n",
      "/home/aims/.local/lib/python3.7/site-packages/sklearn/multiclass.py:76: UserWarning: Label not 72 is present in all training examples.\n",
      "  str(classes[c]))\n",
      "/home/aims/.local/lib/python3.7/site-packages/sklearn/multiclass.py:76: UserWarning: Label not 73 is present in all training examples.\n",
      "  str(classes[c]))\n",
      "/home/aims/.local/lib/python3.7/site-packages/sklearn/multiclass.py:76: UserWarning: Label not 74 is present in all training examples.\n",
      "  str(classes[c]))\n",
      "/home/aims/.local/lib/python3.7/site-packages/sklearn/multiclass.py:76: UserWarning: Label not 75 is present in all training examples.\n",
      "  str(classes[c]))\n",
      "/home/aims/.local/lib/python3.7/site-packages/sklearn/multiclass.py:76: UserWarning: Label not 76 is present in all training examples.\n",
      "  str(classes[c]))\n",
      "/home/aims/.local/lib/python3.7/site-packages/sklearn/multiclass.py:76: UserWarning: Label not 77 is present in all training examples.\n",
      "  str(classes[c]))\n",
      "/home/aims/.local/lib/python3.7/site-packages/sklearn/multiclass.py:76: UserWarning: Label not 78 is present in all training examples.\n",
      "  str(classes[c]))\n",
      "/home/aims/.local/lib/python3.7/site-packages/sklearn/multiclass.py:76: UserWarning: Label not 79 is present in all training examples.\n",
      "  str(classes[c]))\n",
      "/home/aims/.local/lib/python3.7/site-packages/sklearn/multiclass.py:76: UserWarning: Label not 80 is present in all training examples.\n",
      "  str(classes[c]))\n",
      "/home/aims/.local/lib/python3.7/site-packages/sklearn/multiclass.py:76: UserWarning: Label not 81 is present in all training examples.\n",
      "  str(classes[c]))\n",
      "/home/aims/.local/lib/python3.7/site-packages/sklearn/multiclass.py:76: UserWarning: Label not 82 is present in all training examples.\n",
      "  str(classes[c]))\n",
      "/home/aims/.local/lib/python3.7/site-packages/sklearn/multiclass.py:76: UserWarning: Label not 83 is present in all training examples.\n",
      "  str(classes[c]))\n",
      "/home/aims/.local/lib/python3.7/site-packages/sklearn/multiclass.py:76: UserWarning: Label not 84 is present in all training examples.\n",
      "  str(classes[c]))\n",
      "/home/aims/.local/lib/python3.7/site-packages/sklearn/multiclass.py:76: UserWarning: Label not 85 is present in all training examples.\n",
      "  str(classes[c]))\n",
      "/home/aims/.local/lib/python3.7/site-packages/sklearn/multiclass.py:76: UserWarning: Label not 86 is present in all training examples.\n",
      "  str(classes[c]))\n",
      "/home/aims/.local/lib/python3.7/site-packages/sklearn/multiclass.py:76: UserWarning: Label not 87 is present in all training examples.\n",
      "  str(classes[c]))\n",
      "/home/aims/.local/lib/python3.7/site-packages/sklearn/multiclass.py:76: UserWarning: Label not 88 is present in all training examples.\n",
      "  str(classes[c]))\n",
      "/home/aims/.local/lib/python3.7/site-packages/sklearn/multiclass.py:76: UserWarning: Label not 89 is present in all training examples.\n",
      "  str(classes[c]))\n",
      "/home/aims/.local/lib/python3.7/site-packages/sklearn/multiclass.py:76: UserWarning: Label not 90 is present in all training examples.\n",
      "  str(classes[c]))\n",
      "/home/aims/.local/lib/python3.7/site-packages/sklearn/multiclass.py:76: UserWarning: Label not 91 is present in all training examples.\n",
      "  str(classes[c]))\n",
      "/home/aims/.local/lib/python3.7/site-packages/sklearn/multiclass.py:76: UserWarning: Label not 92 is present in all training examples.\n",
      "  str(classes[c]))\n",
      "/home/aims/.local/lib/python3.7/site-packages/sklearn/multiclass.py:76: UserWarning: Label not 93 is present in all training examples.\n",
      "  str(classes[c]))\n",
      "/home/aims/.local/lib/python3.7/site-packages/sklearn/multiclass.py:76: UserWarning: Label not 94 is present in all training examples.\n",
      "  str(classes[c]))\n",
      "/home/aims/.local/lib/python3.7/site-packages/sklearn/multiclass.py:76: UserWarning: Label not 95 is present in all training examples.\n",
      "  str(classes[c]))\n",
      "/home/aims/.local/lib/python3.7/site-packages/sklearn/multiclass.py:76: UserWarning: Label not 96 is present in all training examples.\n",
      "  str(classes[c]))\n",
      "/home/aims/.local/lib/python3.7/site-packages/sklearn/multiclass.py:76: UserWarning: Label not 97 is present in all training examples.\n",
      "  str(classes[c]))\n",
      "/home/aims/.local/lib/python3.7/site-packages/sklearn/multiclass.py:76: UserWarning: Label not 98 is present in all training examples.\n",
      "  str(classes[c]))\n",
      "/home/aims/.local/lib/python3.7/site-packages/sklearn/multiclass.py:76: UserWarning: Label not 99 is present in all training examples.\n",
      "  str(classes[c]))\n"
     ]
    }
   ],
   "source": [
    "classifier_mybag = train_classifier(X_train_mybag, y_train)\n",
    "classifier_tfidf = train_classifier(X_train_tfidf, y_train)"
   ]
  },
  {
   "cell_type": "markdown",
   "metadata": {},
   "source": [
    "Now you can create predictions for the data. You will need two types of predictions: labels and scores."
   ]
  },
  {
   "cell_type": "code",
   "execution_count": null,
   "metadata": {},
   "outputs": [],
   "source": []
  },
  {
   "cell_type": "code",
   "execution_count": 77,
   "metadata": {},
   "outputs": [],
   "source": [
    "y_val_predicted_labels_mybag = classifier_mybag.predict(X_val_mybag)\n",
    "y_val_predicted_scores_mybag = classifier_mybag.decision_function(X_val_mybag)\n",
    "\n",
    "y_val_predicted_labels_tfidf = classifier_tfidf.predict(X_val_tfidf)\n",
    "y_val_predicted_scores_tfidf = classifier_tfidf.decision_function(X_val_tfidf)"
   ]
  },
  {
   "cell_type": "markdown",
   "metadata": {},
   "source": [
    "Now take a look at how classifier, which uses TF-IDF, works for a few examples:"
   ]
  },
  {
   "cell_type": "code",
   "execution_count": 78,
   "metadata": {},
   "outputs": [
    {
     "name": "stdout",
     "output_type": "stream",
     "text": [
      "Title:\todbc_exec always fail\n",
      "True labels:\t\n",
      "Predicted labels:\t\n",
      "\n",
      "\n",
      "Title:\taccess base classes variable within child class\n",
      "True labels:\t\n",
      "Predicted labels:\t\n",
      "\n",
      "\n",
      "Title:\tcontenttype application json required rails\n",
      "True labels:\t\n",
      "Predicted labels:\t\n",
      "\n",
      "\n",
      "Title:\tsessions sinatra used pass variable\n",
      "True labels:\t\n",
      "Predicted labels:\t\n",
      "\n",
      "\n",
      "Title:\tgetting error type json exist postgresql rake db migrate\n",
      "True labels:\t\n",
      "Predicted labels:\t\n",
      "\n",
      "\n",
      "Title:\tlibrary found\n",
      "True labels:\t\n",
      "Predicted labels:\t\n",
      "\n",
      "\n",
      "Title:\tcsproj file programmatic adding deleting files\n",
      "True labels:\t\n",
      "Predicted labels:\t\n",
      "\n",
      "\n",
      "Title:\ttypeerror makedirs got unexpected keyword argument exists_ok\n",
      "True labels:\t\n",
      "Predicted labels:\t\n",
      "\n",
      "\n",
      "Title:\tpan div using jquery\n",
      "True labels:\t\n",
      "Predicted labels:\t\n",
      "\n",
      "\n",
      "Title:\thibernate intermediate advanced tutorials\n",
      "True labels:\t\n",
      "Predicted labels:\t\n",
      "\n",
      "\n"
     ]
    }
   ],
   "source": [
    "y_val_pred_inversed = mlb.inverse_transform(y_val_predicted_labels_tfidf)\n",
    "y_val_inversed = mlb.inverse_transform(y_val)\n",
    "for i in range(10):\n",
    "    print('Title:\\t{}\\nTrue labels:\\t{}\\nPredicted labels:\\t{}\\n\\n'.format(\n",
    "        X_val[i],\n",
    "        ','.join(y_val_inversed[i]),\n",
    "        ','.join(y_val_pred_inversed[i])\n",
    "    ))"
   ]
  },
  {
   "cell_type": "markdown",
   "metadata": {},
   "source": [
    "Now, we would need to compare the results of different predictions, e.g. to see whether TF-IDF transformation helps or to try different regularization techniques in logistic regression. For all these experiments, we need to setup evaluation procedure. "
   ]
  },
  {
   "cell_type": "markdown",
   "metadata": {},
   "source": [
    "### Evaluation\n",
    "\n",
    "To evaluate the results we will use several classification metrics:\n",
    " - [Accuracy](http://scikit-learn.org/stable/modules/generated/sklearn.metrics.accuracy_score.html)\n",
    " - [F1-score](http://scikit-learn.org/stable/modules/generated/sklearn.metrics.f1_score.html)\n",
    " - [Area under ROC-curve](http://scikit-learn.org/stable/modules/generated/sklearn.metrics.roc_auc_score.html)\n",
    " - [Area under precision-recall curve](http://scikit-learn.org/stable/modules/generated/sklearn.metrics.average_precision_score.html#sklearn.metrics.average_precision_score) \n",
    " \n",
    "Make sure you are familiar with all of them. How would you expect the things work for the multi-label scenario? Read about micro/macro/weighted averaging following the sklearn links provided above."
   ]
  },
  {
   "cell_type": "code",
   "execution_count": 79,
   "metadata": {},
   "outputs": [],
   "source": [
    "from sklearn.metrics import accuracy_score\n",
    "from sklearn.metrics import f1_score\n",
    "from sklearn.metrics import roc_auc_score \n",
    "from sklearn.metrics import average_precision_score\n",
    "from sklearn.metrics import recall_score\n",
    "from functools import partial"
   ]
  },
  {
   "cell_type": "markdown",
   "metadata": {},
   "source": [
    "Implement the function *print_evaluation_scores* which calculates and prints to stdout:\n",
    " - *accuracy*\n",
    " - *F1-score macro/micro/weighted*\n",
    " - *Precision macro/micro/weighted*"
   ]
  },
  {
   "cell_type": "code",
   "execution_count": 80,
   "metadata": {},
   "outputs": [],
   "source": [
    "def print_evaluation_scores(y_val, predicted):\n",
    "    f1_score_macro = partial(f1_score,average=\"macro\")\n",
    "    f1_score_micro = partial(f1_score,average=\"micro\")\n",
    "    f1_score_weighted = partial(f1_score,average=\"weighted\")\n",
    "    \n",
    "    average_precision_score_macro = partial(average_precision_score,average=\"macro\")\n",
    "    average_precision_score_micro = partial(average_precision_score,average=\"micro\")\n",
    "    average_precision_score_weighted = partial(average_precision_score,average=\"weighted\")\n",
    "    \n",
    "    scores = [accuracy_score,f1_score_macro,f1_score_micro,f1_score_weighted,average_precision_score_macro,\n",
    "             average_precision_score_micro,average_precision_score_weighted]\n",
    "    for score in scores:\n",
    "        print(score,score(y_val,predicted))"
   ]
  },
  {
   "cell_type": "code",
   "execution_count": 81,
   "metadata": {},
   "outputs": [
    {
     "name": "stdout",
     "output_type": "stream",
     "text": [
      "Bag-of-words\n",
      "<function accuracy_score at 0x7f4f023b1f28> 1.0\n"
     ]
    },
    {
     "name": "stderr",
     "output_type": "stream",
     "text": [
      "/home/aims/.local/lib/python3.7/site-packages/sklearn/metrics/classification.py:1437: UndefinedMetricWarning: F-score is ill-defined and being set to 0.0 in labels with no predicted samples.\n",
      "  'precision', 'predicted', average, warn_for)\n",
      "/home/aims/.local/lib/python3.7/site-packages/sklearn/metrics/classification.py:1439: UndefinedMetricWarning: F-score is ill-defined and being set to 0.0 in labels with no true samples.\n",
      "  'recall', 'true', average, warn_for)\n"
     ]
    },
    {
     "name": "stdout",
     "output_type": "stream",
     "text": [
      "functools.partial(<function f1_score at 0x7f4f0210c400>, average='macro') 0.0\n"
     ]
    },
    {
     "name": "stderr",
     "output_type": "stream",
     "text": [
      "/home/aims/.local/lib/python3.7/site-packages/sklearn/metrics/classification.py:1437: UndefinedMetricWarning: F-score is ill-defined and being set to 0.0 due to no predicted samples.\n",
      "  'precision', 'predicted', average, warn_for)\n",
      "/home/aims/.local/lib/python3.7/site-packages/sklearn/metrics/classification.py:1439: UndefinedMetricWarning: F-score is ill-defined and being set to 0.0 due to no true samples.\n",
      "  'recall', 'true', average, warn_for)\n"
     ]
    },
    {
     "name": "stdout",
     "output_type": "stream",
     "text": [
      "functools.partial(<function f1_score at 0x7f4f0210c400>, average='micro') 0.0\n",
      "functools.partial(<function f1_score at 0x7f4f0210c400>, average='weighted') 0\n"
     ]
    },
    {
     "name": "stderr",
     "output_type": "stream",
     "text": [
      "/home/aims/.local/lib/python3.7/site-packages/sklearn/metrics/ranking.py:528: RuntimeWarning: invalid value encountered in true_divide\n",
      "  recall = tps / tps[-1]\n"
     ]
    },
    {
     "name": "stdout",
     "output_type": "stream",
     "text": [
      "functools.partial(<function average_precision_score at 0x7f4f023b1598>, average='macro') nan\n"
     ]
    },
    {
     "name": "stderr",
     "output_type": "stream",
     "text": [
      "/home/aims/.local/lib/python3.7/site-packages/sklearn/metrics/ranking.py:528: RuntimeWarning: invalid value encountered in true_divide\n",
      "  recall = tps / tps[-1]\n"
     ]
    },
    {
     "name": "stdout",
     "output_type": "stream",
     "text": [
      "functools.partial(<function average_precision_score at 0x7f4f023b1598>, average='micro') nan\n",
      "functools.partial(<function average_precision_score at 0x7f4f023b1598>, average='weighted') 0\n",
      "Tfidf\n",
      "<function accuracy_score at 0x7f4f023b1f28> 1.0\n"
     ]
    },
    {
     "name": "stderr",
     "output_type": "stream",
     "text": [
      "/home/aims/.local/lib/python3.7/site-packages/sklearn/metrics/classification.py:1437: UndefinedMetricWarning: F-score is ill-defined and being set to 0.0 in labels with no predicted samples.\n",
      "  'precision', 'predicted', average, warn_for)\n",
      "/home/aims/.local/lib/python3.7/site-packages/sklearn/metrics/classification.py:1439: UndefinedMetricWarning: F-score is ill-defined and being set to 0.0 in labels with no true samples.\n",
      "  'recall', 'true', average, warn_for)\n",
      "/home/aims/.local/lib/python3.7/site-packages/sklearn/metrics/classification.py:1437: UndefinedMetricWarning: F-score is ill-defined and being set to 0.0 due to no predicted samples.\n",
      "  'precision', 'predicted', average, warn_for)\n",
      "/home/aims/.local/lib/python3.7/site-packages/sklearn/metrics/classification.py:1439: UndefinedMetricWarning: F-score is ill-defined and being set to 0.0 due to no true samples.\n",
      "  'recall', 'true', average, warn_for)\n"
     ]
    },
    {
     "name": "stdout",
     "output_type": "stream",
     "text": [
      "functools.partial(<function f1_score at 0x7f4f0210c400>, average='macro') 0.0\n",
      "functools.partial(<function f1_score at 0x7f4f0210c400>, average='micro') 0.0\n",
      "functools.partial(<function f1_score at 0x7f4f0210c400>, average='weighted') 0\n"
     ]
    },
    {
     "name": "stderr",
     "output_type": "stream",
     "text": [
      "/home/aims/.local/lib/python3.7/site-packages/sklearn/metrics/ranking.py:528: RuntimeWarning: invalid value encountered in true_divide\n",
      "  recall = tps / tps[-1]\n"
     ]
    },
    {
     "name": "stdout",
     "output_type": "stream",
     "text": [
      "functools.partial(<function average_precision_score at 0x7f4f023b1598>, average='macro') nan\n",
      "functools.partial(<function average_precision_score at 0x7f4f023b1598>, average='micro') nan\n",
      "functools.partial(<function average_precision_score at 0x7f4f023b1598>, average='weighted') 0\n"
     ]
    },
    {
     "name": "stderr",
     "output_type": "stream",
     "text": [
      "/home/aims/.local/lib/python3.7/site-packages/sklearn/metrics/ranking.py:528: RuntimeWarning: invalid value encountered in true_divide\n",
      "  recall = tps / tps[-1]\n"
     ]
    }
   ],
   "source": [
    "print('Bag-of-words')\n",
    "print_evaluation_scores(y_val, y_val_predicted_labels_mybag)\n",
    "print('Tfidf')\n",
    "print_evaluation_scores(y_val, y_val_predicted_labels_tfidf)"
   ]
  },
  {
   "cell_type": "markdown",
   "metadata": {},
   "source": [
    "You might also want to plot some generalization of the [ROC curve](http://scikit-learn.org/stable/modules/model_evaluation.html#receiver-operating-characteristic-roc) for the case of multi-label classification. Provided function *roc_auc* can make it for you. The input parameters of this function are:\n",
    " - true labels\n",
    " - decision functions scores\n",
    " - number of classes"
   ]
  },
  {
   "cell_type": "code",
   "execution_count": 82,
   "metadata": {},
   "outputs": [],
   "source": [
    "from metrics import roc_auc\n",
    "%matplotlib inline"
   ]
  },
  {
   "cell_type": "code",
   "execution_count": 83,
   "metadata": {},
   "outputs": [
    {
     "name": "stderr",
     "output_type": "stream",
     "text": [
      "/home/aims/.local/lib/python3.7/site-packages/sklearn/metrics/ranking.py:659: UndefinedMetricWarning: No positive samples in y_true, true positive value should be meaningless\n",
      "  UndefinedMetricWarning)\n"
     ]
    },
    {
     "data": {
      "image/png": "[encoded data removed]",
      "text/plain": [
       "<Figure size 432x288 with 1 Axes>"
      ]
     },
     "metadata": {
      "needs_background": "light"
     },
     "output_type": "display_data"
    }
   ],
   "source": [
    "n_classes = len(tag_counts)\n",
    "roc_auc(y_val, y_val_predicted_scores_mybag, n_classes)"
   ]
  },
  {
   "cell_type": "code",
   "execution_count": 84,
   "metadata": {},
   "outputs": [
    {
     "name": "stderr",
     "output_type": "stream",
     "text": [
      "/home/aims/.local/lib/python3.7/site-packages/sklearn/metrics/ranking.py:659: UndefinedMetricWarning: No positive samples in y_true, true positive value should be meaningless\n",
      "  UndefinedMetricWarning)\n"
     ]
    },
    {
     "data": {
      "image/png": "[encoded data removed]",
      "text/plain": [
       "<Figure size 432x288 with 1 Axes>"
      ]
     },
     "metadata": {
      "needs_background": "light"
     },
     "output_type": "display_data"
    }
   ],
   "source": [
    "n_classes = len(tag_counts)\n",
    "roc_auc(y_val, y_val_predicted_scores_tfidf, n_classes)"
   ]
  },
  {
   "cell_type": "markdown",
   "metadata": {},
   "source": [
    "**Task 4 (MultilabelClassification).** Once we have the evaluation set up, we suggest that you experiment a bit with training your classifiers. We will use *F1-score weighted* as an evaluation metric. Our recommendation:\n",
    "- compare the quality of the bag-of-words and TF-IDF approaches and chose one of them.\n",
    "- for the chosen one, try *L1* and *L2*-regularization techniques in Logistic Regression with different coefficients (e.g. C equal to 0.1, 1, 10, 100).\n",
    "\n",
    "You also could try other improvements of the preprocessing / model, if you want. "
   ]
  },
  {
   "cell_type": "code",
   "execution_count": 85,
   "metadata": {},
   "outputs": [
    {
     "name": "stderr",
     "output_type": "stream",
     "text": [
      "/home/aims/.local/lib/python3.7/site-packages/sklearn/multiclass.py:76: UserWarning: Label not 0 is present in all training examples.\n",
      "  str(classes[c]))\n",
      "/home/aims/.local/lib/python3.7/site-packages/sklearn/multiclass.py:76: UserWarning: Label not 1 is present in all training examples.\n",
      "  str(classes[c]))\n",
      "/home/aims/.local/lib/python3.7/site-packages/sklearn/multiclass.py:76: UserWarning: Label not 2 is present in all training examples.\n",
      "  str(classes[c]))\n",
      "/home/aims/.local/lib/python3.7/site-packages/sklearn/multiclass.py:76: UserWarning: Label not 3 is present in all training examples.\n",
      "  str(classes[c]))\n",
      "/home/aims/.local/lib/python3.7/site-packages/sklearn/multiclass.py:76: UserWarning: Label not 4 is present in all training examples.\n",
      "  str(classes[c]))\n",
      "/home/aims/.local/lib/python3.7/site-packages/sklearn/multiclass.py:76: UserWarning: Label not 5 is present in all training examples.\n",
      "  str(classes[c]))\n",
      "/home/aims/.local/lib/python3.7/site-packages/sklearn/multiclass.py:76: UserWarning: Label not 6 is present in all training examples.\n",
      "  str(classes[c]))\n",
      "/home/aims/.local/lib/python3.7/site-packages/sklearn/multiclass.py:76: UserWarning: Label not 7 is present in all training examples.\n",
      "  str(classes[c]))\n",
      "/home/aims/.local/lib/python3.7/site-packages/sklearn/multiclass.py:76: UserWarning: Label not 8 is present in all training examples.\n",
      "  str(classes[c]))\n",
      "/home/aims/.local/lib/python3.7/site-packages/sklearn/multiclass.py:76: UserWarning: Label not 9 is present in all training examples.\n",
      "  str(classes[c]))\n",
      "/home/aims/.local/lib/python3.7/site-packages/sklearn/multiclass.py:76: UserWarning: Label not 10 is present in all training examples.\n",
      "  str(classes[c]))\n",
      "/home/aims/.local/lib/python3.7/site-packages/sklearn/multiclass.py:76: UserWarning: Label not 11 is present in all training examples.\n",
      "  str(classes[c]))\n",
      "/home/aims/.local/lib/python3.7/site-packages/sklearn/multiclass.py:76: UserWarning: Label not 12 is present in all training examples.\n",
      "  str(classes[c]))\n",
      "/home/aims/.local/lib/python3.7/site-packages/sklearn/multiclass.py:76: UserWarning: Label not 13 is present in all training examples.\n",
      "  str(classes[c]))\n",
      "/home/aims/.local/lib/python3.7/site-packages/sklearn/multiclass.py:76: UserWarning: Label not 14 is present in all training examples.\n",
      "  str(classes[c]))\n",
      "/home/aims/.local/lib/python3.7/site-packages/sklearn/multiclass.py:76: UserWarning: Label not 15 is present in all training examples.\n",
      "  str(classes[c]))\n",
      "/home/aims/.local/lib/python3.7/site-packages/sklearn/multiclass.py:76: UserWarning: Label not 16 is present in all training examples.\n",
      "  str(classes[c]))\n",
      "/home/aims/.local/lib/python3.7/site-packages/sklearn/multiclass.py:76: UserWarning: Label not 17 is present in all training examples.\n",
      "  str(classes[c]))\n",
      "/home/aims/.local/lib/python3.7/site-packages/sklearn/multiclass.py:76: UserWarning: Label not 18 is present in all training examples.\n",
      "  str(classes[c]))\n",
      "/home/aims/.local/lib/python3.7/site-packages/sklearn/multiclass.py:76: UserWarning: Label not 19 is present in all training examples.\n",
      "  str(classes[c]))\n",
      "/home/aims/.local/lib/python3.7/site-packages/sklearn/multiclass.py:76: UserWarning: Label not 20 is present in all training examples.\n",
      "  str(classes[c]))\n",
      "/home/aims/.local/lib/python3.7/site-packages/sklearn/multiclass.py:76: UserWarning: Label not 21 is present in all training examples.\n",
      "  str(classes[c]))\n",
      "/home/aims/.local/lib/python3.7/site-packages/sklearn/multiclass.py:76: UserWarning: Label not 22 is present in all training examples.\n",
      "  str(classes[c]))\n",
      "/home/aims/.local/lib/python3.7/site-packages/sklearn/multiclass.py:76: UserWarning: Label not 23 is present in all training examples.\n",
      "  str(classes[c]))\n",
      "/home/aims/.local/lib/python3.7/site-packages/sklearn/multiclass.py:76: UserWarning: Label not 24 is present in all training examples.\n",
      "  str(classes[c]))\n",
      "/home/aims/.local/lib/python3.7/site-packages/sklearn/multiclass.py:76: UserWarning: Label not 25 is present in all training examples.\n",
      "  str(classes[c]))\n",
      "/home/aims/.local/lib/python3.7/site-packages/sklearn/multiclass.py:76: UserWarning: Label not 26 is present in all training examples.\n",
      "  str(classes[c]))\n",
      "/home/aims/.local/lib/python3.7/site-packages/sklearn/multiclass.py:76: UserWarning: Label not 27 is present in all training examples.\n",
      "  str(classes[c]))\n",
      "/home/aims/.local/lib/python3.7/site-packages/sklearn/multiclass.py:76: UserWarning: Label not 28 is present in all training examples.\n",
      "  str(classes[c]))\n",
      "/home/aims/.local/lib/python3.7/site-packages/sklearn/multiclass.py:76: UserWarning: Label not 29 is present in all training examples.\n",
      "  str(classes[c]))\n",
      "/home/aims/.local/lib/python3.7/site-packages/sklearn/multiclass.py:76: UserWarning: Label not 30 is present in all training examples.\n",
      "  str(classes[c]))\n",
      "/home/aims/.local/lib/python3.7/site-packages/sklearn/multiclass.py:76: UserWarning: Label not 31 is present in all training examples.\n",
      "  str(classes[c]))\n",
      "/home/aims/.local/lib/python3.7/site-packages/sklearn/multiclass.py:76: UserWarning: Label not 32 is present in all training examples.\n",
      "  str(classes[c]))\n",
      "/home/aims/.local/lib/python3.7/site-packages/sklearn/multiclass.py:76: UserWarning: Label not 33 is present in all training examples.\n",
      "  str(classes[c]))\n",
      "/home/aims/.local/lib/python3.7/site-packages/sklearn/multiclass.py:76: UserWarning: Label not 34 is present in all training examples.\n",
      "  str(classes[c]))\n",
      "/home/aims/.local/lib/python3.7/site-packages/sklearn/multiclass.py:76: UserWarning: Label not 35 is present in all training examples.\n",
      "  str(classes[c]))\n",
      "/home/aims/.local/lib/python3.7/site-packages/sklearn/multiclass.py:76: UserWarning: Label not 36 is present in all training examples.\n",
      "  str(classes[c]))\n",
      "/home/aims/.local/lib/python3.7/site-packages/sklearn/multiclass.py:76: UserWarning: Label not 37 is present in all training examples.\n",
      "  str(classes[c]))\n",
      "/home/aims/.local/lib/python3.7/site-packages/sklearn/multiclass.py:76: UserWarning: Label not 38 is present in all training examples.\n",
      "  str(classes[c]))\n",
      "/home/aims/.local/lib/python3.7/site-packages/sklearn/multiclass.py:76: UserWarning: Label not 39 is present in all training examples.\n",
      "  str(classes[c]))\n",
      "/home/aims/.local/lib/python3.7/site-packages/sklearn/multiclass.py:76: UserWarning: Label not 40 is present in all training examples.\n",
      "  str(classes[c]))\n",
      "/home/aims/.local/lib/python3.7/site-packages/sklearn/multiclass.py:76: UserWarning: Label not 41 is present in all training examples.\n",
      "  str(classes[c]))\n",
      "/home/aims/.local/lib/python3.7/site-packages/sklearn/multiclass.py:76: UserWarning: Label not 42 is present in all training examples.\n",
      "  str(classes[c]))\n",
      "/home/aims/.local/lib/python3.7/site-packages/sklearn/multiclass.py:76: UserWarning: Label not 43 is present in all training examples.\n",
      "  str(classes[c]))\n",
      "/home/aims/.local/lib/python3.7/site-packages/sklearn/multiclass.py:76: UserWarning: Label not 44 is present in all training examples.\n",
      "  str(classes[c]))\n",
      "/home/aims/.local/lib/python3.7/site-packages/sklearn/multiclass.py:76: UserWarning: Label not 45 is present in all training examples.\n",
      "  str(classes[c]))\n",
      "/home/aims/.local/lib/python3.7/site-packages/sklearn/multiclass.py:76: UserWarning: Label not 46 is present in all training examples.\n",
      "  str(classes[c]))\n",
      "/home/aims/.local/lib/python3.7/site-packages/sklearn/multiclass.py:76: UserWarning: Label not 47 is present in all training examples.\n",
      "  str(classes[c]))\n",
      "/home/aims/.local/lib/python3.7/site-packages/sklearn/multiclass.py:76: UserWarning: Label not 48 is present in all training examples.\n",
      "  str(classes[c]))\n",
      "/home/aims/.local/lib/python3.7/site-packages/sklearn/multiclass.py:76: UserWarning: Label not 49 is present in all training examples.\n",
      "  str(classes[c]))\n",
      "/home/aims/.local/lib/python3.7/site-packages/sklearn/multiclass.py:76: UserWarning: Label not 50 is present in all training examples.\n",
      "  str(classes[c]))\n",
      "/home/aims/.local/lib/python3.7/site-packages/sklearn/multiclass.py:76: UserWarning: Label not 51 is present in all training examples.\n",
      "  str(classes[c]))\n",
      "/home/aims/.local/lib/python3.7/site-packages/sklearn/multiclass.py:76: UserWarning: Label not 52 is present in all training examples.\n",
      "  str(classes[c]))\n",
      "/home/aims/.local/lib/python3.7/site-packages/sklearn/multiclass.py:76: UserWarning: Label not 53 is present in all training examples.\n",
      "  str(classes[c]))\n",
      "/home/aims/.local/lib/python3.7/site-packages/sklearn/multiclass.py:76: UserWarning: Label not 54 is present in all training examples.\n",
      "  str(classes[c]))\n",
      "/home/aims/.local/lib/python3.7/site-packages/sklearn/multiclass.py:76: UserWarning: Label not 55 is present in all training examples.\n",
      "  str(classes[c]))\n",
      "/home/aims/.local/lib/python3.7/site-packages/sklearn/multiclass.py:76: UserWarning: Label not 56 is present in all training examples.\n",
      "  str(classes[c]))\n",
      "/home/aims/.local/lib/python3.7/site-packages/sklearn/multiclass.py:76: UserWarning: Label not 57 is present in all training examples.\n",
      "  str(classes[c]))\n",
      "/home/aims/.local/lib/python3.7/site-packages/sklearn/multiclass.py:76: UserWarning: Label not 58 is present in all training examples.\n",
      "  str(classes[c]))\n",
      "/home/aims/.local/lib/python3.7/site-packages/sklearn/multiclass.py:76: UserWarning: Label not 59 is present in all training examples.\n",
      "  str(classes[c]))\n",
      "/home/aims/.local/lib/python3.7/site-packages/sklearn/multiclass.py:76: UserWarning: Label not 60 is present in all training examples.\n",
      "  str(classes[c]))\n",
      "/home/aims/.local/lib/python3.7/site-packages/sklearn/multiclass.py:76: UserWarning: Label not 61 is present in all training examples.\n",
      "  str(classes[c]))\n",
      "/home/aims/.local/lib/python3.7/site-packages/sklearn/multiclass.py:76: UserWarning: Label not 62 is present in all training examples.\n",
      "  str(classes[c]))\n",
      "/home/aims/.local/lib/python3.7/site-packages/sklearn/multiclass.py:76: UserWarning: Label not 63 is present in all training examples.\n",
      "  str(classes[c]))\n",
      "/home/aims/.local/lib/python3.7/site-packages/sklearn/multiclass.py:76: UserWarning: Label not 64 is present in all training examples.\n",
      "  str(classes[c]))\n",
      "/home/aims/.local/lib/python3.7/site-packages/sklearn/multiclass.py:76: UserWarning: Label not 65 is present in all training examples.\n",
      "  str(classes[c]))\n",
      "/home/aims/.local/lib/python3.7/site-packages/sklearn/multiclass.py:76: UserWarning: Label not 66 is present in all training examples.\n",
      "  str(classes[c]))\n",
      "/home/aims/.local/lib/python3.7/site-packages/sklearn/multiclass.py:76: UserWarning: Label not 67 is present in all training examples.\n",
      "  str(classes[c]))\n",
      "/home/aims/.local/lib/python3.7/site-packages/sklearn/multiclass.py:76: UserWarning: Label not 68 is present in all training examples.\n",
      "  str(classes[c]))\n",
      "/home/aims/.local/lib/python3.7/site-packages/sklearn/multiclass.py:76: UserWarning: Label not 69 is present in all training examples.\n",
      "  str(classes[c]))\n",
      "/home/aims/.local/lib/python3.7/site-packages/sklearn/multiclass.py:76: UserWarning: Label not 70 is present in all training examples.\n",
      "  str(classes[c]))\n",
      "/home/aims/.local/lib/python3.7/site-packages/sklearn/multiclass.py:76: UserWarning: Label not 71 is present in all training examples.\n",
      "  str(classes[c]))\n",
      "/home/aims/.local/lib/python3.7/site-packages/sklearn/multiclass.py:76: UserWarning: Label not 72 is present in all training examples.\n",
      "  str(classes[c]))\n",
      "/home/aims/.local/lib/python3.7/site-packages/sklearn/multiclass.py:76: UserWarning: Label not 73 is present in all training examples.\n",
      "  str(classes[c]))\n",
      "/home/aims/.local/lib/python3.7/site-packages/sklearn/multiclass.py:76: UserWarning: Label not 74 is present in all training examples.\n",
      "  str(classes[c]))\n",
      "/home/aims/.local/lib/python3.7/site-packages/sklearn/multiclass.py:76: UserWarning: Label not 75 is present in all training examples.\n",
      "  str(classes[c]))\n",
      "/home/aims/.local/lib/python3.7/site-packages/sklearn/multiclass.py:76: UserWarning: Label not 76 is present in all training examples.\n",
      "  str(classes[c]))\n",
      "/home/aims/.local/lib/python3.7/site-packages/sklearn/multiclass.py:76: UserWarning: Label not 77 is present in all training examples.\n",
      "  str(classes[c]))\n",
      "/home/aims/.local/lib/python3.7/site-packages/sklearn/multiclass.py:76: UserWarning: Label not 78 is present in all training examples.\n",
      "  str(classes[c]))\n",
      "/home/aims/.local/lib/python3.7/site-packages/sklearn/multiclass.py:76: UserWarning: Label not 79 is present in all training examples.\n",
      "  str(classes[c]))\n",
      "/home/aims/.local/lib/python3.7/site-packages/sklearn/multiclass.py:76: UserWarning: Label not 80 is present in all training examples.\n",
      "  str(classes[c]))\n",
      "/home/aims/.local/lib/python3.7/site-packages/sklearn/multiclass.py:76: UserWarning: Label not 81 is present in all training examples.\n",
      "  str(classes[c]))\n",
      "/home/aims/.local/lib/python3.7/site-packages/sklearn/multiclass.py:76: UserWarning: Label not 82 is present in all training examples.\n",
      "  str(classes[c]))\n",
      "/home/aims/.local/lib/python3.7/site-packages/sklearn/multiclass.py:76: UserWarning: Label not 83 is present in all training examples.\n",
      "  str(classes[c]))\n",
      "/home/aims/.local/lib/python3.7/site-packages/sklearn/multiclass.py:76: UserWarning: Label not 84 is present in all training examples.\n",
      "  str(classes[c]))\n",
      "/home/aims/.local/lib/python3.7/site-packages/sklearn/multiclass.py:76: UserWarning: Label not 85 is present in all training examples.\n",
      "  str(classes[c]))\n",
      "/home/aims/.local/lib/python3.7/site-packages/sklearn/multiclass.py:76: UserWarning: Label not 86 is present in all training examples.\n",
      "  str(classes[c]))\n",
      "/home/aims/.local/lib/python3.7/site-packages/sklearn/multiclass.py:76: UserWarning: Label not 87 is present in all training examples.\n",
      "  str(classes[c]))\n",
      "/home/aims/.local/lib/python3.7/site-packages/sklearn/multiclass.py:76: UserWarning: Label not 88 is present in all training examples.\n",
      "  str(classes[c]))\n",
      "/home/aims/.local/lib/python3.7/site-packages/sklearn/multiclass.py:76: UserWarning: Label not 89 is present in all training examples.\n",
      "  str(classes[c]))\n",
      "/home/aims/.local/lib/python3.7/site-packages/sklearn/multiclass.py:76: UserWarning: Label not 90 is present in all training examples.\n",
      "  str(classes[c]))\n",
      "/home/aims/.local/lib/python3.7/site-packages/sklearn/multiclass.py:76: UserWarning: Label not 91 is present in all training examples.\n",
      "  str(classes[c]))\n",
      "/home/aims/.local/lib/python3.7/site-packages/sklearn/multiclass.py:76: UserWarning: Label not 92 is present in all training examples.\n",
      "  str(classes[c]))\n",
      "/home/aims/.local/lib/python3.7/site-packages/sklearn/multiclass.py:76: UserWarning: Label not 93 is present in all training examples.\n",
      "  str(classes[c]))\n",
      "/home/aims/.local/lib/python3.7/site-packages/sklearn/multiclass.py:76: UserWarning: Label not 94 is present in all training examples.\n",
      "  str(classes[c]))\n",
      "/home/aims/.local/lib/python3.7/site-packages/sklearn/multiclass.py:76: UserWarning: Label not 95 is present in all training examples.\n",
      "  str(classes[c]))\n",
      "/home/aims/.local/lib/python3.7/site-packages/sklearn/multiclass.py:76: UserWarning: Label not 96 is present in all training examples.\n",
      "  str(classes[c]))\n",
      "/home/aims/.local/lib/python3.7/site-packages/sklearn/multiclass.py:76: UserWarning: Label not 97 is present in all training examples.\n",
      "  str(classes[c]))\n",
      "/home/aims/.local/lib/python3.7/site-packages/sklearn/multiclass.py:76: UserWarning: Label not 98 is present in all training examples.\n",
      "  str(classes[c]))\n",
      "/home/aims/.local/lib/python3.7/site-packages/sklearn/multiclass.py:76: UserWarning: Label not 99 is present in all training examples.\n",
      "  str(classes[c]))\n"
     ]
    },
    {
     "name": "stdout",
     "output_type": "stream",
     "text": [
      "Bag-of-words\n"
     ]
    },
    {
     "name": "stderr",
     "output_type": "stream",
     "text": [
      "/home/aims/.local/lib/python3.7/site-packages/sklearn/metrics/classification.py:1437: UndefinedMetricWarning: F-score is ill-defined and being set to 0.0 in labels with no predicted samples.\n",
      "  'precision', 'predicted', average, warn_for)\n",
      "/home/aims/.local/lib/python3.7/site-packages/sklearn/metrics/classification.py:1439: UndefinedMetricWarning: F-score is ill-defined and being set to 0.0 in labels with no true samples.\n",
      "  'recall', 'true', average, warn_for)\n",
      "/home/aims/.local/lib/python3.7/site-packages/sklearn/metrics/classification.py:1437: UndefinedMetricWarning: F-score is ill-defined and being set to 0.0 due to no predicted samples.\n",
      "  'precision', 'predicted', average, warn_for)\n",
      "/home/aims/.local/lib/python3.7/site-packages/sklearn/metrics/classification.py:1439: UndefinedMetricWarning: F-score is ill-defined and being set to 0.0 due to no true samples.\n",
      "  'recall', 'true', average, warn_for)\n",
      "/home/aims/.local/lib/python3.7/site-packages/sklearn/metrics/ranking.py:528: RuntimeWarning: invalid value encountered in true_divide\n",
      "  recall = tps / tps[-1]\n"
     ]
    },
    {
     "name": "stdout",
     "output_type": "stream",
     "text": [
      "1.0 0.0 0.0 0 nan nan 0\n"
     ]
    },
    {
     "name": "stderr",
     "output_type": "stream",
     "text": [
      "/home/aims/.local/lib/python3.7/site-packages/sklearn/metrics/ranking.py:528: RuntimeWarning: invalid value encountered in true_divide\n",
      "  recall = tps / tps[-1]\n"
     ]
    }
   ],
   "source": [
    "\n",
    "from sklearn.pipeline import make_pipeline\n",
    "def train_classifier(X_train, y_train):\n",
    "    \"\"\"\n",
    "      X_train, y_train — training data\n",
    "      \n",
    "      return: trained classifier\n",
    "    \"\"\"\n",
    "    \n",
    "    # Create and fit LogisticRegression wraped into OneVsRestClassifier.\n",
    "   # pipe = make_pipeline( LogisticRegression(penalty=\"l1\"),OneVsRestClassifier(LogisticRegression(penalty=\"l2\")))\n",
    "    #model=pipe.fit(X_train, y_train)     \n",
    "    model=OneVsRestClassifier(LogisticRegression(penalty=\"l1\",C=1)).fit(X_train,y_train)\n",
    "    \n",
    "    return model\n",
    "classifier_mybag = train_classifier(X_train_mybag, y_train)\n",
    "#classifier_tfidf = train_classifier(X_train_tfidf, y_train)\n",
    "\n",
    "y_val_predicted_labels_mybag = classifier_mybag.predict(X_val_mybag)\n",
    "#y_val_predicted_scores_mybag = classifier_mybag.decision_function(X_val_mybag)\n",
    "\n",
    "\n",
    "def print_evaluation_scores(y_val, predicted):\n",
    "    accuracy=accuracy_score(y_val, predicted)\n",
    "    f1_score_macro=f1_score(y_val, predicted, average='macro')\n",
    "    f1_score_micro=f1_score(y_val, predicted, average='micro')\n",
    "    f1_score_weighted=f1_score(y_val, predicted, average='weighted')\n",
    "    precision_macro=average_precision_score(y_val, predicted, average='macro')\n",
    "    precision_micro=average_precision_score(y_val, predicted, average='micro')\n",
    "    precision_weighted=average_precision_score(y_val, predicted, average='weighted')\n",
    "    print(accuracy,f1_score_macro,f1_score_micro,f1_score_weighted,precision_macro,precision_micro,precision_weighted)\n",
    "\n",
    "  \n",
    "print('Bag-of-words')\n",
    "print_evaluation_scores(y_val, y_val_predicted_labels_mybag)"
   ]
  },
  {
   "cell_type": "markdown",
   "metadata": {},
   "source": [
    "When you are happy with the quality, create predictions for *test* set, which you will submit to Coursera."
   ]
  },
  {
   "cell_type": "code",
   "execution_count": 86,
   "metadata": {},
   "outputs": [
    {
     "name": "stdout",
     "output_type": "stream",
     "text": [
      "Current answer for task MultilabelClassification is:\n",
      " 0\t\n",
      "1\t\n",
      "2\t\n",
      "3\t\n",
      "4\t\n",
      "5\t\n",
      "6\t\n",
      "7\t\n",
      "8\t\n",
      "9\t\n",
      "10\t\n",
      "11\t\n",
      "12\t\n",
      "13\t\n",
      "14\t\n",
      "15\t\n",
      "16\t\n",
      "17\t\n",
      "18\t\n",
      "19\t\n",
      "20\t\n",
      "21\t\n",
      "22\t\n",
      "23\t\n",
      "24\t\n",
      "25\t\n",
      "26\t\n",
      "27...\n"
     ]
    }
   ],
   "source": [
    "test_predictions = classifier_mybag.predict(X_test_mybag)\n",
    "test_pred_inversed = mlb.inverse_transform(test_predictions)\n",
    "\n",
    "test_predictions_for_submission = '\\n'.join('%i\\t%s' % (i, ','.join(row)) for i, row in enumerate(test_pred_inversed))\n",
    "grader.submit_tag('MultilabelClassification', test_predictions_for_submission)"
   ]
  },
  {
   "cell_type": "markdown",
   "metadata": {},
   "source": [
    "### Analysis of the most important features"
   ]
  },
  {
   "cell_type": "markdown",
   "metadata": {},
   "source": [
    "Finally, it is usually a good idea to look at the features (words or n-grams) that are used with the largest weigths in your logistic regression model."
   ]
  },
  {
   "cell_type": "markdown",
   "metadata": {},
   "source": [
    "Implement the function *print_words_for_tag* to find them. Get back to sklearn documentation on [OneVsRestClassifier](http://scikit-learn.org/stable/modules/generated/sklearn.multiclass.OneVsRestClassifier.html) and [LogisticRegression](http://scikit-learn.org/stable/modules/generated/sklearn.linear_model.LogisticRegression.html) if needed."
   ]
  },
  {
   "cell_type": "code",
   "execution_count": 87,
   "metadata": {},
   "outputs": [],
   "source": [
    "def print_words_for_tag(classifier, tag, tags_classes, index_to_words, all_words):\n",
    "    \"\"\"\n",
    "        classifier: trained classifier\n",
    "        tag: particular tag\n",
    "        tags_classes: a list of classes names from MultiLabelBinarizer\n",
    "        index_to_words: index_to_words transformation\n",
    "        all_words: all words in the dictionary\n",
    "        \n",
    "        return nothing, just print top 5 positive and top 5 negative words for current tag\n",
    "    \"\"\"\n",
    "    print('Tag:\\t{}'.format(tag))\n",
    "    \n",
    "    # Extract an estimator from the classifier for the given tag.\n",
    "    # Extract feature coefficients from the estimator. \n",
    "    \n",
    "    print('Tag:\\t{}'.format(tag))\n",
    "    \n",
    "    tag_n = np.where(tags_classes==tag)[0][0]\n",
    "    \n",
    "    model = classifier.estimators_[tag_n]\n",
    "    top_positive_words = [index_to_words[x] for x in model.coef_.argsort().tolist()[0][:4]]# top-5 words sorted by the coefficiens.\n",
    "    top_negative_words =[index_to_words[x] for x in model.coef_.argsort().tolist()[0][-4:]] # bottom-5 words  sorted by the coefficients.\n",
    "    print('Top positive words:\\t{}'.format(', '.join(top_positive_words)))\n",
    "    print('Top negative words:\\t{}\\n'.format(', '.join(top_negative_words)))"
   ]
  },
  {
   "cell_type": "code",
   "execution_count": 88,
   "metadata": {},
   "outputs": [
    {
     "name": "stdout",
     "output_type": "stream",
     "text": [
      "Tag:\tc\n",
      "Tag:\tc\n"
     ]
    },
    {
     "ename": "IndexError",
     "evalue": "index 0 is out of bounds for axis 0 with size 0",
     "output_type": "error",
     "traceback": [
      "\u001b[0;31m---------------------------------------------------------------------------\u001b[0m",
      "\u001b[0;31mIndexError\u001b[0m                                Traceback (most recent call last)",
      "\u001b[0;32m<ipython-input-88-50a0c86782f8>\u001b[0m in \u001b[0;36m<module>\u001b[0;34m()\u001b[0m\n\u001b[0;32m----> 1\u001b[0;31m \u001b[0mprint_words_for_tag\u001b[0m\u001b[0;34m(\u001b[0m\u001b[0mclassifier_tfidf\u001b[0m\u001b[0;34m,\u001b[0m \u001b[0;34m'c'\u001b[0m\u001b[0;34m,\u001b[0m \u001b[0mmlb\u001b[0m\u001b[0;34m.\u001b[0m\u001b[0mclasses\u001b[0m\u001b[0;34m,\u001b[0m \u001b[0mtfidf_reversed_vocab\u001b[0m\u001b[0;34m,\u001b[0m \u001b[0mALL_WORDS\u001b[0m\u001b[0;34m)\u001b[0m\u001b[0;34m\u001b[0m\u001b[0;34m\u001b[0m\u001b[0m\n\u001b[0m\u001b[1;32m      2\u001b[0m \u001b[0mprint_words_for_tag\u001b[0m\u001b[0;34m(\u001b[0m\u001b[0mclassifier_tfidf\u001b[0m\u001b[0;34m,\u001b[0m \u001b[0;34m'c++'\u001b[0m\u001b[0;34m,\u001b[0m \u001b[0mmlb\u001b[0m\u001b[0;34m.\u001b[0m\u001b[0mclasses\u001b[0m\u001b[0;34m,\u001b[0m \u001b[0mtfidf_reversed_vocab\u001b[0m\u001b[0;34m,\u001b[0m \u001b[0mALL_WORDS\u001b[0m\u001b[0;34m)\u001b[0m\u001b[0;34m\u001b[0m\u001b[0;34m\u001b[0m\u001b[0m\n\u001b[1;32m      3\u001b[0m \u001b[0mprint_words_for_tag\u001b[0m\u001b[0;34m(\u001b[0m\u001b[0mclassifier_tfidf\u001b[0m\u001b[0;34m,\u001b[0m \u001b[0;34m'linux'\u001b[0m\u001b[0;34m,\u001b[0m \u001b[0mmlb\u001b[0m\u001b[0;34m.\u001b[0m\u001b[0mclasses\u001b[0m\u001b[0;34m,\u001b[0m \u001b[0mtfidf_reversed_vocab\u001b[0m\u001b[0;34m,\u001b[0m \u001b[0mALL_WORDS\u001b[0m\u001b[0;34m)\u001b[0m\u001b[0;34m\u001b[0m\u001b[0;34m\u001b[0m\u001b[0m\n",
      "\u001b[0;32m<ipython-input-87-b4df39cf7b63>\u001b[0m in \u001b[0;36mprint_words_for_tag\u001b[0;34m(classifier, tag, tags_classes, index_to_words, all_words)\u001b[0m\n\u001b[1;32m     16\u001b[0m     \u001b[0mprint\u001b[0m\u001b[0;34m(\u001b[0m\u001b[0;34m'Tag:\\t{}'\u001b[0m\u001b[0;34m.\u001b[0m\u001b[0mformat\u001b[0m\u001b[0;34m(\u001b[0m\u001b[0mtag\u001b[0m\u001b[0;34m)\u001b[0m\u001b[0;34m)\u001b[0m\u001b[0;34m\u001b[0m\u001b[0;34m\u001b[0m\u001b[0m\n\u001b[1;32m     17\u001b[0m \u001b[0;34m\u001b[0m\u001b[0m\n\u001b[0;32m---> 18\u001b[0;31m     \u001b[0mtag_n\u001b[0m \u001b[0;34m=\u001b[0m \u001b[0mnp\u001b[0m\u001b[0;34m.\u001b[0m\u001b[0mwhere\u001b[0m\u001b[0;34m(\u001b[0m\u001b[0mtags_classes\u001b[0m\u001b[0;34m==\u001b[0m\u001b[0mtag\u001b[0m\u001b[0;34m)\u001b[0m\u001b[0;34m[\u001b[0m\u001b[0;36m0\u001b[0m\u001b[0;34m]\u001b[0m\u001b[0;34m[\u001b[0m\u001b[0;36m0\u001b[0m\u001b[0;34m]\u001b[0m\u001b[0;34m\u001b[0m\u001b[0;34m\u001b[0m\u001b[0m\n\u001b[0m\u001b[1;32m     19\u001b[0m \u001b[0;34m\u001b[0m\u001b[0m\n\u001b[1;32m     20\u001b[0m     \u001b[0mmodel\u001b[0m \u001b[0;34m=\u001b[0m \u001b[0mclassifier\u001b[0m\u001b[0;34m.\u001b[0m\u001b[0mestimators_\u001b[0m\u001b[0;34m[\u001b[0m\u001b[0mtag_n\u001b[0m\u001b[0;34m]\u001b[0m\u001b[0;34m\u001b[0m\u001b[0;34m\u001b[0m\u001b[0m\n",
      "\u001b[0;31mIndexError\u001b[0m: index 0 is out of bounds for axis 0 with size 0"
     ]
    }
   ],
   "source": [
    "print_words_for_tag(classifier_tfidf, 'c', mlb.classes, tfidf_reversed_vocab, ALL_WORDS)\n",
    "print_words_for_tag(classifier_tfidf, 'c++', mlb.classes, tfidf_reversed_vocab, ALL_WORDS)\n",
    "print_words_for_tag(classifier_tfidf, 'linux', mlb.classes, tfidf_reversed_vocab, ALL_WORDS)"
   ]
  },
  {
   "cell_type": "markdown",
   "metadata": {},
   "source": [
    "### Authorization & Submission\n",
    "To submit assignment parts to Cousera platform, please, enter your e-mail and token into variables below. You can generate token on this programming assignment page. <b>Note:</b> Token expires 30 minutes after generation."
   ]
  },
  {
   "cell_type": "code",
   "execution_count": 89,
   "metadata": {},
   "outputs": [
    {
     "name": "stdout",
     "output_type": "stream",
     "text": [
      "You want to submit these parts:\n",
      "Task TextPrepare:\n",
      " sqlite php readonly\n",
      "creating multiple textboxes dynamically\n",
      "self one prefer javascript\n",
      "save php date...\n",
      "Task WordsTagsCount:\n",
      " c#,java,javascript\n",
      "using,c,java...\n",
      "Task BagOfWords:\n",
      " 8...\n",
      "Task MultilabelClassification:\n",
      " 0\t\n",
      "1\t\n",
      "2\t\n",
      "3\t\n",
      "4\t\n",
      "5\t\n",
      "6\t\n",
      "7\t\n",
      "8\t\n",
      "9\t\n",
      "10\t\n",
      "11\t\n",
      "12\t\n",
      "13\t\n",
      "14\t\n",
      "15\t\n",
      "16\t\n",
      "17\t\n",
      "18\t\n",
      "19\t\n",
      "20\t\n",
      "21\t\n",
      "22\t\n",
      "23\t\n",
      "24\t\n",
      "25\t\n",
      "26\t\n",
      "27...\n"
     ]
    }
   ],
   "source": [
    "grader.status()"
   ]
  },
  {
   "cell_type": "code",
   "execution_count": 91,
   "metadata": {},
   "outputs": [
    {
     "name": "stdout",
     "output_type": "stream",
     "text": [
      "You want to submit these parts:\n",
      "Task TextPrepare:\n",
      " sqlite php readonly\n",
      "creating multiple textboxes dynamically\n",
      "self one prefer javascript\n",
      "save php date...\n",
      "Task WordsTagsCount:\n",
      " c#,java,javascript\n",
      "using,c,java...\n",
      "Task BagOfWords:\n",
      " 8...\n",
      "Task MultilabelClassification:\n",
      " 0\t\n",
      "1\t\n",
      "2\t\n",
      "3\t\n",
      "4\t\n",
      "5\t\n",
      "6\t\n",
      "7\t\n",
      "8\t\n",
      "9\t\n",
      "10\t\n",
      "11\t\n",
      "12\t\n",
      "13\t\n",
      "14\t\n",
      "15\t\n",
      "16\t\n",
      "17\t\n",
      "18\t\n",
      "19\t\n",
      "20\t\n",
      "21\t\n",
      "22\t\n",
      "23\t\n",
      "24\t\n",
      "25\t\n",
      "26\t\n",
      "27...\n"
     ]
    }
   ],
   "source": [
    "STUDENT_EMAIL = 'mtatiana@aimsammi.org'# EMAIL \n",
    "STUDENT_TOKEN = 'YmpqlO6nVaSoS1zG'# TOKEN \n",
    "grader.status()"
   ]
  },
  {
   "cell_type": "markdown",
   "metadata": {},
   "source": [
    "If you want to submit these answers, run cell below"
   ]
  },
  {
   "cell_type": "code",
   "execution_count": 92,
   "metadata": {},
   "outputs": [
    {
     "name": "stdout",
     "output_type": "stream",
     "text": [
      "Submitted to Coursera platform. See results on assignment page!\n"
     ]
    }
   ],
   "source": [
    "grader.submit(STUDENT_EMAIL, STUDENT_TOKEN)"
   ]
  },
  {
   "cell_type": "code",
   "execution_count": null,
   "metadata": {},
   "outputs": [],
   "source": []
  }
 ],
 "metadata": {
  "kernelspec": {
   "display_name": "Python 3",
   "language": "python",
   "name": "python3"
  },
  "language_info": {
   "codemirror_mode": {
    "name": "ipython",
    "version": 3
   },
   "file_extension": ".py",
   "mimetype": "text/x-python",
   "name": "python",
   "nbconvert_exporter": "python",
   "pygments_lexer": "ipython3",
   "version": "3.7.3"
  }
 },
 "nbformat": 4,
 "nbformat_minor": 2
}
